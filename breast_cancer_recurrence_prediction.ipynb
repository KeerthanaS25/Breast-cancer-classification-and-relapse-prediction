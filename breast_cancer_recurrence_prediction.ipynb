{
  "metadata": {
    "kernelspec": {
      "language": "python",
      "display_name": "Python 3",
      "name": "python3"
    },
    "language_info": {
      "name": "python",
      "version": "3.7.6",
      "mimetype": "text/x-python",
      "codemirror_mode": {
        "name": "ipython",
        "version": 3
      },
      "pygments_lexer": "ipython3",
      "nbconvert_exporter": "python",
      "file_extension": ".py"
    },
    "colab": {
      "provenance": []
    }
  },
  "nbformat_minor": 0,
  "nbformat": 4,
  "cells": [
    {
      "cell_type": "markdown",
      "source": [
        "## Breast Cancer Recurrence Detection"
      ],
      "metadata": {
        "id": "O_jNbqvblb7b"
      }
    },
    {
      "cell_type": "markdown",
      "source": [],
      "metadata": {
        "id": "LjJWBwm3wdXE"
      }
    },
    {
      "cell_type": "code",
      "source": [],
      "metadata": {
        "id": "jqbnBC-owdxx"
      },
      "execution_count": null,
      "outputs": []
    },
    {
      "cell_type": "code",
      "source": [
        "# importing Libraries\n",
        "import numpy as np\n",
        "import pandas as pd\n",
        "import matplotlib.pyplot as plt\n",
        "import seaborn as sns"
      ],
      "metadata": {
        "execution": {
          "iopub.status.busy": "2023-03-21T09:48:29.674090Z",
          "iopub.execute_input": "2023-03-21T09:48:29.674511Z",
          "iopub.status.idle": "2023-03-21T09:48:30.688367Z",
          "shell.execute_reply.started": "2023-03-21T09:48:29.674477Z",
          "shell.execute_reply": "2023-03-21T09:48:30.687328Z"
        },
        "trusted": true,
        "id": "RG_xmVXUlb7q"
      },
      "execution_count": null,
      "outputs": []
    },
    {
      "cell_type": "code",
      "source": [
        "# load dataset\n",
        "df = pd.read_excel('/content/Clinical_and_Other_Features.xlsx')"
      ],
      "metadata": {
        "execution": {
          "iopub.status.busy": "2023-03-21T09:48:30.691371Z",
          "iopub.execute_input": "2023-03-21T09:48:30.691724Z",
          "iopub.status.idle": "2023-03-21T09:48:32.365777Z",
          "shell.execute_reply.started": "2023-03-21T09:48:30.691690Z",
          "shell.execute_reply": "2023-03-21T09:48:32.364095Z"
        },
        "trusted": true,
        "id": "nzxHzrSClb7s"
      },
      "execution_count": null,
      "outputs": []
    },
    {
      "cell_type": "code",
      "source": [
        "df.head()\n"
      ],
      "metadata": {
        "execution": {
          "iopub.status.busy": "2023-03-21T09:48:32.367662Z",
          "iopub.execute_input": "2023-03-21T09:48:32.368052Z",
          "iopub.status.idle": "2023-03-21T09:48:32.405134Z",
          "shell.execute_reply.started": "2023-03-21T09:48:32.368017Z",
          "shell.execute_reply": "2023-03-21T09:48:32.403966Z"
        },
        "trusted": true,
        "colab": {
          "base_uri": "https://localhost:8080/",
          "height": 438
        },
        "id": "kd6Uc3Rtlb7s",
        "outputId": "b24b7e69-9a1e-4fcb-a1a7-bd2d3acdeff1"
      },
      "execution_count": null,
      "outputs": [
        {
          "output_type": "execute_result",
          "data": {
            "text/plain": [
              "   Date of Birth (Days)  Menopause (at diagnosis)  \\\n",
              "0                -15209                         0   \n",
              "1                -14061                         0   \n",
              "2                -22685                         1   \n",
              "3                -21479                         1   \n",
              "4                -13932                         0   \n",
              "\n",
              "   Metastatic at Presentation (Outside of Lymph Nodes)  ER  PR  HER2  \\\n",
              "0                                                  0     0   0     1   \n",
              "1                                                  0     0   0     0   \n",
              "2                                                  0     1   1     0   \n",
              "3                                                  0     1   1     0   \n",
              "4                                                  0     1   0     1   \n",
              "\n",
              "   Mol Subtype  Oncotype score  Staging(Tumor Size)# [T]  \\\n",
              "0            2             NaN                       2.0   \n",
              "1            3             NaN                       2.0   \n",
              "2            0             8.0                       2.0   \n",
              "3            0            14.0                       1.0   \n",
              "4            1             NaN                       2.0   \n",
              "\n",
              "   Staging(Nodes)#(Nx replaced by -1)[N]  ...  \\\n",
              "0                                    1.0  ...   \n",
              "1                                    0.0  ...   \n",
              "2                                    1.0  ...   \n",
              "3                                    0.0  ...   \n",
              "4                                    1.0  ...   \n",
              "\n",
              "   Therapeutic or Prophylactic Oophorectomy as part of Endocrine Therapy   \\\n",
              "0                                                  1                        \n",
              "1                                                  0                        \n",
              "2                                                  0                        \n",
              "3                                                  0                        \n",
              "4                                                  0                        \n",
              "\n",
              "   Neoadjuvant Anti-Her2 Neu Therapy  Adjuvant Anti-Her2 Neu Therapy   \\\n",
              "0                                1.0                              1.0   \n",
              "1                                0.0                              0.0   \n",
              "2                                0.0                              0.0   \n",
              "3                                0.0                              0.0   \n",
              "4                                1.0                              1.0   \n",
              "\n",
              "   Received Neoadjuvant Therapy or Not  \\\n",
              "0                                  1.0   \n",
              "1                                  1.0   \n",
              "2                                  1.0   \n",
              "3                                  2.0   \n",
              "4                                  1.0   \n",
              "\n",
              "   Pathologic response to Neoadjuvant therapy: Pathologic stage (T) following neoadjuvant therapy   \\\n",
              "0                                                1.0                                                 \n",
              "1                                                NaN                                                 \n",
              "2                                                1.0                                                 \n",
              "3                                                NaN                                                 \n",
              "4                                                0.0                                                 \n",
              "\n",
              "   Pathologic response to Neoadjuvant therapy:  Pathologic stage (N) following neoadjuvant therapy  \\\n",
              "0                                               -1.0                                                 \n",
              "1                                                NaN                                                 \n",
              "2                                                1.0                                                 \n",
              "3                                                NaN                                                 \n",
              "4                                                0.0                                                 \n",
              "\n",
              "  Pathologic response to Neoadjuvant therapy:  Pathologic stage (M) following neoadjuvant therapy   \\\n",
              "0                                               -1.0                                                 \n",
              "1                                                NaN                                                 \n",
              "2                                               -1.0                                                 \n",
              "3                                                NaN                                                 \n",
              "4                                               -1.0                                                 \n",
              "\n",
              "  Overall Near-complete Response:  Stricter Definition  \\\n",
              "0                                                0.0     \n",
              "1                                                2.0     \n",
              "2                                                0.0     \n",
              "3                                                NaN     \n",
              "4                                                1.0     \n",
              "\n",
              "  Overall Near-complete Response:  Looser Definition  \\\n",
              "0                                                0.0   \n",
              "1                                                2.0   \n",
              "2                                                0.0   \n",
              "3                                                NaN   \n",
              "4                                                1.0   \n",
              "\n",
              "   Near-complete Response (Graded Measure)  \n",
              "0                                      0.0  \n",
              "1                                      4.0  \n",
              "2                                      0.0  \n",
              "3                                      NaN  \n",
              "4                                      1.0  \n",
              "\n",
              "[5 rows x 56 columns]"
            ],
            "text/html": [
              "\n",
              "  <div id=\"df-e267d7c9-9c9d-4de9-a091-69387a5bff35\">\n",
              "    <div class=\"colab-df-container\">\n",
              "      <div>\n",
              "<style scoped>\n",
              "    .dataframe tbody tr th:only-of-type {\n",
              "        vertical-align: middle;\n",
              "    }\n",
              "\n",
              "    .dataframe tbody tr th {\n",
              "        vertical-align: top;\n",
              "    }\n",
              "\n",
              "    .dataframe thead th {\n",
              "        text-align: right;\n",
              "    }\n",
              "</style>\n",
              "<table border=\"1\" class=\"dataframe\">\n",
              "  <thead>\n",
              "    <tr style=\"text-align: right;\">\n",
              "      <th></th>\n",
              "      <th>Date of Birth (Days)</th>\n",
              "      <th>Menopause (at diagnosis)</th>\n",
              "      <th>Metastatic at Presentation (Outside of Lymph Nodes)</th>\n",
              "      <th>ER</th>\n",
              "      <th>PR</th>\n",
              "      <th>HER2</th>\n",
              "      <th>Mol Subtype</th>\n",
              "      <th>Oncotype score</th>\n",
              "      <th>Staging(Tumor Size)# [T]</th>\n",
              "      <th>Staging(Nodes)#(Nx replaced by -1)[N]</th>\n",
              "      <th>...</th>\n",
              "      <th>Therapeutic or Prophylactic Oophorectomy as part of Endocrine Therapy</th>\n",
              "      <th>Neoadjuvant Anti-Her2 Neu Therapy</th>\n",
              "      <th>Adjuvant Anti-Her2 Neu Therapy</th>\n",
              "      <th>Received Neoadjuvant Therapy or Not</th>\n",
              "      <th>Pathologic response to Neoadjuvant therapy: Pathologic stage (T) following neoadjuvant therapy</th>\n",
              "      <th>Pathologic response to Neoadjuvant therapy:  Pathologic stage (N) following neoadjuvant therapy</th>\n",
              "      <th>Pathologic response to Neoadjuvant therapy:  Pathologic stage (M) following neoadjuvant therapy</th>\n",
              "      <th>Overall Near-complete Response:  Stricter Definition</th>\n",
              "      <th>Overall Near-complete Response:  Looser Definition</th>\n",
              "      <th>Near-complete Response (Graded Measure)</th>\n",
              "    </tr>\n",
              "  </thead>\n",
              "  <tbody>\n",
              "    <tr>\n",
              "      <th>0</th>\n",
              "      <td>-15209</td>\n",
              "      <td>0</td>\n",
              "      <td>0</td>\n",
              "      <td>0</td>\n",
              "      <td>0</td>\n",
              "      <td>1</td>\n",
              "      <td>2</td>\n",
              "      <td>NaN</td>\n",
              "      <td>2.0</td>\n",
              "      <td>1.0</td>\n",
              "      <td>...</td>\n",
              "      <td>1</td>\n",
              "      <td>1.0</td>\n",
              "      <td>1.0</td>\n",
              "      <td>1.0</td>\n",
              "      <td>1.0</td>\n",
              "      <td>-1.0</td>\n",
              "      <td>-1.0</td>\n",
              "      <td>0.0</td>\n",
              "      <td>0.0</td>\n",
              "      <td>0.0</td>\n",
              "    </tr>\n",
              "    <tr>\n",
              "      <th>1</th>\n",
              "      <td>-14061</td>\n",
              "      <td>0</td>\n",
              "      <td>0</td>\n",
              "      <td>0</td>\n",
              "      <td>0</td>\n",
              "      <td>0</td>\n",
              "      <td>3</td>\n",
              "      <td>NaN</td>\n",
              "      <td>2.0</td>\n",
              "      <td>0.0</td>\n",
              "      <td>...</td>\n",
              "      <td>0</td>\n",
              "      <td>0.0</td>\n",
              "      <td>0.0</td>\n",
              "      <td>1.0</td>\n",
              "      <td>NaN</td>\n",
              "      <td>NaN</td>\n",
              "      <td>NaN</td>\n",
              "      <td>2.0</td>\n",
              "      <td>2.0</td>\n",
              "      <td>4.0</td>\n",
              "    </tr>\n",
              "    <tr>\n",
              "      <th>2</th>\n",
              "      <td>-22685</td>\n",
              "      <td>1</td>\n",
              "      <td>0</td>\n",
              "      <td>1</td>\n",
              "      <td>1</td>\n",
              "      <td>0</td>\n",
              "      <td>0</td>\n",
              "      <td>8.0</td>\n",
              "      <td>2.0</td>\n",
              "      <td>1.0</td>\n",
              "      <td>...</td>\n",
              "      <td>0</td>\n",
              "      <td>0.0</td>\n",
              "      <td>0.0</td>\n",
              "      <td>1.0</td>\n",
              "      <td>1.0</td>\n",
              "      <td>1.0</td>\n",
              "      <td>-1.0</td>\n",
              "      <td>0.0</td>\n",
              "      <td>0.0</td>\n",
              "      <td>0.0</td>\n",
              "    </tr>\n",
              "    <tr>\n",
              "      <th>3</th>\n",
              "      <td>-21479</td>\n",
              "      <td>1</td>\n",
              "      <td>0</td>\n",
              "      <td>1</td>\n",
              "      <td>1</td>\n",
              "      <td>0</td>\n",
              "      <td>0</td>\n",
              "      <td>14.0</td>\n",
              "      <td>1.0</td>\n",
              "      <td>0.0</td>\n",
              "      <td>...</td>\n",
              "      <td>0</td>\n",
              "      <td>0.0</td>\n",
              "      <td>0.0</td>\n",
              "      <td>2.0</td>\n",
              "      <td>NaN</td>\n",
              "      <td>NaN</td>\n",
              "      <td>NaN</td>\n",
              "      <td>NaN</td>\n",
              "      <td>NaN</td>\n",
              "      <td>NaN</td>\n",
              "    </tr>\n",
              "    <tr>\n",
              "      <th>4</th>\n",
              "      <td>-13932</td>\n",
              "      <td>0</td>\n",
              "      <td>0</td>\n",
              "      <td>1</td>\n",
              "      <td>0</td>\n",
              "      <td>1</td>\n",
              "      <td>1</td>\n",
              "      <td>NaN</td>\n",
              "      <td>2.0</td>\n",
              "      <td>1.0</td>\n",
              "      <td>...</td>\n",
              "      <td>0</td>\n",
              "      <td>1.0</td>\n",
              "      <td>1.0</td>\n",
              "      <td>1.0</td>\n",
              "      <td>0.0</td>\n",
              "      <td>0.0</td>\n",
              "      <td>-1.0</td>\n",
              "      <td>1.0</td>\n",
              "      <td>1.0</td>\n",
              "      <td>1.0</td>\n",
              "    </tr>\n",
              "  </tbody>\n",
              "</table>\n",
              "<p>5 rows × 56 columns</p>\n",
              "</div>\n",
              "      <button class=\"colab-df-convert\" onclick=\"convertToInteractive('df-e267d7c9-9c9d-4de9-a091-69387a5bff35')\"\n",
              "              title=\"Convert this dataframe to an interactive table.\"\n",
              "              style=\"display:none;\">\n",
              "        \n",
              "  <svg xmlns=\"http://www.w3.org/2000/svg\" height=\"24px\"viewBox=\"0 0 24 24\"\n",
              "       width=\"24px\">\n",
              "    <path d=\"M0 0h24v24H0V0z\" fill=\"none\"/>\n",
              "    <path d=\"M18.56 5.44l.94 2.06.94-2.06 2.06-.94-2.06-.94-.94-2.06-.94 2.06-2.06.94zm-11 1L8.5 8.5l.94-2.06 2.06-.94-2.06-.94L8.5 2.5l-.94 2.06-2.06.94zm10 10l.94 2.06.94-2.06 2.06-.94-2.06-.94-.94-2.06-.94 2.06-2.06.94z\"/><path d=\"M17.41 7.96l-1.37-1.37c-.4-.4-.92-.59-1.43-.59-.52 0-1.04.2-1.43.59L10.3 9.45l-7.72 7.72c-.78.78-.78 2.05 0 2.83L4 21.41c.39.39.9.59 1.41.59.51 0 1.02-.2 1.41-.59l7.78-7.78 2.81-2.81c.8-.78.8-2.07 0-2.86zM5.41 20L4 18.59l7.72-7.72 1.47 1.35L5.41 20z\"/>\n",
              "  </svg>\n",
              "      </button>\n",
              "      \n",
              "  <style>\n",
              "    .colab-df-container {\n",
              "      display:flex;\n",
              "      flex-wrap:wrap;\n",
              "      gap: 12px;\n",
              "    }\n",
              "\n",
              "    .colab-df-convert {\n",
              "      background-color: #E8F0FE;\n",
              "      border: none;\n",
              "      border-radius: 50%;\n",
              "      cursor: pointer;\n",
              "      display: none;\n",
              "      fill: #1967D2;\n",
              "      height: 32px;\n",
              "      padding: 0 0 0 0;\n",
              "      width: 32px;\n",
              "    }\n",
              "\n",
              "    .colab-df-convert:hover {\n",
              "      background-color: #E2EBFA;\n",
              "      box-shadow: 0px 1px 2px rgba(60, 64, 67, 0.3), 0px 1px 3px 1px rgba(60, 64, 67, 0.15);\n",
              "      fill: #174EA6;\n",
              "    }\n",
              "\n",
              "    [theme=dark] .colab-df-convert {\n",
              "      background-color: #3B4455;\n",
              "      fill: #D2E3FC;\n",
              "    }\n",
              "\n",
              "    [theme=dark] .colab-df-convert:hover {\n",
              "      background-color: #434B5C;\n",
              "      box-shadow: 0px 1px 3px 1px rgba(0, 0, 0, 0.15);\n",
              "      filter: drop-shadow(0px 1px 2px rgba(0, 0, 0, 0.3));\n",
              "      fill: #FFFFFF;\n",
              "    }\n",
              "  </style>\n",
              "\n",
              "      <script>\n",
              "        const buttonEl =\n",
              "          document.querySelector('#df-e267d7c9-9c9d-4de9-a091-69387a5bff35 button.colab-df-convert');\n",
              "        buttonEl.style.display =\n",
              "          google.colab.kernel.accessAllowed ? 'block' : 'none';\n",
              "\n",
              "        async function convertToInteractive(key) {\n",
              "          const element = document.querySelector('#df-e267d7c9-9c9d-4de9-a091-69387a5bff35');\n",
              "          const dataTable =\n",
              "            await google.colab.kernel.invokeFunction('convertToInteractive',\n",
              "                                                     [key], {});\n",
              "          if (!dataTable) return;\n",
              "\n",
              "          const docLinkHtml = 'Like what you see? Visit the ' +\n",
              "            '<a target=\"_blank\" href=https://colab.research.google.com/notebooks/data_table.ipynb>data table notebook</a>'\n",
              "            + ' to learn more about interactive tables.';\n",
              "          element.innerHTML = '';\n",
              "          dataTable['output_type'] = 'display_data';\n",
              "          await google.colab.output.renderOutput(dataTable, element);\n",
              "          const docLink = document.createElement('div');\n",
              "          docLink.innerHTML = docLinkHtml;\n",
              "          element.appendChild(docLink);\n",
              "        }\n",
              "      </script>\n",
              "    </div>\n",
              "  </div>\n",
              "  "
            ]
          },
          "metadata": {},
          "execution_count": 229
        }
      ]
    },
    {
      "cell_type": "code",
      "source": [
        "df.info()"
      ],
      "metadata": {
        "execution": {
          "iopub.status.busy": "2023-03-21T09:48:32.406877Z",
          "iopub.execute_input": "2023-03-21T09:48:32.407340Z",
          "iopub.status.idle": "2023-03-21T09:48:32.437446Z",
          "shell.execute_reply.started": "2023-03-21T09:48:32.407291Z",
          "shell.execute_reply": "2023-03-21T09:48:32.436567Z"
        },
        "trusted": true,
        "colab": {
          "base_uri": "https://localhost:8080/"
        },
        "id": "QQaaCfXYlb7w",
        "outputId": "25f67d35-6c8a-4575-d843-ca9a9c61d709"
      },
      "execution_count": null,
      "outputs": [
        {
          "output_type": "stream",
          "name": "stdout",
          "text": [
            "<class 'pandas.core.frame.DataFrame'>\n",
            "RangeIndex: 922 entries, 0 to 921\n",
            "Data columns (total 56 columns):\n",
            " #   Column                                                                                                                                                                Non-Null Count  Dtype  \n",
            "---  ------                                                                                                                                                                --------------  -----  \n",
            " 0   Date of Birth (Days)                                                                                                                                                  922 non-null    int64  \n",
            " 1   Menopause (at diagnosis)                                                                                                                                              922 non-null    int64  \n",
            " 2   Metastatic at Presentation (Outside of Lymph Nodes)                                                                                                                   922 non-null    int64  \n",
            " 3   ER                                                                                                                                                                    922 non-null    int64  \n",
            " 4   PR                                                                                                                                                                    922 non-null    int64  \n",
            " 5   HER2                                                                                                                                                                  922 non-null    int64  \n",
            " 6   Mol Subtype                                                                                                                                                           922 non-null    int64  \n",
            " 7   Oncotype score                                                                                                                                                        261 non-null    float64\n",
            " 8   Staging(Tumor Size)# [T]                                                                                                                                              916 non-null    float64\n",
            " 9   Staging(Nodes)#(Nx replaced by -1)[N]                                                                                                                                 898 non-null    float64\n",
            " 10  Staging(Metastasis)#(Mx -replaced by -1)[M]                                                                                                                           922 non-null    int64  \n",
            " 11  Tumor Grade(T)\n",
            "(Tubule)                                                                                                                                               907 non-null    float64\n",
            " 12  Tumor Grade(N)\n",
            "(Nuclear)                                                                                                                                              915 non-null    float64\n",
            " 13  Tumor Grade(M)\n",
            "(Mitotic)                                                                                                                                              901 non-null    float64\n",
            " 14  Nottingham grade                                                                                                                                                      638 non-null    float64\n",
            " 15  Histologic type                                                                                                                                                       646 non-null    float64\n",
            " 16  Tumor Location                                                                                                                                                        651 non-null    object \n",
            " 17  Position                                                                                                                                                              922 non-null    object \n",
            " 18  Bilateral Information                                                                                                                                                 922 non-null    object \n",
            " 19  Multicentric/Multifocal                                                                                                                                               922 non-null    int64  \n",
            " 20  Contralateral Breast Involvement                                                                                                                                      922 non-null    int64  \n",
            " 21  Lymphadenopathy or Suspicious Nodes                                                                                                                                   922 non-null    int64  \n",
            " 22  Skin/Nipple Invovlement                                                                                                                                               922 non-null    int64  \n",
            " 23  Pec/Chest Involvement                                                                                                                                                 922 non-null    int64  \n",
            " 24  Surgery                                                                                                                                                               915 non-null    float64\n",
            " 25  Days to Surgery (from the date of diagnosis)                                                                                                                          911 non-null    object \n",
            " 26  Definitive Surgery Type                                                                                                                                               915 non-null    object \n",
            " 27  Neoadjuvant Radiation Therapy                                                                                                                                         914 non-null    float64\n",
            " 28  Adjuvant Radiation Therapy                                                                                                                                            913 non-null    float64\n",
            " 29  Clinical Response, Evaluated Through Imaging                                                                                                                          312 non-null    float64\n",
            " 30  Pathologic Response to Neoadjuvant Therapy                                                                                                                            312 non-null    float64\n",
            " 31  Recurrence event                                                                                                                                                      920 non-null    float64\n",
            " 32  Days to local recurrence (from the date of diagnosis)                                                                                                                 922 non-null    object \n",
            " 33  Days to distant recurrence(from the date of diagnosis)                                                                                                                922 non-null    object \n",
            " 34  Days to death (from the date of diagnosis)                                                                                                                            922 non-null    object \n",
            " 35  Days to last local recurrence free assessment (from the date of diagnosis)                                                                                            920 non-null    object \n",
            " 36  Days to last distant recurrence free assemssment(from the date of diagnosis)                                                                                          920 non-null    object \n",
            " 37  Age at last contact in EMR f/u(days)(from the date of diagnosis) ,last time patient known to be alive, unless age of death is reported(in such case the age of death  651 non-null    float64\n",
            " 38  Age at mammo (days)                                                                                                                                                   784 non-null    object \n",
            " 39  Tumor Size (cm)                                                                                                                                                       748 non-null    object \n",
            " 40  Neoadjuvant Chemotherapy                                                                                                                                              893 non-null    float64\n",
            " 41  Adjuvant Chemotherapy                                                                                                                                                 873 non-null    float64\n",
            " 42  Neoadjuvant Endocrine Therapy Medications                                                                                                                             892 non-null    float64\n",
            " 43  Adjuvant Endocrine Therapy Medications                                                                                                                                868 non-null    float64\n",
            " 44  Known Ovarian Status                                                                                                                                                  922 non-null    int64  \n",
            " 45  Number of Ovaries In Situ \n",
            "                                                                                                                                           922 non-null    object \n",
            " 46  Therapeutic or Prophylactic Oophorectomy as part of Endocrine Therapy                                                                                                 922 non-null    int64  \n",
            " 47  Neoadjuvant Anti-Her2 Neu Therapy                                                                                                                                     892 non-null    float64\n",
            " 48  Adjuvant Anti-Her2 Neu Therapy                                                                                                                                        871 non-null    float64\n",
            " 49  Received Neoadjuvant Therapy or Not                                                                                                                                   893 non-null    float64\n",
            " 50  Pathologic response to Neoadjuvant therapy: Pathologic stage (T) following neoadjuvant therapy                                                                        269 non-null    float64\n",
            " 51  Pathologic response to Neoadjuvant therapy:  Pathologic stage (N) following neoadjuvant therapy                                                                       270 non-null    float64\n",
            " 52  Pathologic response to Neoadjuvant therapy:  Pathologic stage (M) following neoadjuvant therapy                                                                       265 non-null    float64\n",
            " 53  Overall Near-complete Response:  Stricter Definition                                                                                                                  312 non-null    float64\n",
            " 54  Overall Near-complete Response:  Looser Definition                                                                                                                    312 non-null    float64\n",
            " 55  Near-complete Response (Graded Measure)                                                                                                                               312 non-null    float64\n",
            "dtypes: float64(28), int64(15), object(13)\n",
            "memory usage: 403.5+ KB\n"
          ]
        }
      ]
    },
    {
      "cell_type": "code",
      "source": [],
      "metadata": {
        "id": "IN_5sQ5zlb7x"
      },
      "execution_count": null,
      "outputs": []
    },
    {
      "cell_type": "markdown",
      "source": [
        "#  Data Preprocessing"
      ],
      "metadata": {
        "id": "bCJIfqw-lb7x"
      }
    },
    {
      "cell_type": "code",
      "source": [
        "df.columns = [c.replace(' ', '_') for c in df.columns]\n",
        "df.columns = [x.replace('(', '') for x in df.columns]\n",
        "df.columns = [y.replace(')', '') for y in df.columns]\n"
      ],
      "metadata": {
        "execution": {
          "iopub.status.busy": "2023-03-21T09:48:32.455563Z",
          "iopub.execute_input": "2023-03-21T09:48:32.456155Z",
          "iopub.status.idle": "2023-03-21T09:48:32.468139Z",
          "shell.execute_reply.started": "2023-03-21T09:48:32.456115Z",
          "shell.execute_reply": "2023-03-21T09:48:32.466991Z"
        },
        "trusted": true,
        "id": "yu_EBCz2lb7y"
      },
      "execution_count": null,
      "outputs": []
    },
    {
      "cell_type": "code",
      "source": [
        "df.info()"
      ],
      "metadata": {
        "execution": {
          "iopub.status.busy": "2023-03-21T09:48:32.469579Z",
          "iopub.execute_input": "2023-03-21T09:48:32.469903Z",
          "iopub.status.idle": "2023-03-21T09:48:32.500861Z",
          "shell.execute_reply.started": "2023-03-21T09:48:32.469870Z",
          "shell.execute_reply": "2023-03-21T09:48:32.499936Z"
        },
        "trusted": true,
        "colab": {
          "base_uri": "https://localhost:8080/"
        },
        "id": "d5tH8qWSlb7z",
        "outputId": "5ac09064-2ecf-4ae0-bd62-b3df9b1c2e81"
      },
      "execution_count": null,
      "outputs": [
        {
          "output_type": "stream",
          "name": "stdout",
          "text": [
            "<class 'pandas.core.frame.DataFrame'>\n",
            "RangeIndex: 922 entries, 0 to 921\n",
            "Data columns (total 56 columns):\n",
            " #   Column                                                                                                                                                           Non-Null Count  Dtype  \n",
            "---  ------                                                                                                                                                           --------------  -----  \n",
            " 0   Date_of_Birth_Days                                                                                                                                               922 non-null    int64  \n",
            " 1   Menopause_at_diagnosis                                                                                                                                           922 non-null    int64  \n",
            " 2   Metastatic_at_Presentation_Outside_of_Lymph_Nodes                                                                                                                922 non-null    int64  \n",
            " 3   ER                                                                                                                                                               922 non-null    int64  \n",
            " 4   PR                                                                                                                                                               922 non-null    int64  \n",
            " 5   HER2                                                                                                                                                             922 non-null    int64  \n",
            " 6   Mol_Subtype                                                                                                                                                      922 non-null    int64  \n",
            " 7   Oncotype_score                                                                                                                                                   261 non-null    float64\n",
            " 8   StagingTumor_Size#_[T]                                                                                                                                           916 non-null    float64\n",
            " 9   StagingNodes#Nx_replaced_by_-1[N]                                                                                                                                898 non-null    float64\n",
            " 10  StagingMetastasis#Mx_-replaced_by_-1[M]                                                                                                                          922 non-null    int64  \n",
            " 11  Tumor_GradeT\n",
            "Tubule                                                                                                                                              907 non-null    float64\n",
            " 12  Tumor_GradeN\n",
            "Nuclear                                                                                                                                             915 non-null    float64\n",
            " 13  Tumor_GradeM\n",
            "Mitotic                                                                                                                                             901 non-null    float64\n",
            " 14  Nottingham_grade                                                                                                                                                 638 non-null    float64\n",
            " 15  Histologic_type                                                                                                                                                  646 non-null    float64\n",
            " 16  Tumor_Location                                                                                                                                                   651 non-null    object \n",
            " 17  Position                                                                                                                                                         922 non-null    object \n",
            " 18  Bilateral_Information                                                                                                                                            922 non-null    object \n",
            " 19  Multicentric/Multifocal                                                                                                                                          922 non-null    int64  \n",
            " 20  Contralateral_Breast_Involvement                                                                                                                                 922 non-null    int64  \n",
            " 21  Lymphadenopathy_or_Suspicious_Nodes                                                                                                                              922 non-null    int64  \n",
            " 22  Skin/Nipple_Invovlement                                                                                                                                          922 non-null    int64  \n",
            " 23  Pec/Chest_Involvement                                                                                                                                            922 non-null    int64  \n",
            " 24  Surgery                                                                                                                                                          915 non-null    float64\n",
            " 25  Days_to_Surgery_from_the_date_of_diagnosis                                                                                                                       911 non-null    object \n",
            " 26  Definitive_Surgery_Type                                                                                                                                          915 non-null    object \n",
            " 27  Neoadjuvant_Radiation_Therapy                                                                                                                                    914 non-null    float64\n",
            " 28  Adjuvant_Radiation_Therapy                                                                                                                                       913 non-null    float64\n",
            " 29  Clinical_Response,_Evaluated_Through_Imaging_                                                                                                                    312 non-null    float64\n",
            " 30  Pathologic_Response_to_Neoadjuvant_Therapy                                                                                                                       312 non-null    float64\n",
            " 31  Recurrence_event                                                                                                                                                 920 non-null    float64\n",
            " 32  Days_to_local_recurrence_from_the_date_of_diagnosis_                                                                                                             922 non-null    object \n",
            " 33  Days_to_distant_recurrencefrom_the_date_of_diagnosis_                                                                                                            922 non-null    object \n",
            " 34  Days_to_death_from_the_date_of_diagnosis_                                                                                                                        922 non-null    object \n",
            " 35  Days_to_last_local_recurrence_free_assessment_from_the_date_of_diagnosis_                                                                                        920 non-null    object \n",
            " 36  Days_to_last_distant_recurrence_free_assemssmentfrom_the_date_of_diagnosis_                                                                                      920 non-null    object \n",
            " 37  Age_at_last_contact_in_EMR_f/udaysfrom_the_date_of_diagnosis_,last_time_patient_known_to_be_alive,_unless_age_of_death_is_reportedin_such_case_the_age_of_death  651 non-null    float64\n",
            " 38  Age_at_mammo_days                                                                                                                                                784 non-null    object \n",
            " 39  Tumor_Size_cm                                                                                                                                                    748 non-null    object \n",
            " 40  Neoadjuvant_Chemotherapy                                                                                                                                         893 non-null    float64\n",
            " 41  Adjuvant_Chemotherapy                                                                                                                                            873 non-null    float64\n",
            " 42  Neoadjuvant_Endocrine_Therapy_Medications_                                                                                                                       892 non-null    float64\n",
            " 43  Adjuvant_Endocrine_Therapy_Medications_                                                                                                                          868 non-null    float64\n",
            " 44  Known_Ovarian_Status_                                                                                                                                            922 non-null    int64  \n",
            " 45  Number_of_Ovaries_In_Situ_\n",
            "                                                                                                                                      922 non-null    object \n",
            " 46  Therapeutic_or_Prophylactic_Oophorectomy_as_part_of_Endocrine_Therapy_                                                                                           922 non-null    int64  \n",
            " 47  Neoadjuvant_Anti-Her2_Neu_Therapy                                                                                                                                892 non-null    float64\n",
            " 48  Adjuvant_Anti-Her2_Neu_Therapy_                                                                                                                                  871 non-null    float64\n",
            " 49  Received_Neoadjuvant_Therapy_or_Not                                                                                                                              893 non-null    float64\n",
            " 50  Pathologic_response_to_Neoadjuvant_therapy:_Pathologic_stage_T_following_neoadjuvant_therapy_                                                                    269 non-null    float64\n",
            " 51  Pathologic_response_to_Neoadjuvant_therapy:__Pathologic_stage_N_following_neoadjuvant_therapy                                                                    270 non-null    float64\n",
            " 52  Pathologic_response_to_Neoadjuvant_therapy:__Pathologic_stage_M_following_neoadjuvant_therapy_                                                                   265 non-null    float64\n",
            " 53  Overall_Near-complete_Response:__Stricter_Definition                                                                                                             312 non-null    float64\n",
            " 54  Overall_Near-complete_Response:__Looser_Definition                                                                                                               312 non-null    float64\n",
            " 55  Near-complete_Response_Graded_Measure                                                                                                                            312 non-null    float64\n",
            "dtypes: float64(28), int64(15), object(13)\n",
            "memory usage: 403.5+ KB\n"
          ]
        }
      ]
    },
    {
      "cell_type": "code",
      "source": [
        "df['Recurrence_event'].value_counts()"
      ],
      "metadata": {
        "execution": {
          "iopub.status.busy": "2023-03-21T09:48:32.502026Z",
          "iopub.execute_input": "2023-03-21T09:48:32.502319Z",
          "iopub.status.idle": "2023-03-21T09:48:32.514300Z",
          "shell.execute_reply.started": "2023-03-21T09:48:32.502292Z",
          "shell.execute_reply": "2023-03-21T09:48:32.512980Z"
        },
        "trusted": true,
        "colab": {
          "base_uri": "https://localhost:8080/"
        },
        "id": "VwW89Q_Klb7z",
        "outputId": "52f95d1b-cfce-4dce-8954-e146eec73d7b"
      },
      "execution_count": null,
      "outputs": [
        {
          "output_type": "execute_result",
          "data": {
            "text/plain": [
              "0.0    833\n",
              "1.0     87\n",
              "Name: Recurrence_event, dtype: int64"
            ]
          },
          "metadata": {},
          "execution_count": 233
        }
      ]
    },
    {
      "cell_type": "code",
      "source": [
        "df.dtypes"
      ],
      "metadata": {
        "execution": {
          "iopub.status.busy": "2023-03-21T09:48:32.707332Z",
          "iopub.execute_input": "2023-03-21T09:48:32.707615Z",
          "iopub.status.idle": "2023-03-21T09:48:32.718184Z",
          "shell.execute_reply.started": "2023-03-21T09:48:32.707587Z",
          "shell.execute_reply": "2023-03-21T09:48:32.716942Z"
        },
        "trusted": true,
        "colab": {
          "base_uri": "https://localhost:8080/"
        },
        "id": "5p5o0Bftlb71",
        "outputId": "b4a8a4f1-c566-4fe5-d58d-1a53659faa44"
      },
      "execution_count": null,
      "outputs": [
        {
          "output_type": "execute_result",
          "data": {
            "text/plain": [
              "Date_of_Birth_Days                                                                                                                                                   int64\n",
              "Menopause_at_diagnosis                                                                                                                                               int64\n",
              "Metastatic_at_Presentation_Outside_of_Lymph_Nodes                                                                                                                    int64\n",
              "ER                                                                                                                                                                   int64\n",
              "PR                                                                                                                                                                   int64\n",
              "HER2                                                                                                                                                                 int64\n",
              "Mol_Subtype                                                                                                                                                          int64\n",
              "Oncotype_score                                                                                                                                                     float64\n",
              "StagingTumor_Size#_[T]                                                                                                                                             float64\n",
              "StagingNodes#Nx_replaced_by_-1[N]                                                                                                                                  float64\n",
              "StagingMetastasis#Mx_-replaced_by_-1[M]                                                                                                                              int64\n",
              "Tumor_GradeT\\nTubule                                                                                                                                               float64\n",
              "Tumor_GradeN\\nNuclear                                                                                                                                              float64\n",
              "Tumor_GradeM\\nMitotic                                                                                                                                              float64\n",
              "Nottingham_grade                                                                                                                                                   float64\n",
              "Histologic_type                                                                                                                                                    float64\n",
              "Tumor_Location                                                                                                                                                      object\n",
              "Position                                                                                                                                                            object\n",
              "Bilateral_Information                                                                                                                                               object\n",
              "Multicentric/Multifocal                                                                                                                                              int64\n",
              "Contralateral_Breast_Involvement                                                                                                                                     int64\n",
              "Lymphadenopathy_or_Suspicious_Nodes                                                                                                                                  int64\n",
              "Skin/Nipple_Invovlement                                                                                                                                              int64\n",
              "Pec/Chest_Involvement                                                                                                                                                int64\n",
              "Surgery                                                                                                                                                            float64\n",
              "Days_to_Surgery_from_the_date_of_diagnosis                                                                                                                          object\n",
              "Definitive_Surgery_Type                                                                                                                                             object\n",
              "Neoadjuvant_Radiation_Therapy                                                                                                                                      float64\n",
              "Adjuvant_Radiation_Therapy                                                                                                                                         float64\n",
              "Clinical_Response,_Evaluated_Through_Imaging_                                                                                                                      float64\n",
              "Pathologic_Response_to_Neoadjuvant_Therapy                                                                                                                         float64\n",
              "Recurrence_event                                                                                                                                                   float64\n",
              "Days_to_local_recurrence_from_the_date_of_diagnosis_                                                                                                                object\n",
              "Days_to_distant_recurrencefrom_the_date_of_diagnosis_                                                                                                               object\n",
              "Days_to_death_from_the_date_of_diagnosis_                                                                                                                           object\n",
              "Days_to_last_local_recurrence_free_assessment_from_the_date_of_diagnosis_                                                                                           object\n",
              "Days_to_last_distant_recurrence_free_assemssmentfrom_the_date_of_diagnosis_                                                                                         object\n",
              "Age_at_last_contact_in_EMR_f/udaysfrom_the_date_of_diagnosis_,last_time_patient_known_to_be_alive,_unless_age_of_death_is_reportedin_such_case_the_age_of_death    float64\n",
              "Age_at_mammo_days                                                                                                                                                   object\n",
              "Tumor_Size_cm                                                                                                                                                       object\n",
              "Neoadjuvant_Chemotherapy                                                                                                                                           float64\n",
              "Adjuvant_Chemotherapy                                                                                                                                              float64\n",
              "Neoadjuvant_Endocrine_Therapy_Medications_                                                                                                                         float64\n",
              "Adjuvant_Endocrine_Therapy_Medications_                                                                                                                            float64\n",
              "Known_Ovarian_Status_                                                                                                                                                int64\n",
              "Number_of_Ovaries_In_Situ_\\n                                                                                                                                        object\n",
              "Therapeutic_or_Prophylactic_Oophorectomy_as_part_of_Endocrine_Therapy_                                                                                               int64\n",
              "Neoadjuvant_Anti-Her2_Neu_Therapy                                                                                                                                  float64\n",
              "Adjuvant_Anti-Her2_Neu_Therapy_                                                                                                                                    float64\n",
              "Received_Neoadjuvant_Therapy_or_Not                                                                                                                                float64\n",
              "Pathologic_response_to_Neoadjuvant_therapy:_Pathologic_stage_T_following_neoadjuvant_therapy_                                                                      float64\n",
              "Pathologic_response_to_Neoadjuvant_therapy:__Pathologic_stage_N_following_neoadjuvant_therapy                                                                      float64\n",
              "Pathologic_response_to_Neoadjuvant_therapy:__Pathologic_stage_M_following_neoadjuvant_therapy_                                                                     float64\n",
              "Overall_Near-complete_Response:__Stricter_Definition                                                                                                               float64\n",
              "Overall_Near-complete_Response:__Looser_Definition                                                                                                                 float64\n",
              "Near-complete_Response_Graded_Measure                                                                                                                              float64\n",
              "dtype: object"
            ]
          },
          "metadata": {},
          "execution_count": 234
        }
      ]
    },
    {
      "cell_type": "code",
      "source": [
        "# Creating a subset for local or distant"
      ],
      "metadata": {
        "id": "Bw381AKUT3ro"
      },
      "execution_count": null,
      "outputs": []
    },
    {
      "cell_type": "code",
      "source": [
        "subset = df[df['Recurrence_event'] == 1]\n"
      ],
      "metadata": {
        "id": "NTemk-EpbxDb"
      },
      "execution_count": null,
      "outputs": []
    },
    {
      "cell_type": "code",
      "source": [
        "subset.loc[subset['Days_to_local_recurrence_from_the_date_of_diagnosis_'] == 'NP', 'Days_to_local_recurrence_from_the_date_of_diagnosis_'] = np.nan\n",
        "\n"
      ],
      "metadata": {
        "id": "7T7vb7Hpbw7H"
      },
      "execution_count": null,
      "outputs": []
    },
    {
      "cell_type": "code",
      "source": [
        "subset.loc[subset['Days_to_distant_recurrencefrom_the_date_of_diagnosis_'] == 'NP', 'Days_to_distant_recurrencefrom_the_date_of_diagnosis_'] = np.nan\n",
        "\n"
      ],
      "metadata": {
        "id": "xnn5jvimdPxz"
      },
      "execution_count": null,
      "outputs": []
    },
    {
      "cell_type": "code",
      "source": [],
      "metadata": {
        "id": "OtnJRwMvkAod"
      },
      "execution_count": null,
      "outputs": []
    },
    {
      "cell_type": "code",
      "source": [
        "# create new column 'type' based on 'local' and 'distant' columns\n",
        "subset['type'] = np.where(subset['Days_to_local_recurrence_from_the_date_of_diagnosis_'].notnull(), '0', '1')\n",
        "\n"
      ],
      "metadata": {
        "colab": {
          "base_uri": "https://localhost:8080/"
        },
        "id": "QyFEPjG7bwwc",
        "outputId": "3cf1bd60-4b55-408e-8753-83248df7d52e"
      },
      "execution_count": null,
      "outputs": [
        {
          "output_type": "stream",
          "name": "stderr",
          "text": [
            "<ipython-input-239-157415e87bf9>:2: SettingWithCopyWarning: \n",
            "A value is trying to be set on a copy of a slice from a DataFrame.\n",
            "Try using .loc[row_indexer,col_indexer] = value instead\n",
            "\n",
            "See the caveats in the documentation: https://pandas.pydata.org/pandas-docs/stable/user_guide/indexing.html#returning-a-view-versus-a-copy\n",
            "  subset['type'] = np.where(subset['Days_to_local_recurrence_from_the_date_of_diagnosis_'].notnull(), '0', '1')\n"
          ]
        }
      ]
    },
    {
      "cell_type": "code",
      "source": [
        "subset['type']"
      ],
      "metadata": {
        "colab": {
          "base_uri": "https://localhost:8080/"
        },
        "id": "DbvvZLqj6E2l",
        "outputId": "0d7f1ebe-1eb8-4002-998f-84937466dcc1"
      },
      "execution_count": null,
      "outputs": [
        {
          "output_type": "execute_result",
          "data": {
            "text/plain": [
              "9      1\n",
              "11     1\n",
              "27     1\n",
              "41     1\n",
              "42     1\n",
              "      ..\n",
              "868    1\n",
              "873    1\n",
              "898    1\n",
              "915    1\n",
              "916    1\n",
              "Name: type, Length: 87, dtype: object"
            ]
          },
          "metadata": {},
          "execution_count": 240
        }
      ]
    },
    {
      "cell_type": "code",
      "source": [
        "subset['type'] = subset['type'].astype(int)\n"
      ],
      "metadata": {
        "colab": {
          "base_uri": "https://localhost:8080/"
        },
        "id": "kk2kl9Cp649h",
        "outputId": "225bf505-b126-4cd4-d8c4-d78c994eb95e"
      },
      "execution_count": null,
      "outputs": [
        {
          "output_type": "stream",
          "name": "stderr",
          "text": [
            "<ipython-input-241-2a9c3953f05e>:1: SettingWithCopyWarning: \n",
            "A value is trying to be set on a copy of a slice from a DataFrame.\n",
            "Try using .loc[row_indexer,col_indexer] = value instead\n",
            "\n",
            "See the caveats in the documentation: https://pandas.pydata.org/pandas-docs/stable/user_guide/indexing.html#returning-a-view-versus-a-copy\n",
            "  subset['type'] = subset['type'].astype(int)\n"
          ]
        }
      ]
    },
    {
      "cell_type": "code",
      "source": [
        "subset['type'].value_counts()"
      ],
      "metadata": {
        "colab": {
          "base_uri": "https://localhost:8080/"
        },
        "id": "r1Vs9Cyi9Ii4",
        "outputId": "6daa5536-d762-444c-d429-1021f81d9696"
      },
      "execution_count": null,
      "outputs": [
        {
          "output_type": "execute_result",
          "data": {
            "text/plain": [
              "1    71\n",
              "0    16\n",
              "Name: type, dtype: int64"
            ]
          },
          "metadata": {},
          "execution_count": 242
        }
      ]
    },
    {
      "cell_type": "code",
      "source": [
        "\n",
        "# encoding Categorical data\n",
        "from sklearn.preprocessing import LabelEncoder\n",
        "le = LabelEncoder()\n",
        "subset.iloc[:,1] = le.fit_transform(subset.iloc[:,1].values)\n",
        "\n",
        "subset = pd.get_dummies(subset)\n",
        "\n",
        "subset=subset.replace(np.nan,0)\n",
        "\n",
        "subset = subset.abs()\n",
        "\n",
        "subset = subset[np.isfinite(subset).all(1)]\n",
        "\n"
      ],
      "metadata": {
        "colab": {
          "base_uri": "https://localhost:8080/"
        },
        "id": "oh8acSk0duNk",
        "outputId": "5c9cf8bb-ff12-433c-a40c-72c9e8e4abeb"
      },
      "execution_count": null,
      "outputs": [
        {
          "output_type": "stream",
          "name": "stderr",
          "text": [
            "<ipython-input-243-b03ea97f0513>:4: SettingWithCopyWarning: \n",
            "A value is trying to be set on a copy of a slice from a DataFrame.\n",
            "Try using .loc[row_indexer,col_indexer] = value instead\n",
            "\n",
            "See the caveats in the documentation: https://pandas.pydata.org/pandas-docs/stable/user_guide/indexing.html#returning-a-view-versus-a-copy\n",
            "  subset.iloc[:,1] = le.fit_transform(subset.iloc[:,1].values)\n",
            "<ipython-input-243-b03ea97f0513>:6: FutureWarning: In a future version, the Index constructor will not infer numeric dtypes when passed object-dtype sequences (matching Series behavior)\n",
            "  subset = pd.get_dummies(subset)\n",
            "<ipython-input-243-b03ea97f0513>:6: FutureWarning: In a future version, the Index constructor will not infer numeric dtypes when passed object-dtype sequences (matching Series behavior)\n",
            "  subset = pd.get_dummies(subset)\n"
          ]
        }
      ]
    },
    {
      "cell_type": "code",
      "source": [],
      "metadata": {
        "id": "AI2N87vG58K1"
      },
      "execution_count": null,
      "outputs": []
    },
    {
      "cell_type": "markdown",
      "source": [
        "** Test train split for local distant **\n",
        "\n",
        "```\n",
        "# This is formatted as code\n",
        "```\n",
        "\n"
      ],
      "metadata": {
        "id": "T60F1Exm55vT"
      }
    },
    {
      "cell_type": "code",
      "source": [
        "from sklearn.model_selection import train_test_split"
      ],
      "metadata": {
        "id": "TKQRkm8Q35Rb"
      },
      "execution_count": null,
      "outputs": []
    },
    {
      "cell_type": "code",
      "source": [
        "subset.dtypes"
      ],
      "metadata": {
        "colab": {
          "base_uri": "https://localhost:8080/"
        },
        "id": "8R4JFBne5ZtR",
        "outputId": "6815baad-4d26-41af-da17-3a72bc3d5902"
      },
      "execution_count": null,
      "outputs": [
        {
          "output_type": "execute_result",
          "data": {
            "text/plain": [
              "Date_of_Birth_Days                                   int64\n",
              "Menopause_at_diagnosis                               int64\n",
              "Metastatic_at_Presentation_Outside_of_Lymph_Nodes    int64\n",
              "ER                                                   int64\n",
              "PR                                                   int64\n",
              "                                                     ...  \n",
              "Tumor_Size_cm_[0.5]                                  uint8\n",
              "Number_of_Ovaries_In_Situ_\\n_0                       uint8\n",
              "Number_of_Ovaries_In_Situ_\\n_1                       uint8\n",
              "Number_of_Ovaries_In_Situ_\\n_2                       uint8\n",
              "Number_of_Ovaries_In_Situ_\\n_NP                      uint8\n",
              "Length: 464, dtype: object"
            ]
          },
          "metadata": {},
          "execution_count": 245
        }
      ]
    },
    {
      "cell_type": "code",
      "source": [
        "x1 = subset.drop(['type'], axis=1)\n",
        "y1 = subset['type'].values"
      ],
      "metadata": {
        "id": "rKAknCRQ35I2"
      },
      "execution_count": null,
      "outputs": []
    },
    {
      "cell_type": "code",
      "source": [
        "x1_train,x1_test,y1_train,y1_test = train_test_split(x1,y1,test_size=0.2, random_state=0)"
      ],
      "metadata": {
        "id": "LnvC-lvL34_c"
      },
      "execution_count": null,
      "outputs": []
    },
    {
      "cell_type": "code",
      "source": [
        "from sklearn.preprocessing import StandardScaler\n",
        "sc = StandardScaler()\n",
        "x1_train = sc.fit_transform(x1_train)\n",
        "x1_test = sc.transform(x1_test)"
      ],
      "metadata": {
        "id": "qWEyw-M2340y"
      },
      "execution_count": null,
      "outputs": []
    },
    {
      "cell_type": "code",
      "source": [
        "# Support Vactor\n",
        "from sklearn.svm import SVC\n",
        "svm =  SVC(random_state=10)\n",
        "svm1 = SVC(kernel='linear',gamma='scale',random_state=10)\n",
        "svm2 = SVC(kernel='rbf',gamma='scale',random_state=10)\n",
        "svm3 = SVC(kernel='poly',gamma='scale',random_state=10)\n",
        "svm4 = SVC(kernel='sigmoid',gamma='scale',random_state=10)\n",
        "\n",
        "svm.fit(x1_train,y1_train)\n",
        "svm1.fit(x1_train,y1_train)\n",
        "svm2.fit(x1_train,y1_train)\n",
        "svm3.fit(x1_train,y1_train)\n",
        "svm4.fit(x1_train,y1_train)\n",
        "\n",
        "print('SVC Accuracy : {:,.2f}%'.format(svm.score(x1_test,y1_test)*100))\n",
        "\n",
        "print('SVC Linear Accuracy : {:,.2f}%'.format(svm1.score(x1_test,y1_test)*100))\n",
        "\n",
        "print('SVC RBF Accuracy : {:,.2f}%'.format(svm2.score(x1_test,y1_test)*100))\n",
        "\n",
        "print('SVC Poly Accuracy : {:,.2f}%'.format(svm3.score(x1_test,y1_test)*100))\n",
        "\n",
        "print('SVC Sigmoid Accuracy : {:,.2f}%'.format(svm4.score(x1_test,y1_test)*100))"
      ],
      "metadata": {
        "colab": {
          "base_uri": "https://localhost:8080/"
        },
        "id": "dEYnYkPT4ZdV",
        "outputId": "d8b791f7-e5f6-4b40-8c29-f53df68f1ab0"
      },
      "execution_count": null,
      "outputs": [
        {
          "output_type": "stream",
          "name": "stdout",
          "text": [
            "SVC Accuracy : 83.33%\n",
            "SVC Linear Accuracy : 83.33%\n",
            "SVC RBF Accuracy : 83.33%\n",
            "SVC Poly Accuracy : 83.33%\n",
            "SVC Sigmoid Accuracy : 83.33%\n"
          ]
        }
      ]
    },
    {
      "cell_type": "code",
      "source": [],
      "metadata": {
        "colab": {
          "base_uri": "https://localhost:8080/",
          "height": 1000
        },
        "id": "1AAoAP-tFZEl",
        "outputId": "b5a59052-55ba-4dcf-82a4-2762e224534a"
      },
      "execution_count": null,
      "outputs": [
        {
          "output_type": "stream",
          "name": "stdout",
          "text": [
            "Fitting 5 folds for each of 48 candidates, totalling 240 fits\n",
            "[CV] END .........................C=0.1, gamma=1, kernel=rbf; total time=   0.0s\n",
            "[CV] END .........................C=0.1, gamma=1, kernel=rbf; total time=   0.0s\n",
            "[CV] END .........................C=0.1, gamma=1, kernel=rbf; total time=   0.0s\n",
            "[CV] END .........................C=0.1, gamma=1, kernel=rbf; total time=   0.0s\n",
            "[CV] END .........................C=0.1, gamma=1, kernel=rbf; total time=   0.0s\n",
            "[CV] END ........................C=0.1, gamma=1, kernel=poly; total time=   0.0s\n",
            "[CV] END ........................C=0.1, gamma=1, kernel=poly; total time=   0.0s\n",
            "[CV] END ........................C=0.1, gamma=1, kernel=poly; total time=   0.0s\n",
            "[CV] END ........................C=0.1, gamma=1, kernel=poly; total time=   0.0s\n",
            "[CV] END ........................C=0.1, gamma=1, kernel=poly; total time=   0.0s\n",
            "[CV] END .....................C=0.1, gamma=1, kernel=sigmoid; total time=   0.0s\n",
            "[CV] END .....................C=0.1, gamma=1, kernel=sigmoid; total time=   0.0s\n",
            "[CV] END .....................C=0.1, gamma=1, kernel=sigmoid; total time=   0.0s\n",
            "[CV] END .....................C=0.1, gamma=1, kernel=sigmoid; total time=   0.0s\n",
            "[CV] END .....................C=0.1, gamma=1, kernel=sigmoid; total time=   0.0s\n",
            "[CV] END .......................C=0.1, gamma=0.1, kernel=rbf; total time=   0.0s\n",
            "[CV] END .......................C=0.1, gamma=0.1, kernel=rbf; total time=   0.0s\n",
            "[CV] END .......................C=0.1, gamma=0.1, kernel=rbf; total time=   0.0s\n",
            "[CV] END .......................C=0.1, gamma=0.1, kernel=rbf; total time=   0.0s\n",
            "[CV] END .......................C=0.1, gamma=0.1, kernel=rbf; total time=   0.0s\n",
            "[CV] END ......................C=0.1, gamma=0.1, kernel=poly; total time=   0.0s\n",
            "[CV] END ......................C=0.1, gamma=0.1, kernel=poly; total time=   0.0s\n",
            "[CV] END ......................C=0.1, gamma=0.1, kernel=poly; total time=   0.0s\n",
            "[CV] END ......................C=0.1, gamma=0.1, kernel=poly; total time=   0.0s\n",
            "[CV] END ......................C=0.1, gamma=0.1, kernel=poly; total time=   0.0s\n",
            "[CV] END ...................C=0.1, gamma=0.1, kernel=sigmoid; total time=   0.0s\n",
            "[CV] END ...................C=0.1, gamma=0.1, kernel=sigmoid; total time=   0.0s\n",
            "[CV] END ...................C=0.1, gamma=0.1, kernel=sigmoid; total time=   0.0s\n",
            "[CV] END ...................C=0.1, gamma=0.1, kernel=sigmoid; total time=   0.0s\n",
            "[CV] END ...................C=0.1, gamma=0.1, kernel=sigmoid; total time=   0.0s\n",
            "[CV] END ......................C=0.1, gamma=0.01, kernel=rbf; total time=   0.0s\n",
            "[CV] END ......................C=0.1, gamma=0.01, kernel=rbf; total time=   0.0s\n",
            "[CV] END ......................C=0.1, gamma=0.01, kernel=rbf; total time=   0.0s\n",
            "[CV] END ......................C=0.1, gamma=0.01, kernel=rbf; total time=   0.0s\n",
            "[CV] END ......................C=0.1, gamma=0.01, kernel=rbf; total time=   0.0s\n",
            "[CV] END .....................C=0.1, gamma=0.01, kernel=poly; total time=   0.0s\n",
            "[CV] END .....................C=0.1, gamma=0.01, kernel=poly; total time=   0.0s\n",
            "[CV] END .....................C=0.1, gamma=0.01, kernel=poly; total time=   0.0s\n",
            "[CV] END .....................C=0.1, gamma=0.01, kernel=poly; total time=   0.0s\n",
            "[CV] END .....................C=0.1, gamma=0.01, kernel=poly; total time=   0.0s\n",
            "[CV] END ..................C=0.1, gamma=0.01, kernel=sigmoid; total time=   0.0s\n",
            "[CV] END ..................C=0.1, gamma=0.01, kernel=sigmoid; total time=   0.0s\n",
            "[CV] END ..................C=0.1, gamma=0.01, kernel=sigmoid; total time=   0.0s\n",
            "[CV] END ..................C=0.1, gamma=0.01, kernel=sigmoid; total time=   0.0s\n",
            "[CV] END ..................C=0.1, gamma=0.01, kernel=sigmoid; total time=   0.0s\n",
            "[CV] END .....................C=0.1, gamma=0.001, kernel=rbf; total time=   0.0s\n",
            "[CV] END .....................C=0.1, gamma=0.001, kernel=rbf; total time=   0.0s\n",
            "[CV] END .....................C=0.1, gamma=0.001, kernel=rbf; total time=   0.0s\n",
            "[CV] END .....................C=0.1, gamma=0.001, kernel=rbf; total time=   0.0s\n",
            "[CV] END .....................C=0.1, gamma=0.001, kernel=rbf; total time=   0.0s\n",
            "[CV] END ....................C=0.1, gamma=0.001, kernel=poly; total time=   0.0s\n",
            "[CV] END ....................C=0.1, gamma=0.001, kernel=poly; total time=   0.0s\n",
            "[CV] END ....................C=0.1, gamma=0.001, kernel=poly; total time=   0.0s\n",
            "[CV] END ....................C=0.1, gamma=0.001, kernel=poly; total time=   0.0s\n",
            "[CV] END ....................C=0.1, gamma=0.001, kernel=poly; total time=   0.0s\n",
            "[CV] END .................C=0.1, gamma=0.001, kernel=sigmoid; total time=   0.0s\n",
            "[CV] END .................C=0.1, gamma=0.001, kernel=sigmoid; total time=   0.0s\n",
            "[CV] END .................C=0.1, gamma=0.001, kernel=sigmoid; total time=   0.0s\n",
            "[CV] END .................C=0.1, gamma=0.001, kernel=sigmoid; total time=   0.0s\n",
            "[CV] END .................C=0.1, gamma=0.001, kernel=sigmoid; total time=   0.0s\n",
            "[CV] END ...........................C=1, gamma=1, kernel=rbf; total time=   0.0s\n",
            "[CV] END ...........................C=1, gamma=1, kernel=rbf; total time=   0.0s\n",
            "[CV] END ...........................C=1, gamma=1, kernel=rbf; total time=   0.0s\n",
            "[CV] END ...........................C=1, gamma=1, kernel=rbf; total time=   0.0s\n",
            "[CV] END ...........................C=1, gamma=1, kernel=rbf; total time=   0.0s\n",
            "[CV] END ..........................C=1, gamma=1, kernel=poly; total time=   0.0s\n",
            "[CV] END ..........................C=1, gamma=1, kernel=poly; total time=   0.0s\n",
            "[CV] END ..........................C=1, gamma=1, kernel=poly; total time=   0.0s\n",
            "[CV] END ..........................C=1, gamma=1, kernel=poly; total time=   0.0s\n",
            "[CV] END ..........................C=1, gamma=1, kernel=poly; total time=   0.0s\n",
            "[CV] END .......................C=1, gamma=1, kernel=sigmoid; total time=   0.0s\n",
            "[CV] END .......................C=1, gamma=1, kernel=sigmoid; total time=   0.0s\n",
            "[CV] END .......................C=1, gamma=1, kernel=sigmoid; total time=   0.0s\n",
            "[CV] END .......................C=1, gamma=1, kernel=sigmoid; total time=   0.0s\n",
            "[CV] END .......................C=1, gamma=1, kernel=sigmoid; total time=   0.0s\n",
            "[CV] END .........................C=1, gamma=0.1, kernel=rbf; total time=   0.0s\n",
            "[CV] END .........................C=1, gamma=0.1, kernel=rbf; total time=   0.0s\n",
            "[CV] END .........................C=1, gamma=0.1, kernel=rbf; total time=   0.0s\n",
            "[CV] END .........................C=1, gamma=0.1, kernel=rbf; total time=   0.0s\n",
            "[CV] END .........................C=1, gamma=0.1, kernel=rbf; total time=   0.0s\n",
            "[CV] END ........................C=1, gamma=0.1, kernel=poly; total time=   0.0s\n",
            "[CV] END ........................C=1, gamma=0.1, kernel=poly; total time=   0.0s\n",
            "[CV] END ........................C=1, gamma=0.1, kernel=poly; total time=   0.0s\n",
            "[CV] END ........................C=1, gamma=0.1, kernel=poly; total time=   0.0s\n",
            "[CV] END ........................C=1, gamma=0.1, kernel=poly; total time=   0.0s\n",
            "[CV] END .....................C=1, gamma=0.1, kernel=sigmoid; total time=   0.0s\n",
            "[CV] END .....................C=1, gamma=0.1, kernel=sigmoid; total time=   0.0s\n",
            "[CV] END .....................C=1, gamma=0.1, kernel=sigmoid; total time=   0.0s\n",
            "[CV] END .....................C=1, gamma=0.1, kernel=sigmoid; total time=   0.0s\n",
            "[CV] END .....................C=1, gamma=0.1, kernel=sigmoid; total time=   0.0s\n",
            "[CV] END ........................C=1, gamma=0.01, kernel=rbf; total time=   0.0s\n",
            "[CV] END ........................C=1, gamma=0.01, kernel=rbf; total time=   0.0s\n",
            "[CV] END ........................C=1, gamma=0.01, kernel=rbf; total time=   0.0s\n",
            "[CV] END ........................C=1, gamma=0.01, kernel=rbf; total time=   0.0s\n",
            "[CV] END ........................C=1, gamma=0.01, kernel=rbf; total time=   0.0s\n",
            "[CV] END .......................C=1, gamma=0.01, kernel=poly; total time=   0.0s\n",
            "[CV] END .......................C=1, gamma=0.01, kernel=poly; total time=   0.0s\n",
            "[CV] END .......................C=1, gamma=0.01, kernel=poly; total time=   0.0s\n",
            "[CV] END .......................C=1, gamma=0.01, kernel=poly; total time=   0.0s\n",
            "[CV] END .......................C=1, gamma=0.01, kernel=poly; total time=   0.0s\n",
            "[CV] END ....................C=1, gamma=0.01, kernel=sigmoid; total time=   0.0s\n",
            "[CV] END ....................C=1, gamma=0.01, kernel=sigmoid; total time=   0.0s\n",
            "[CV] END ....................C=1, gamma=0.01, kernel=sigmoid; total time=   0.0s\n",
            "[CV] END ....................C=1, gamma=0.01, kernel=sigmoid; total time=   0.0s\n",
            "[CV] END ....................C=1, gamma=0.01, kernel=sigmoid; total time=   0.0s\n",
            "[CV] END .......................C=1, gamma=0.001, kernel=rbf; total time=   0.0s\n",
            "[CV] END .......................C=1, gamma=0.001, kernel=rbf; total time=   0.0s\n",
            "[CV] END .......................C=1, gamma=0.001, kernel=rbf; total time=   0.0s\n",
            "[CV] END .......................C=1, gamma=0.001, kernel=rbf; total time=   0.0s\n",
            "[CV] END .......................C=1, gamma=0.001, kernel=rbf; total time=   0.0s\n",
            "[CV] END ......................C=1, gamma=0.001, kernel=poly; total time=   0.0s\n",
            "[CV] END ......................C=1, gamma=0.001, kernel=poly; total time=   0.0s\n",
            "[CV] END ......................C=1, gamma=0.001, kernel=poly; total time=   0.0s\n",
            "[CV] END ......................C=1, gamma=0.001, kernel=poly; total time=   0.0s\n",
            "[CV] END ......................C=1, gamma=0.001, kernel=poly; total time=   0.0s\n",
            "[CV] END ...................C=1, gamma=0.001, kernel=sigmoid; total time=   0.0s\n",
            "[CV] END ...................C=1, gamma=0.001, kernel=sigmoid; total time=   0.0s\n",
            "[CV] END ...................C=1, gamma=0.001, kernel=sigmoid; total time=   0.0s\n",
            "[CV] END ...................C=1, gamma=0.001, kernel=sigmoid; total time=   0.0s\n",
            "[CV] END ...................C=1, gamma=0.001, kernel=sigmoid; total time=   0.0s\n",
            "[CV] END ..........................C=10, gamma=1, kernel=rbf; total time=   0.0s\n",
            "[CV] END ..........................C=10, gamma=1, kernel=rbf; total time=   0.0s\n",
            "[CV] END ..........................C=10, gamma=1, kernel=rbf; total time=   0.0s\n",
            "[CV] END ..........................C=10, gamma=1, kernel=rbf; total time=   0.0s\n",
            "[CV] END ..........................C=10, gamma=1, kernel=rbf; total time=   0.0s\n",
            "[CV] END .........................C=10, gamma=1, kernel=poly; total time=   0.0s\n",
            "[CV] END .........................C=10, gamma=1, kernel=poly; total time=   0.0s\n",
            "[CV] END .........................C=10, gamma=1, kernel=poly; total time=   0.0s\n",
            "[CV] END .........................C=10, gamma=1, kernel=poly; total time=   0.0s\n",
            "[CV] END .........................C=10, gamma=1, kernel=poly; total time=   0.0s\n",
            "[CV] END ......................C=10, gamma=1, kernel=sigmoid; total time=   0.0s\n",
            "[CV] END ......................C=10, gamma=1, kernel=sigmoid; total time=   0.0s\n",
            "[CV] END ......................C=10, gamma=1, kernel=sigmoid; total time=   0.0s\n",
            "[CV] END ......................C=10, gamma=1, kernel=sigmoid; total time=   0.0s\n",
            "[CV] END ......................C=10, gamma=1, kernel=sigmoid; total time=   0.0s\n",
            "[CV] END ........................C=10, gamma=0.1, kernel=rbf; total time=   0.0s\n",
            "[CV] END ........................C=10, gamma=0.1, kernel=rbf; total time=   0.0s\n",
            "[CV] END ........................C=10, gamma=0.1, kernel=rbf; total time=   0.0s\n",
            "[CV] END ........................C=10, gamma=0.1, kernel=rbf; total time=   0.0s\n",
            "[CV] END ........................C=10, gamma=0.1, kernel=rbf; total time=   0.0s\n",
            "[CV] END .......................C=10, gamma=0.1, kernel=poly; total time=   0.0s\n",
            "[CV] END .......................C=10, gamma=0.1, kernel=poly; total time=   0.0s\n",
            "[CV] END .......................C=10, gamma=0.1, kernel=poly; total time=   0.0s\n",
            "[CV] END .......................C=10, gamma=0.1, kernel=poly; total time=   0.0s\n",
            "[CV] END .......................C=10, gamma=0.1, kernel=poly; total time=   0.0s\n",
            "[CV] END ....................C=10, gamma=0.1, kernel=sigmoid; total time=   0.0s\n",
            "[CV] END ....................C=10, gamma=0.1, kernel=sigmoid; total time=   0.0s\n",
            "[CV] END ....................C=10, gamma=0.1, kernel=sigmoid; total time=   0.0s\n",
            "[CV] END ....................C=10, gamma=0.1, kernel=sigmoid; total time=   0.0s\n",
            "[CV] END ....................C=10, gamma=0.1, kernel=sigmoid; total time=   0.0s\n",
            "[CV] END .......................C=10, gamma=0.01, kernel=rbf; total time=   0.0s\n",
            "[CV] END .......................C=10, gamma=0.01, kernel=rbf; total time=   0.0s\n",
            "[CV] END .......................C=10, gamma=0.01, kernel=rbf; total time=   0.0s\n",
            "[CV] END .......................C=10, gamma=0.01, kernel=rbf; total time=   0.0s\n",
            "[CV] END .......................C=10, gamma=0.01, kernel=rbf; total time=   0.0s\n",
            "[CV] END ......................C=10, gamma=0.01, kernel=poly; total time=   0.0s\n",
            "[CV] END ......................C=10, gamma=0.01, kernel=poly; total time=   0.0s\n",
            "[CV] END ......................C=10, gamma=0.01, kernel=poly; total time=   0.0s\n",
            "[CV] END ......................C=10, gamma=0.01, kernel=poly; total time=   0.0s\n",
            "[CV] END ......................C=10, gamma=0.01, kernel=poly; total time=   0.0s\n",
            "[CV] END ...................C=10, gamma=0.01, kernel=sigmoid; total time=   0.0s\n",
            "[CV] END ...................C=10, gamma=0.01, kernel=sigmoid; total time=   0.0s\n",
            "[CV] END ...................C=10, gamma=0.01, kernel=sigmoid; total time=   0.0s\n",
            "[CV] END ...................C=10, gamma=0.01, kernel=sigmoid; total time=   0.0s\n",
            "[CV] END ...................C=10, gamma=0.01, kernel=sigmoid; total time=   0.0s\n",
            "[CV] END ......................C=10, gamma=0.001, kernel=rbf; total time=   0.0s\n",
            "[CV] END ......................C=10, gamma=0.001, kernel=rbf; total time=   0.0s\n",
            "[CV] END ......................C=10, gamma=0.001, kernel=rbf; total time=   0.0s\n",
            "[CV] END ......................C=10, gamma=0.001, kernel=rbf; total time=   0.0s\n",
            "[CV] END ......................C=10, gamma=0.001, kernel=rbf; total time=   0.0s\n",
            "[CV] END .....................C=10, gamma=0.001, kernel=poly; total time=   0.0s\n",
            "[CV] END .....................C=10, gamma=0.001, kernel=poly; total time=   0.0s\n",
            "[CV] END .....................C=10, gamma=0.001, kernel=poly; total time=   0.0s\n",
            "[CV] END .....................C=10, gamma=0.001, kernel=poly; total time=   0.0s\n",
            "[CV] END .....................C=10, gamma=0.001, kernel=poly; total time=   0.0s\n",
            "[CV] END ..................C=10, gamma=0.001, kernel=sigmoid; total time=   0.0s\n",
            "[CV] END ..................C=10, gamma=0.001, kernel=sigmoid; total time=   0.0s\n",
            "[CV] END ..................C=10, gamma=0.001, kernel=sigmoid; total time=   0.0s\n",
            "[CV] END ..................C=10, gamma=0.001, kernel=sigmoid; total time=   0.0s\n",
            "[CV] END ..................C=10, gamma=0.001, kernel=sigmoid; total time=   0.0s\n",
            "[CV] END .........................C=100, gamma=1, kernel=rbf; total time=   0.0s\n",
            "[CV] END .........................C=100, gamma=1, kernel=rbf; total time=   0.0s\n",
            "[CV] END .........................C=100, gamma=1, kernel=rbf; total time=   0.0s\n",
            "[CV] END .........................C=100, gamma=1, kernel=rbf; total time=   0.0s\n",
            "[CV] END .........................C=100, gamma=1, kernel=rbf; total time=   0.0s\n",
            "[CV] END ........................C=100, gamma=1, kernel=poly; total time=   0.0s\n",
            "[CV] END ........................C=100, gamma=1, kernel=poly; total time=   0.0s\n",
            "[CV] END ........................C=100, gamma=1, kernel=poly; total time=   0.0s\n",
            "[CV] END ........................C=100, gamma=1, kernel=poly; total time=   0.0s\n",
            "[CV] END ........................C=100, gamma=1, kernel=poly; total time=   0.0s\n",
            "[CV] END .....................C=100, gamma=1, kernel=sigmoid; total time=   0.0s\n",
            "[CV] END .....................C=100, gamma=1, kernel=sigmoid; total time=   0.0s\n",
            "[CV] END .....................C=100, gamma=1, kernel=sigmoid; total time=   0.0s\n",
            "[CV] END .....................C=100, gamma=1, kernel=sigmoid; total time=   0.0s\n",
            "[CV] END .....................C=100, gamma=1, kernel=sigmoid; total time=   0.0s\n",
            "[CV] END .......................C=100, gamma=0.1, kernel=rbf; total time=   0.0s\n",
            "[CV] END .......................C=100, gamma=0.1, kernel=rbf; total time=   0.0s\n",
            "[CV] END .......................C=100, gamma=0.1, kernel=rbf; total time=   0.0s\n",
            "[CV] END .......................C=100, gamma=0.1, kernel=rbf; total time=   0.0s\n",
            "[CV] END .......................C=100, gamma=0.1, kernel=rbf; total time=   0.0s\n",
            "[CV] END ......................C=100, gamma=0.1, kernel=poly; total time=   0.0s\n",
            "[CV] END ......................C=100, gamma=0.1, kernel=poly; total time=   0.0s\n",
            "[CV] END ......................C=100, gamma=0.1, kernel=poly; total time=   0.0s\n",
            "[CV] END ......................C=100, gamma=0.1, kernel=poly; total time=   0.0s\n",
            "[CV] END ......................C=100, gamma=0.1, kernel=poly; total time=   0.0s\n",
            "[CV] END ...................C=100, gamma=0.1, kernel=sigmoid; total time=   0.0s\n",
            "[CV] END ...................C=100, gamma=0.1, kernel=sigmoid; total time=   0.0s\n",
            "[CV] END ...................C=100, gamma=0.1, kernel=sigmoid; total time=   0.0s\n",
            "[CV] END ...................C=100, gamma=0.1, kernel=sigmoid; total time=   0.0s\n",
            "[CV] END ...................C=100, gamma=0.1, kernel=sigmoid; total time=   0.0s\n",
            "[CV] END ......................C=100, gamma=0.01, kernel=rbf; total time=   0.0s\n",
            "[CV] END ......................C=100, gamma=0.01, kernel=rbf; total time=   0.0s\n",
            "[CV] END ......................C=100, gamma=0.01, kernel=rbf; total time=   0.0s\n",
            "[CV] END ......................C=100, gamma=0.01, kernel=rbf; total time=   0.0s\n",
            "[CV] END ......................C=100, gamma=0.01, kernel=rbf; total time=   0.0s\n",
            "[CV] END .....................C=100, gamma=0.01, kernel=poly; total time=   0.0s\n",
            "[CV] END .....................C=100, gamma=0.01, kernel=poly; total time=   0.0s\n",
            "[CV] END .....................C=100, gamma=0.01, kernel=poly; total time=   0.0s\n",
            "[CV] END .....................C=100, gamma=0.01, kernel=poly; total time=   0.0s\n",
            "[CV] END .....................C=100, gamma=0.01, kernel=poly; total time=   0.0s\n",
            "[CV] END ..................C=100, gamma=0.01, kernel=sigmoid; total time=   0.0s\n",
            "[CV] END ..................C=100, gamma=0.01, kernel=sigmoid; total time=   0.0s\n",
            "[CV] END ..................C=100, gamma=0.01, kernel=sigmoid; total time=   0.0s\n",
            "[CV] END ..................C=100, gamma=0.01, kernel=sigmoid; total time=   0.0s\n",
            "[CV] END ..................C=100, gamma=0.01, kernel=sigmoid; total time=   0.0s\n",
            "[CV] END .....................C=100, gamma=0.001, kernel=rbf; total time=   0.0s\n",
            "[CV] END .....................C=100, gamma=0.001, kernel=rbf; total time=   0.0s\n",
            "[CV] END .....................C=100, gamma=0.001, kernel=rbf; total time=   0.0s\n",
            "[CV] END .....................C=100, gamma=0.001, kernel=rbf; total time=   0.0s\n",
            "[CV] END .....................C=100, gamma=0.001, kernel=rbf; total time=   0.0s\n",
            "[CV] END ....................C=100, gamma=0.001, kernel=poly; total time=   0.0s\n",
            "[CV] END ....................C=100, gamma=0.001, kernel=poly; total time=   0.0s\n",
            "[CV] END ....................C=100, gamma=0.001, kernel=poly; total time=   0.0s\n",
            "[CV] END ....................C=100, gamma=0.001, kernel=poly; total time=   0.0s\n",
            "[CV] END ....................C=100, gamma=0.001, kernel=poly; total time=   0.0s\n",
            "[CV] END .................C=100, gamma=0.001, kernel=sigmoid; total time=   0.0s\n",
            "[CV] END .................C=100, gamma=0.001, kernel=sigmoid; total time=   0.0s\n",
            "[CV] END .................C=100, gamma=0.001, kernel=sigmoid; total time=   0.0s\n",
            "[CV] END .................C=100, gamma=0.001, kernel=sigmoid; total time=   0.0s\n",
            "[CV] END .................C=100, gamma=0.001, kernel=sigmoid; total time=   0.0s\n"
          ]
        },
        {
          "output_type": "execute_result",
          "data": {
            "text/plain": [
              "GridSearchCV(estimator=SVC(),\n",
              "             param_grid={'C': [0.1, 1, 10, 100], 'gamma': [1, 0.1, 0.01, 0.001],\n",
              "                         'kernel': ['rbf', 'poly', 'sigmoid']},\n",
              "             verbose=2)"
            ],
            "text/html": [
              "<style>#sk-container-id-2 {color: black;background-color: white;}#sk-container-id-2 pre{padding: 0;}#sk-container-id-2 div.sk-toggleable {background-color: white;}#sk-container-id-2 label.sk-toggleable__label {cursor: pointer;display: block;width: 100%;margin-bottom: 0;padding: 0.3em;box-sizing: border-box;text-align: center;}#sk-container-id-2 label.sk-toggleable__label-arrow:before {content: \"▸\";float: left;margin-right: 0.25em;color: #696969;}#sk-container-id-2 label.sk-toggleable__label-arrow:hover:before {color: black;}#sk-container-id-2 div.sk-estimator:hover label.sk-toggleable__label-arrow:before {color: black;}#sk-container-id-2 div.sk-toggleable__content {max-height: 0;max-width: 0;overflow: hidden;text-align: left;background-color: #f0f8ff;}#sk-container-id-2 div.sk-toggleable__content pre {margin: 0.2em;color: black;border-radius: 0.25em;background-color: #f0f8ff;}#sk-container-id-2 input.sk-toggleable__control:checked~div.sk-toggleable__content {max-height: 200px;max-width: 100%;overflow: auto;}#sk-container-id-2 input.sk-toggleable__control:checked~label.sk-toggleable__label-arrow:before {content: \"▾\";}#sk-container-id-2 div.sk-estimator input.sk-toggleable__control:checked~label.sk-toggleable__label {background-color: #d4ebff;}#sk-container-id-2 div.sk-label input.sk-toggleable__control:checked~label.sk-toggleable__label {background-color: #d4ebff;}#sk-container-id-2 input.sk-hidden--visually {border: 0;clip: rect(1px 1px 1px 1px);clip: rect(1px, 1px, 1px, 1px);height: 1px;margin: -1px;overflow: hidden;padding: 0;position: absolute;width: 1px;}#sk-container-id-2 div.sk-estimator {font-family: monospace;background-color: #f0f8ff;border: 1px dotted black;border-radius: 0.25em;box-sizing: border-box;margin-bottom: 0.5em;}#sk-container-id-2 div.sk-estimator:hover {background-color: #d4ebff;}#sk-container-id-2 div.sk-parallel-item::after {content: \"\";width: 100%;border-bottom: 1px solid gray;flex-grow: 1;}#sk-container-id-2 div.sk-label:hover label.sk-toggleable__label {background-color: #d4ebff;}#sk-container-id-2 div.sk-serial::before {content: \"\";position: absolute;border-left: 1px solid gray;box-sizing: border-box;top: 0;bottom: 0;left: 50%;z-index: 0;}#sk-container-id-2 div.sk-serial {display: flex;flex-direction: column;align-items: center;background-color: white;padding-right: 0.2em;padding-left: 0.2em;position: relative;}#sk-container-id-2 div.sk-item {position: relative;z-index: 1;}#sk-container-id-2 div.sk-parallel {display: flex;align-items: stretch;justify-content: center;background-color: white;position: relative;}#sk-container-id-2 div.sk-item::before, #sk-container-id-2 div.sk-parallel-item::before {content: \"\";position: absolute;border-left: 1px solid gray;box-sizing: border-box;top: 0;bottom: 0;left: 50%;z-index: -1;}#sk-container-id-2 div.sk-parallel-item {display: flex;flex-direction: column;z-index: 1;position: relative;background-color: white;}#sk-container-id-2 div.sk-parallel-item:first-child::after {align-self: flex-end;width: 50%;}#sk-container-id-2 div.sk-parallel-item:last-child::after {align-self: flex-start;width: 50%;}#sk-container-id-2 div.sk-parallel-item:only-child::after {width: 0;}#sk-container-id-2 div.sk-dashed-wrapped {border: 1px dashed gray;margin: 0 0.4em 0.5em 0.4em;box-sizing: border-box;padding-bottom: 0.4em;background-color: white;}#sk-container-id-2 div.sk-label label {font-family: monospace;font-weight: bold;display: inline-block;line-height: 1.2em;}#sk-container-id-2 div.sk-label-container {text-align: center;}#sk-container-id-2 div.sk-container {/* jupyter's `normalize.less` sets `[hidden] { display: none; }` but bootstrap.min.css set `[hidden] { display: none !important; }` so we also need the `!important` here to be able to override the default hidden behavior on the sphinx rendered scikit-learn.org. See: https://github.com/scikit-learn/scikit-learn/issues/21755 */display: inline-block !important;position: relative;}#sk-container-id-2 div.sk-text-repr-fallback {display: none;}</style><div id=\"sk-container-id-2\" class=\"sk-top-container\"><div class=\"sk-text-repr-fallback\"><pre>GridSearchCV(estimator=SVC(),\n",
              "             param_grid={&#x27;C&#x27;: [0.1, 1, 10, 100], &#x27;gamma&#x27;: [1, 0.1, 0.01, 0.001],\n",
              "                         &#x27;kernel&#x27;: [&#x27;rbf&#x27;, &#x27;poly&#x27;, &#x27;sigmoid&#x27;]},\n",
              "             verbose=2)</pre><b>In a Jupyter environment, please rerun this cell to show the HTML representation or trust the notebook. <br />On GitHub, the HTML representation is unable to render, please try loading this page with nbviewer.org.</b></div><div class=\"sk-container\" hidden><div class=\"sk-item sk-dashed-wrapped\"><div class=\"sk-label-container\"><div class=\"sk-label sk-toggleable\"><input class=\"sk-toggleable__control sk-hidden--visually\" id=\"sk-estimator-id-4\" type=\"checkbox\" ><label for=\"sk-estimator-id-4\" class=\"sk-toggleable__label sk-toggleable__label-arrow\">GridSearchCV</label><div class=\"sk-toggleable__content\"><pre>GridSearchCV(estimator=SVC(),\n",
              "             param_grid={&#x27;C&#x27;: [0.1, 1, 10, 100], &#x27;gamma&#x27;: [1, 0.1, 0.01, 0.001],\n",
              "                         &#x27;kernel&#x27;: [&#x27;rbf&#x27;, &#x27;poly&#x27;, &#x27;sigmoid&#x27;]},\n",
              "             verbose=2)</pre></div></div></div><div class=\"sk-parallel\"><div class=\"sk-parallel-item\"><div class=\"sk-item\"><div class=\"sk-label-container\"><div class=\"sk-label sk-toggleable\"><input class=\"sk-toggleable__control sk-hidden--visually\" id=\"sk-estimator-id-5\" type=\"checkbox\" ><label for=\"sk-estimator-id-5\" class=\"sk-toggleable__label sk-toggleable__label-arrow\">estimator: SVC</label><div class=\"sk-toggleable__content\"><pre>SVC()</pre></div></div></div><div class=\"sk-serial\"><div class=\"sk-item\"><div class=\"sk-estimator sk-toggleable\"><input class=\"sk-toggleable__control sk-hidden--visually\" id=\"sk-estimator-id-6\" type=\"checkbox\" ><label for=\"sk-estimator-id-6\" class=\"sk-toggleable__label sk-toggleable__label-arrow\">SVC</label><div class=\"sk-toggleable__content\"><pre>SVC()</pre></div></div></div></div></div></div></div></div></div></div>"
            ]
          },
          "metadata": {},
          "execution_count": 250
        }
      ]
    },
    {
      "cell_type": "code",
      "source": [
        "from sklearn.metrics import classification_report"
      ],
      "metadata": {
        "id": "ADpovOn-F0D4"
      },
      "execution_count": null,
      "outputs": []
    },
    {
      "cell_type": "code",
      "source": [],
      "metadata": {
        "colab": {
          "base_uri": "https://localhost:8080/"
        },
        "id": "jwPX_PoHFy6t",
        "outputId": "7b13c220-f72d-4ce9-f6f8-cf4a6fab76b1"
      },
      "execution_count": null,
      "outputs": [
        {
          "output_type": "stream",
          "name": "stdout",
          "text": [
            "              precision    recall  f1-score   support\n",
            "\n",
            "           0       0.00      0.00      0.00         3\n",
            "           1       0.83      1.00      0.91        15\n",
            "\n",
            "    accuracy                           0.83        18\n",
            "   macro avg       0.42      0.50      0.45        18\n",
            "weighted avg       0.69      0.83      0.76        18\n",
            "\n"
          ]
        },
        {
          "output_type": "stream",
          "name": "stderr",
          "text": [
            "/usr/local/lib/python3.9/dist-packages/sklearn/metrics/_classification.py:1344: UndefinedMetricWarning: Precision and F-score are ill-defined and being set to 0.0 in labels with no predicted samples. Use `zero_division` parameter to control this behavior.\n",
            "  _warn_prf(average, modifier, msg_start, len(result))\n",
            "/usr/local/lib/python3.9/dist-packages/sklearn/metrics/_classification.py:1344: UndefinedMetricWarning: Precision and F-score are ill-defined and being set to 0.0 in labels with no predicted samples. Use `zero_division` parameter to control this behavior.\n",
            "  _warn_prf(average, modifier, msg_start, len(result))\n",
            "/usr/local/lib/python3.9/dist-packages/sklearn/metrics/_classification.py:1344: UndefinedMetricWarning: Precision and F-score are ill-defined and being set to 0.0 in labels with no predicted samples. Use `zero_division` parameter to control this behavior.\n",
            "  _warn_prf(average, modifier, msg_start, len(result))\n"
          ]
        }
      ]
    },
    {
      "cell_type": "code",
      "source": [
        "# encoding Categorical data\n",
        "from sklearn.preprocessing import LabelEncoder\n",
        "le = LabelEncoder()\n",
        "df.iloc[:,1] = le.fit_transform(df.iloc[:,1].values)"
      ],
      "metadata": {
        "execution": {
          "iopub.status.busy": "2023-03-21T09:48:32.720275Z",
          "iopub.execute_input": "2023-03-21T09:48:32.720645Z",
          "iopub.status.idle": "2023-03-21T09:48:32.792836Z",
          "shell.execute_reply.started": "2023-03-21T09:48:32.720590Z",
          "shell.execute_reply": "2023-03-21T09:48:32.791943Z"
        },
        "trusted": true,
        "id": "S3VLWK9xlb72"
      },
      "execution_count": null,
      "outputs": []
    },
    {
      "cell_type": "code",
      "source": [
        "df"
      ],
      "metadata": {
        "execution": {
          "iopub.status.busy": "2023-03-21T09:48:32.794347Z",
          "iopub.execute_input": "2023-03-21T09:48:32.794962Z",
          "iopub.status.idle": "2023-03-21T09:48:32.838964Z",
          "shell.execute_reply.started": "2023-03-21T09:48:32.794913Z",
          "shell.execute_reply": "2023-03-21T09:48:32.837891Z"
        },
        "trusted": true,
        "colab": {
          "base_uri": "https://localhost:8080/",
          "height": 505
        },
        "id": "UU-ZauJ_lb72",
        "outputId": "d77b4cda-3981-4ed5-86e5-c9316119c73b"
      },
      "execution_count": null,
      "outputs": [
        {
          "output_type": "execute_result",
          "data": {
            "text/plain": [
              "     Date_of_Birth_Days  Menopause_at_diagnosis  \\\n",
              "0                -15209                       0   \n",
              "1                -14061                       0   \n",
              "2                -22685                       1   \n",
              "3                -21479                       1   \n",
              "4                -13932                       0   \n",
              "..                  ...                     ...   \n",
              "917              -24183                       1   \n",
              "918              -27677                       1   \n",
              "919              -22792                       1   \n",
              "920              -14884                       0   \n",
              "921              -20954                       1   \n",
              "\n",
              "     Metastatic_at_Presentation_Outside_of_Lymph_Nodes  ER  PR  HER2  \\\n",
              "0                                                    0   0   0     1   \n",
              "1                                                    0   0   0     0   \n",
              "2                                                    0   1   1     0   \n",
              "3                                                    0   1   1     0   \n",
              "4                                                    0   1   0     1   \n",
              "..                                                 ...  ..  ..   ...   \n",
              "917                                                  0   1   1     0   \n",
              "918                                                  0   1   1     0   \n",
              "919                                                  0   1   1     0   \n",
              "920                                                  0   1   1     0   \n",
              "921                                                  0   1   1     0   \n",
              "\n",
              "     Mol_Subtype  Oncotype_score  StagingTumor_Size#_[T]  \\\n",
              "0              2             NaN                     2.0   \n",
              "1              3             NaN                     2.0   \n",
              "2              0             8.0                     2.0   \n",
              "3              0            14.0                     1.0   \n",
              "4              1             NaN                     2.0   \n",
              "..           ...             ...                     ...   \n",
              "917            0             NaN                     2.0   \n",
              "918            0            22.0                     1.0   \n",
              "919            0             9.0                     1.0   \n",
              "920            0             NaN                     2.0   \n",
              "921            0             6.0                     2.0   \n",
              "\n",
              "     StagingNodes#Nx_replaced_by_-1[N]  ...  \\\n",
              "0                                  1.0  ...   \n",
              "1                                  0.0  ...   \n",
              "2                                  1.0  ...   \n",
              "3                                  0.0  ...   \n",
              "4                                  1.0  ...   \n",
              "..                                 ...  ...   \n",
              "917                                2.0  ...   \n",
              "918                                0.0  ...   \n",
              "919                                0.0  ...   \n",
              "920                                1.0  ...   \n",
              "921                                0.0  ...   \n",
              "\n",
              "     Therapeutic_or_Prophylactic_Oophorectomy_as_part_of_Endocrine_Therapy_  \\\n",
              "0                                                    1                        \n",
              "1                                                    0                        \n",
              "2                                                    0                        \n",
              "3                                                    0                        \n",
              "4                                                    0                        \n",
              "..                                                 ...                        \n",
              "917                                                  0                        \n",
              "918                                                  0                        \n",
              "919                                                  0                        \n",
              "920                                                  0                        \n",
              "921                                                  0                        \n",
              "\n",
              "     Neoadjuvant_Anti-Her2_Neu_Therapy  Adjuvant_Anti-Her2_Neu_Therapy_  \\\n",
              "0                                  1.0                              1.0   \n",
              "1                                  0.0                              0.0   \n",
              "2                                  0.0                              0.0   \n",
              "3                                  0.0                              0.0   \n",
              "4                                  1.0                              1.0   \n",
              "..                                 ...                              ...   \n",
              "917                                0.0                              0.0   \n",
              "918                                0.0                              0.0   \n",
              "919                                0.0                              0.0   \n",
              "920                                0.0                              1.0   \n",
              "921                                0.0                              0.0   \n",
              "\n",
              "     Received_Neoadjuvant_Therapy_or_Not  \\\n",
              "0                                    1.0   \n",
              "1                                    1.0   \n",
              "2                                    1.0   \n",
              "3                                    2.0   \n",
              "4                                    1.0   \n",
              "..                                   ...   \n",
              "917                                  2.0   \n",
              "918                                  2.0   \n",
              "919                                  2.0   \n",
              "920                                  2.0   \n",
              "921                                  2.0   \n",
              "\n",
              "     Pathologic_response_to_Neoadjuvant_therapy:_Pathologic_stage_T_following_neoadjuvant_therapy_  \\\n",
              "0                                                  1.0                                               \n",
              "1                                                  NaN                                               \n",
              "2                                                  1.0                                               \n",
              "3                                                  NaN                                               \n",
              "4                                                  0.0                                               \n",
              "..                                                 ...                                               \n",
              "917                                                NaN                                               \n",
              "918                                                NaN                                               \n",
              "919                                                NaN                                               \n",
              "920                                                NaN                                               \n",
              "921                                                NaN                                               \n",
              "\n",
              "     Pathologic_response_to_Neoadjuvant_therapy:__Pathologic_stage_N_following_neoadjuvant_therapy  \\\n",
              "0                                                 -1.0                                               \n",
              "1                                                  NaN                                               \n",
              "2                                                  1.0                                               \n",
              "3                                                  NaN                                               \n",
              "4                                                  0.0                                               \n",
              "..                                                 ...                                               \n",
              "917                                                NaN                                               \n",
              "918                                                NaN                                               \n",
              "919                                                NaN                                               \n",
              "920                                                NaN                                               \n",
              "921                                                NaN                                               \n",
              "\n",
              "    Pathologic_response_to_Neoadjuvant_therapy:__Pathologic_stage_M_following_neoadjuvant_therapy_  \\\n",
              "0                                                 -1.0                                               \n",
              "1                                                  NaN                                               \n",
              "2                                                 -1.0                                               \n",
              "3                                                  NaN                                               \n",
              "4                                                 -1.0                                               \n",
              "..                                                 ...                                               \n",
              "917                                                NaN                                               \n",
              "918                                                NaN                                               \n",
              "919                                                NaN                                               \n",
              "920                                                NaN                                               \n",
              "921                                                NaN                                               \n",
              "\n",
              "    Overall_Near-complete_Response:__Stricter_Definition  \\\n",
              "0                                                  0.0     \n",
              "1                                                  2.0     \n",
              "2                                                  0.0     \n",
              "3                                                  NaN     \n",
              "4                                                  1.0     \n",
              "..                                                 ...     \n",
              "917                                                NaN     \n",
              "918                                                NaN     \n",
              "919                                                NaN     \n",
              "920                                                NaN     \n",
              "921                                                NaN     \n",
              "\n",
              "    Overall_Near-complete_Response:__Looser_Definition  \\\n",
              "0                                                  0.0   \n",
              "1                                                  2.0   \n",
              "2                                                  0.0   \n",
              "3                                                  NaN   \n",
              "4                                                  1.0   \n",
              "..                                                 ...   \n",
              "917                                                NaN   \n",
              "918                                                NaN   \n",
              "919                                                NaN   \n",
              "920                                                NaN   \n",
              "921                                                NaN   \n",
              "\n",
              "     Near-complete_Response_Graded_Measure  \n",
              "0                                      0.0  \n",
              "1                                      4.0  \n",
              "2                                      0.0  \n",
              "3                                      NaN  \n",
              "4                                      1.0  \n",
              "..                                     ...  \n",
              "917                                    NaN  \n",
              "918                                    NaN  \n",
              "919                                    NaN  \n",
              "920                                    NaN  \n",
              "921                                    NaN  \n",
              "\n",
              "[922 rows x 56 columns]"
            ],
            "text/html": [
              "\n",
              "  <div id=\"df-7a6c9814-e15c-4963-be64-e0cdb30ea44d\">\n",
              "    <div class=\"colab-df-container\">\n",
              "      <div>\n",
              "<style scoped>\n",
              "    .dataframe tbody tr th:only-of-type {\n",
              "        vertical-align: middle;\n",
              "    }\n",
              "\n",
              "    .dataframe tbody tr th {\n",
              "        vertical-align: top;\n",
              "    }\n",
              "\n",
              "    .dataframe thead th {\n",
              "        text-align: right;\n",
              "    }\n",
              "</style>\n",
              "<table border=\"1\" class=\"dataframe\">\n",
              "  <thead>\n",
              "    <tr style=\"text-align: right;\">\n",
              "      <th></th>\n",
              "      <th>Date_of_Birth_Days</th>\n",
              "      <th>Menopause_at_diagnosis</th>\n",
              "      <th>Metastatic_at_Presentation_Outside_of_Lymph_Nodes</th>\n",
              "      <th>ER</th>\n",
              "      <th>PR</th>\n",
              "      <th>HER2</th>\n",
              "      <th>Mol_Subtype</th>\n",
              "      <th>Oncotype_score</th>\n",
              "      <th>StagingTumor_Size#_[T]</th>\n",
              "      <th>StagingNodes#Nx_replaced_by_-1[N]</th>\n",
              "      <th>...</th>\n",
              "      <th>Therapeutic_or_Prophylactic_Oophorectomy_as_part_of_Endocrine_Therapy_</th>\n",
              "      <th>Neoadjuvant_Anti-Her2_Neu_Therapy</th>\n",
              "      <th>Adjuvant_Anti-Her2_Neu_Therapy_</th>\n",
              "      <th>Received_Neoadjuvant_Therapy_or_Not</th>\n",
              "      <th>Pathologic_response_to_Neoadjuvant_therapy:_Pathologic_stage_T_following_neoadjuvant_therapy_</th>\n",
              "      <th>Pathologic_response_to_Neoadjuvant_therapy:__Pathologic_stage_N_following_neoadjuvant_therapy</th>\n",
              "      <th>Pathologic_response_to_Neoadjuvant_therapy:__Pathologic_stage_M_following_neoadjuvant_therapy_</th>\n",
              "      <th>Overall_Near-complete_Response:__Stricter_Definition</th>\n",
              "      <th>Overall_Near-complete_Response:__Looser_Definition</th>\n",
              "      <th>Near-complete_Response_Graded_Measure</th>\n",
              "    </tr>\n",
              "  </thead>\n",
              "  <tbody>\n",
              "    <tr>\n",
              "      <th>0</th>\n",
              "      <td>-15209</td>\n",
              "      <td>0</td>\n",
              "      <td>0</td>\n",
              "      <td>0</td>\n",
              "      <td>0</td>\n",
              "      <td>1</td>\n",
              "      <td>2</td>\n",
              "      <td>NaN</td>\n",
              "      <td>2.0</td>\n",
              "      <td>1.0</td>\n",
              "      <td>...</td>\n",
              "      <td>1</td>\n",
              "      <td>1.0</td>\n",
              "      <td>1.0</td>\n",
              "      <td>1.0</td>\n",
              "      <td>1.0</td>\n",
              "      <td>-1.0</td>\n",
              "      <td>-1.0</td>\n",
              "      <td>0.0</td>\n",
              "      <td>0.0</td>\n",
              "      <td>0.0</td>\n",
              "    </tr>\n",
              "    <tr>\n",
              "      <th>1</th>\n",
              "      <td>-14061</td>\n",
              "      <td>0</td>\n",
              "      <td>0</td>\n",
              "      <td>0</td>\n",
              "      <td>0</td>\n",
              "      <td>0</td>\n",
              "      <td>3</td>\n",
              "      <td>NaN</td>\n",
              "      <td>2.0</td>\n",
              "      <td>0.0</td>\n",
              "      <td>...</td>\n",
              "      <td>0</td>\n",
              "      <td>0.0</td>\n",
              "      <td>0.0</td>\n",
              "      <td>1.0</td>\n",
              "      <td>NaN</td>\n",
              "      <td>NaN</td>\n",
              "      <td>NaN</td>\n",
              "      <td>2.0</td>\n",
              "      <td>2.0</td>\n",
              "      <td>4.0</td>\n",
              "    </tr>\n",
              "    <tr>\n",
              "      <th>2</th>\n",
              "      <td>-22685</td>\n",
              "      <td>1</td>\n",
              "      <td>0</td>\n",
              "      <td>1</td>\n",
              "      <td>1</td>\n",
              "      <td>0</td>\n",
              "      <td>0</td>\n",
              "      <td>8.0</td>\n",
              "      <td>2.0</td>\n",
              "      <td>1.0</td>\n",
              "      <td>...</td>\n",
              "      <td>0</td>\n",
              "      <td>0.0</td>\n",
              "      <td>0.0</td>\n",
              "      <td>1.0</td>\n",
              "      <td>1.0</td>\n",
              "      <td>1.0</td>\n",
              "      <td>-1.0</td>\n",
              "      <td>0.0</td>\n",
              "      <td>0.0</td>\n",
              "      <td>0.0</td>\n",
              "    </tr>\n",
              "    <tr>\n",
              "      <th>3</th>\n",
              "      <td>-21479</td>\n",
              "      <td>1</td>\n",
              "      <td>0</td>\n",
              "      <td>1</td>\n",
              "      <td>1</td>\n",
              "      <td>0</td>\n",
              "      <td>0</td>\n",
              "      <td>14.0</td>\n",
              "      <td>1.0</td>\n",
              "      <td>0.0</td>\n",
              "      <td>...</td>\n",
              "      <td>0</td>\n",
              "      <td>0.0</td>\n",
              "      <td>0.0</td>\n",
              "      <td>2.0</td>\n",
              "      <td>NaN</td>\n",
              "      <td>NaN</td>\n",
              "      <td>NaN</td>\n",
              "      <td>NaN</td>\n",
              "      <td>NaN</td>\n",
              "      <td>NaN</td>\n",
              "    </tr>\n",
              "    <tr>\n",
              "      <th>4</th>\n",
              "      <td>-13932</td>\n",
              "      <td>0</td>\n",
              "      <td>0</td>\n",
              "      <td>1</td>\n",
              "      <td>0</td>\n",
              "      <td>1</td>\n",
              "      <td>1</td>\n",
              "      <td>NaN</td>\n",
              "      <td>2.0</td>\n",
              "      <td>1.0</td>\n",
              "      <td>...</td>\n",
              "      <td>0</td>\n",
              "      <td>1.0</td>\n",
              "      <td>1.0</td>\n",
              "      <td>1.0</td>\n",
              "      <td>0.0</td>\n",
              "      <td>0.0</td>\n",
              "      <td>-1.0</td>\n",
              "      <td>1.0</td>\n",
              "      <td>1.0</td>\n",
              "      <td>1.0</td>\n",
              "    </tr>\n",
              "    <tr>\n",
              "      <th>...</th>\n",
              "      <td>...</td>\n",
              "      <td>...</td>\n",
              "      <td>...</td>\n",
              "      <td>...</td>\n",
              "      <td>...</td>\n",
              "      <td>...</td>\n",
              "      <td>...</td>\n",
              "      <td>...</td>\n",
              "      <td>...</td>\n",
              "      <td>...</td>\n",
              "      <td>...</td>\n",
              "      <td>...</td>\n",
              "      <td>...</td>\n",
              "      <td>...</td>\n",
              "      <td>...</td>\n",
              "      <td>...</td>\n",
              "      <td>...</td>\n",
              "      <td>...</td>\n",
              "      <td>...</td>\n",
              "      <td>...</td>\n",
              "      <td>...</td>\n",
              "    </tr>\n",
              "    <tr>\n",
              "      <th>917</th>\n",
              "      <td>-24183</td>\n",
              "      <td>1</td>\n",
              "      <td>0</td>\n",
              "      <td>1</td>\n",
              "      <td>1</td>\n",
              "      <td>0</td>\n",
              "      <td>0</td>\n",
              "      <td>NaN</td>\n",
              "      <td>2.0</td>\n",
              "      <td>2.0</td>\n",
              "      <td>...</td>\n",
              "      <td>0</td>\n",
              "      <td>0.0</td>\n",
              "      <td>0.0</td>\n",
              "      <td>2.0</td>\n",
              "      <td>NaN</td>\n",
              "      <td>NaN</td>\n",
              "      <td>NaN</td>\n",
              "      <td>NaN</td>\n",
              "      <td>NaN</td>\n",
              "      <td>NaN</td>\n",
              "    </tr>\n",
              "    <tr>\n",
              "      <th>918</th>\n",
              "      <td>-27677</td>\n",
              "      <td>1</td>\n",
              "      <td>0</td>\n",
              "      <td>1</td>\n",
              "      <td>1</td>\n",
              "      <td>0</td>\n",
              "      <td>0</td>\n",
              "      <td>22.0</td>\n",
              "      <td>1.0</td>\n",
              "      <td>0.0</td>\n",
              "      <td>...</td>\n",
              "      <td>0</td>\n",
              "      <td>0.0</td>\n",
              "      <td>0.0</td>\n",
              "      <td>2.0</td>\n",
              "      <td>NaN</td>\n",
              "      <td>NaN</td>\n",
              "      <td>NaN</td>\n",
              "      <td>NaN</td>\n",
              "      <td>NaN</td>\n",
              "      <td>NaN</td>\n",
              "    </tr>\n",
              "    <tr>\n",
              "      <th>919</th>\n",
              "      <td>-22792</td>\n",
              "      <td>1</td>\n",
              "      <td>0</td>\n",
              "      <td>1</td>\n",
              "      <td>1</td>\n",
              "      <td>0</td>\n",
              "      <td>0</td>\n",
              "      <td>9.0</td>\n",
              "      <td>1.0</td>\n",
              "      <td>0.0</td>\n",
              "      <td>...</td>\n",
              "      <td>0</td>\n",
              "      <td>0.0</td>\n",
              "      <td>0.0</td>\n",
              "      <td>2.0</td>\n",
              "      <td>NaN</td>\n",
              "      <td>NaN</td>\n",
              "      <td>NaN</td>\n",
              "      <td>NaN</td>\n",
              "      <td>NaN</td>\n",
              "      <td>NaN</td>\n",
              "    </tr>\n",
              "    <tr>\n",
              "      <th>920</th>\n",
              "      <td>-14884</td>\n",
              "      <td>0</td>\n",
              "      <td>0</td>\n",
              "      <td>1</td>\n",
              "      <td>1</td>\n",
              "      <td>0</td>\n",
              "      <td>0</td>\n",
              "      <td>NaN</td>\n",
              "      <td>2.0</td>\n",
              "      <td>1.0</td>\n",
              "      <td>...</td>\n",
              "      <td>0</td>\n",
              "      <td>0.0</td>\n",
              "      <td>1.0</td>\n",
              "      <td>2.0</td>\n",
              "      <td>NaN</td>\n",
              "      <td>NaN</td>\n",
              "      <td>NaN</td>\n",
              "      <td>NaN</td>\n",
              "      <td>NaN</td>\n",
              "      <td>NaN</td>\n",
              "    </tr>\n",
              "    <tr>\n",
              "      <th>921</th>\n",
              "      <td>-20954</td>\n",
              "      <td>1</td>\n",
              "      <td>0</td>\n",
              "      <td>1</td>\n",
              "      <td>1</td>\n",
              "      <td>0</td>\n",
              "      <td>0</td>\n",
              "      <td>6.0</td>\n",
              "      <td>2.0</td>\n",
              "      <td>0.0</td>\n",
              "      <td>...</td>\n",
              "      <td>0</td>\n",
              "      <td>0.0</td>\n",
              "      <td>0.0</td>\n",
              "      <td>2.0</td>\n",
              "      <td>NaN</td>\n",
              "      <td>NaN</td>\n",
              "      <td>NaN</td>\n",
              "      <td>NaN</td>\n",
              "      <td>NaN</td>\n",
              "      <td>NaN</td>\n",
              "    </tr>\n",
              "  </tbody>\n",
              "</table>\n",
              "<p>922 rows × 56 columns</p>\n",
              "</div>\n",
              "      <button class=\"colab-df-convert\" onclick=\"convertToInteractive('df-7a6c9814-e15c-4963-be64-e0cdb30ea44d')\"\n",
              "              title=\"Convert this dataframe to an interactive table.\"\n",
              "              style=\"display:none;\">\n",
              "        \n",
              "  <svg xmlns=\"http://www.w3.org/2000/svg\" height=\"24px\"viewBox=\"0 0 24 24\"\n",
              "       width=\"24px\">\n",
              "    <path d=\"M0 0h24v24H0V0z\" fill=\"none\"/>\n",
              "    <path d=\"M18.56 5.44l.94 2.06.94-2.06 2.06-.94-2.06-.94-.94-2.06-.94 2.06-2.06.94zm-11 1L8.5 8.5l.94-2.06 2.06-.94-2.06-.94L8.5 2.5l-.94 2.06-2.06.94zm10 10l.94 2.06.94-2.06 2.06-.94-2.06-.94-.94-2.06-.94 2.06-2.06.94z\"/><path d=\"M17.41 7.96l-1.37-1.37c-.4-.4-.92-.59-1.43-.59-.52 0-1.04.2-1.43.59L10.3 9.45l-7.72 7.72c-.78.78-.78 2.05 0 2.83L4 21.41c.39.39.9.59 1.41.59.51 0 1.02-.2 1.41-.59l7.78-7.78 2.81-2.81c.8-.78.8-2.07 0-2.86zM5.41 20L4 18.59l7.72-7.72 1.47 1.35L5.41 20z\"/>\n",
              "  </svg>\n",
              "      </button>\n",
              "      \n",
              "  <style>\n",
              "    .colab-df-container {\n",
              "      display:flex;\n",
              "      flex-wrap:wrap;\n",
              "      gap: 12px;\n",
              "    }\n",
              "\n",
              "    .colab-df-convert {\n",
              "      background-color: #E8F0FE;\n",
              "      border: none;\n",
              "      border-radius: 50%;\n",
              "      cursor: pointer;\n",
              "      display: none;\n",
              "      fill: #1967D2;\n",
              "      height: 32px;\n",
              "      padding: 0 0 0 0;\n",
              "      width: 32px;\n",
              "    }\n",
              "\n",
              "    .colab-df-convert:hover {\n",
              "      background-color: #E2EBFA;\n",
              "      box-shadow: 0px 1px 2px rgba(60, 64, 67, 0.3), 0px 1px 3px 1px rgba(60, 64, 67, 0.15);\n",
              "      fill: #174EA6;\n",
              "    }\n",
              "\n",
              "    [theme=dark] .colab-df-convert {\n",
              "      background-color: #3B4455;\n",
              "      fill: #D2E3FC;\n",
              "    }\n",
              "\n",
              "    [theme=dark] .colab-df-convert:hover {\n",
              "      background-color: #434B5C;\n",
              "      box-shadow: 0px 1px 3px 1px rgba(0, 0, 0, 0.15);\n",
              "      filter: drop-shadow(0px 1px 2px rgba(0, 0, 0, 0.3));\n",
              "      fill: #FFFFFF;\n",
              "    }\n",
              "  </style>\n",
              "\n",
              "      <script>\n",
              "        const buttonEl =\n",
              "          document.querySelector('#df-7a6c9814-e15c-4963-be64-e0cdb30ea44d button.colab-df-convert');\n",
              "        buttonEl.style.display =\n",
              "          google.colab.kernel.accessAllowed ? 'block' : 'none';\n",
              "\n",
              "        async function convertToInteractive(key) {\n",
              "          const element = document.querySelector('#df-7a6c9814-e15c-4963-be64-e0cdb30ea44d');\n",
              "          const dataTable =\n",
              "            await google.colab.kernel.invokeFunction('convertToInteractive',\n",
              "                                                     [key], {});\n",
              "          if (!dataTable) return;\n",
              "\n",
              "          const docLinkHtml = 'Like what you see? Visit the ' +\n",
              "            '<a target=\"_blank\" href=https://colab.research.google.com/notebooks/data_table.ipynb>data table notebook</a>'\n",
              "            + ' to learn more about interactive tables.';\n",
              "          element.innerHTML = '';\n",
              "          dataTable['output_type'] = 'display_data';\n",
              "          await google.colab.output.renderOutput(dataTable, element);\n",
              "          const docLink = document.createElement('div');\n",
              "          docLink.innerHTML = docLinkHtml;\n",
              "          element.appendChild(docLink);\n",
              "        }\n",
              "      </script>\n",
              "    </div>\n",
              "  </div>\n",
              "  "
            ]
          },
          "metadata": {},
          "execution_count": 208
        }
      ]
    },
    {
      "cell_type": "code",
      "source": [
        "df = pd.get_dummies(df)"
      ],
      "metadata": {
        "execution": {
          "iopub.status.busy": "2023-03-21T09:48:36.552784Z",
          "iopub.execute_input": "2023-03-21T09:48:36.553628Z",
          "iopub.status.idle": "2023-03-21T09:48:36.605701Z",
          "shell.execute_reply.started": "2023-03-21T09:48:36.553575Z",
          "shell.execute_reply": "2023-03-21T09:48:36.604360Z"
        },
        "trusted": true,
        "id": "6ickBBYrlb76"
      },
      "execution_count": null,
      "outputs": []
    },
    {
      "cell_type": "code",
      "source": [
        "df=df.replace(np.nan,0)"
      ],
      "metadata": {
        "execution": {
          "iopub.status.busy": "2023-03-21T09:48:36.607079Z",
          "iopub.execute_input": "2023-03-21T09:48:36.607476Z",
          "iopub.status.idle": "2023-03-21T09:48:36.621298Z",
          "shell.execute_reply.started": "2023-03-21T09:48:36.607440Z",
          "shell.execute_reply": "2023-03-21T09:48:36.620351Z"
        },
        "trusted": true,
        "id": "TUrCdA0-lb78"
      },
      "execution_count": null,
      "outputs": []
    },
    {
      "cell_type": "code",
      "source": [
        "df = df.abs()\n"
      ],
      "metadata": {
        "execution": {
          "iopub.status.busy": "2023-03-21T09:48:36.623006Z",
          "iopub.execute_input": "2023-03-21T09:48:36.623718Z",
          "iopub.status.idle": "2023-03-21T09:48:36.644624Z",
          "shell.execute_reply.started": "2023-03-21T09:48:36.623666Z",
          "shell.execute_reply": "2023-03-21T09:48:36.643384Z"
        },
        "trusted": true,
        "id": "Peh-lJgklb78"
      },
      "execution_count": null,
      "outputs": []
    },
    {
      "cell_type": "code",
      "source": [
        "df = df[np.isfinite(df).all(1)]\n"
      ],
      "metadata": {
        "execution": {
          "iopub.status.busy": "2023-03-21T09:48:36.646324Z",
          "iopub.execute_input": "2023-03-21T09:48:36.646769Z",
          "iopub.status.idle": "2023-03-21T09:48:36.663613Z",
          "shell.execute_reply.started": "2023-03-21T09:48:36.646722Z",
          "shell.execute_reply": "2023-03-21T09:48:36.662342Z"
        },
        "trusted": true,
        "id": "OE9WONpnlb79"
      },
      "execution_count": null,
      "outputs": []
    },
    {
      "cell_type": "code",
      "source": [
        "df['Recurrence_event']"
      ],
      "metadata": {
        "execution": {
          "iopub.status.busy": "2023-03-21T09:48:36.665452Z",
          "iopub.execute_input": "2023-03-21T09:48:36.665779Z",
          "iopub.status.idle": "2023-03-21T09:48:36.705472Z",
          "shell.execute_reply.started": "2023-03-21T09:48:36.665749Z",
          "shell.execute_reply": "2023-03-21T09:48:36.704312Z"
        },
        "trusted": true,
        "colab": {
          "base_uri": "https://localhost:8080/"
        },
        "id": "CS6hWZcflb79",
        "outputId": "2a9104bb-3b74-4726-9d10-67d5dccb4f0a"
      },
      "execution_count": null,
      "outputs": [
        {
          "output_type": "execute_result",
          "data": {
            "text/plain": [
              "0      0.0\n",
              "1      0.0\n",
              "2      0.0\n",
              "3      0.0\n",
              "4      0.0\n",
              "      ... \n",
              "917    0.0\n",
              "918    0.0\n",
              "919    0.0\n",
              "920    0.0\n",
              "921    0.0\n",
              "Name: Recurrence_event, Length: 922, dtype: float64"
            ]
          },
          "metadata": {},
          "execution_count": 213
        }
      ]
    },
    {
      "cell_type": "markdown",
      "source": [
        "**Train test split for recurrence**"
      ],
      "metadata": {
        "id": "BVBztBq89gpQ"
      }
    },
    {
      "cell_type": "code",
      "source": [
        "# train test split\n",
        "from sklearn.model_selection import train_test_split"
      ],
      "metadata": {
        "id": "FAke8fTZYZb-"
      },
      "execution_count": null,
      "outputs": []
    },
    {
      "cell_type": "code",
      "source": [
        "x = df.drop(['Recurrence_event'], axis=1)\n",
        "y = df['Recurrence_event'].values"
      ],
      "metadata": {
        "execution": {
          "iopub.status.busy": "2023-03-21T09:48:36.707478Z",
          "iopub.execute_input": "2023-03-21T09:48:36.707920Z",
          "iopub.status.idle": "2023-03-21T09:48:36.721739Z",
          "shell.execute_reply.started": "2023-03-21T09:48:36.707872Z",
          "shell.execute_reply": "2023-03-21T09:48:36.720327Z"
        },
        "trusted": true,
        "id": "Nv9HqEcClb7-"
      },
      "execution_count": null,
      "outputs": []
    },
    {
      "cell_type": "code",
      "source": [
        "x_train,x_test,y_train,y_test = train_test_split(x,y,test_size=0.2, random_state=0)"
      ],
      "metadata": {
        "execution": {
          "iopub.status.busy": "2023-03-21T09:48:36.723478Z",
          "iopub.execute_input": "2023-03-21T09:48:36.723972Z",
          "iopub.status.idle": "2023-03-21T09:48:36.750334Z",
          "shell.execute_reply.started": "2023-03-21T09:48:36.723921Z",
          "shell.execute_reply": "2023-03-21T09:48:36.749360Z"
        },
        "trusted": true,
        "id": "_pLy9ZCNlb7-"
      },
      "execution_count": null,
      "outputs": []
    },
    {
      "cell_type": "code",
      "source": [
        "print(np.any(np.isnan(x_train)))\n",
        "print(np.all(np.isfinite(x_train)))"
      ],
      "metadata": {
        "execution": {
          "iopub.status.busy": "2023-03-21T09:48:36.751575Z",
          "iopub.execute_input": "2023-03-21T09:48:36.751932Z",
          "iopub.status.idle": "2023-03-21T09:48:36.762322Z",
          "shell.execute_reply.started": "2023-03-21T09:48:36.751898Z",
          "shell.execute_reply": "2023-03-21T09:48:36.761386Z"
        },
        "trusted": true,
        "colab": {
          "base_uri": "https://localhost:8080/"
        },
        "id": "4ScZhdvclb7_",
        "outputId": "f84b2a18-cdb1-43fa-9615-427950bf1592"
      },
      "execution_count": null,
      "outputs": [
        {
          "output_type": "stream",
          "name": "stdout",
          "text": [
            "False\n",
            "True\n"
          ]
        }
      ]
    },
    {
      "cell_type": "code",
      "source": [
        "from sklearn.preprocessing import StandardScaler\n",
        "sc = StandardScaler()\n",
        "x_train = sc.fit_transform(x_train)\n",
        "x_test = sc.transform(x_test)"
      ],
      "metadata": {
        "execution": {
          "iopub.status.busy": "2023-03-21T09:48:36.763518Z",
          "iopub.execute_input": "2023-03-21T09:48:36.764005Z",
          "iopub.status.idle": "2023-03-21T09:48:36.819394Z",
          "shell.execute_reply.started": "2023-03-21T09:48:36.763967Z",
          "shell.execute_reply": "2023-03-21T09:48:36.818327Z"
        },
        "trusted": true,
        "id": "UoYULbM5lb7_",
        "outputId": "1f477284-6859-4734-c015-934d229f91c0",
        "colab": {
          "base_uri": "https://localhost:8080/",
          "height": 217
        }
      },
      "execution_count": null,
      "outputs": [
        {
          "output_type": "error",
          "ename": "NameError",
          "evalue": "ignored",
          "traceback": [
            "\u001b[0;31m---------------------------------------------------------------------------\u001b[0m",
            "\u001b[0;31mNameError\u001b[0m                                 Traceback (most recent call last)",
            "\u001b[0;32m<ipython-input-1-436d450d7687>\u001b[0m in \u001b[0;36m<cell line: 3>\u001b[0;34m()\u001b[0m\n\u001b[1;32m      1\u001b[0m \u001b[0;32mfrom\u001b[0m \u001b[0msklearn\u001b[0m\u001b[0;34m.\u001b[0m\u001b[0mpreprocessing\u001b[0m \u001b[0;32mimport\u001b[0m \u001b[0mStandardScaler\u001b[0m\u001b[0;34m\u001b[0m\u001b[0;34m\u001b[0m\u001b[0m\n\u001b[1;32m      2\u001b[0m \u001b[0msc\u001b[0m \u001b[0;34m=\u001b[0m \u001b[0mStandardScaler\u001b[0m\u001b[0;34m(\u001b[0m\u001b[0;34m)\u001b[0m\u001b[0;34m\u001b[0m\u001b[0;34m\u001b[0m\u001b[0m\n\u001b[0;32m----> 3\u001b[0;31m \u001b[0mx_train\u001b[0m \u001b[0;34m=\u001b[0m \u001b[0msc\u001b[0m\u001b[0;34m.\u001b[0m\u001b[0mfit_transform\u001b[0m\u001b[0;34m(\u001b[0m\u001b[0mx_train\u001b[0m\u001b[0;34m)\u001b[0m\u001b[0;34m\u001b[0m\u001b[0;34m\u001b[0m\u001b[0m\n\u001b[0m\u001b[1;32m      4\u001b[0m \u001b[0mx_test\u001b[0m \u001b[0;34m=\u001b[0m \u001b[0msc\u001b[0m\u001b[0;34m.\u001b[0m\u001b[0mtransform\u001b[0m\u001b[0;34m(\u001b[0m\u001b[0mx_test\u001b[0m\u001b[0;34m)\u001b[0m\u001b[0;34m\u001b[0m\u001b[0;34m\u001b[0m\u001b[0m\n",
            "\u001b[0;31mNameError\u001b[0m: name 'x_train' is not defined"
          ]
        }
      ]
    },
    {
      "cell_type": "markdown",
      "source": [
        "**Model Building**"
      ],
      "metadata": {
        "id": "eRrNg1uOlb8A"
      }
    },
    {
      "cell_type": "code",
      "source": [
        "# Support Vactor\n",
        "from sklearn.svm import SVC\n",
        "svm =  SVC(random_state=10)\n",
        "svm1 = SVC(kernel='linear',gamma='scale',random_state=10)\n",
        "svm2 = SVC(kernel='rbf',gamma='scale',random_state=10)\n",
        "svm3 = SVC(kernel='poly',gamma='scale',random_state=10)\n",
        "svm4 = SVC(kernel='sigmoid',gamma='scale',random_state=10)\n",
        "\n",
        "svm.fit(x_train,y_train)\n",
        "svm1.fit(x_train,y_train)\n",
        "svm2.fit(x_train,y_train)\n",
        "svm3.fit(x_train,y_train)\n",
        "svm4.fit(x_train,y_train)\n",
        "\n",
        "print('SVC Accuracy : {:,.2f}%'.format(svm.score(x_test,y_test)*100))\n",
        "\n",
        "print('SVC Linear Accuracy : {:,.2f}%'.format(svm1.score(x_test,y_test)*100))\n",
        "\n",
        "print('SVC RBF Accuracy : {:,.2f}%'.format(svm2.score(x_test,y_test)*100))\n",
        "\n",
        "print('SVC Poly Accuracy : {:,.2f}%'.format(svm3.score(x_test,y_test)*100))\n",
        "\n",
        "print('SVC Sigmoid Accuracy : {:,.2f}%'.format(svm4.score(x_test,y_test)*100))\n",
        "\n",
        "\n"
      ],
      "metadata": {
        "execution": {
          "iopub.status.busy": "2023-03-21T09:48:37.039895Z",
          "iopub.execute_input": "2023-03-21T09:48:37.040248Z",
          "iopub.status.idle": "2023-03-21T09:48:46.733816Z",
          "shell.execute_reply.started": "2023-03-21T09:48:37.040214Z",
          "shell.execute_reply": "2023-03-21T09:48:46.732803Z"
        },
        "trusted": true,
        "colab": {
          "base_uri": "https://localhost:8080/"
        },
        "id": "i_ulVliPlb8B",
        "outputId": "493a0a9c-9233-41bf-de57-5ca66486f96c"
      },
      "execution_count": null,
      "outputs": [
        {
          "output_type": "stream",
          "name": "stdout",
          "text": [
            "SVC Accuracy : 89.73%\n",
            "SVC Linear Accuracy : 89.19%\n",
            "SVC RBF Accuracy : 89.73%\n",
            "SVC Poly Accuracy : 89.73%\n",
            "SVC Sigmoid Accuracy : 89.19%\n"
          ]
        }
      ]
    },
    {
      "cell_type": "code",
      "source": [
        "from sklearn.metrics import RocCurveDisplay\n",
        "svc_disp = RocCurveDisplay.from_estimator(svm, x_test, y_test)\n",
        "plt.show()"
      ],
      "metadata": {
        "colab": {
          "base_uri": "https://localhost:8080/",
          "height": 449
        },
        "id": "RRPUS5plCFrl",
        "outputId": "793b5d27-e2e1-4c8b-cdd1-2950c3d898e2"
      },
      "execution_count": null,
      "outputs": [
        {
          "output_type": "display_data",
          "data": {
            "text/plain": [
              "<Figure size 640x480 with 1 Axes>"
            ],
            "image/png": "[encoded data removed]"
          },
          "metadata": {}
        }
      ]
    },
    {
      "cell_type": "code",
      "source": [
        "# GRId search cv"
      ],
      "metadata": {
        "id": "0GTGi7aGQwSv"
      },
      "execution_count": null,
      "outputs": []
    },
    {
      "cell_type": "code",
      "source": [
        "from sklearn.model_selection import GridSearchCV\n",
        "#Create a dictionary called param_grid and fill out some parameters for kernels, C and gamma\n",
        "\n",
        "param_grid = {'C': [0.1,1, 10, 100], 'gamma': [1,0.1,0.01,0.001],'kernel': ['rbf', 'poly', 'sigmoid']}\n",
        "#Create a GridSearchCV object and fit it to the training data\n",
        "\n",
        "grid = GridSearchCV(SVC(),param_grid,refit=True,verbose=2)\n",
        "grid.fit(x_train,y_train)"
      ],
      "metadata": {
        "execution": {
          "iopub.status.busy": "2023-03-21T09:48:46.735374Z",
          "iopub.execute_input": "2023-03-21T09:48:46.735705Z"
        },
        "trusted": true,
        "id": "6ROUKseOlb8B",
        "colab": {
          "base_uri": "https://localhost:8080/",
          "height": 1000
        },
        "outputId": "46d82d05-217d-469b-99ee-29e223b2397a"
      },
      "execution_count": null,
      "outputs": [
        {
          "output_type": "stream",
          "name": "stdout",
          "text": [
            "Fitting 5 folds for each of 48 candidates, totalling 240 fits\n",
            "[CV] END .........................C=0.1, gamma=1, kernel=rbf; total time=   0.6s\n",
            "[CV] END .........................C=0.1, gamma=1, kernel=rbf; total time=   0.6s\n",
            "[CV] END .........................C=0.1, gamma=1, kernel=rbf; total time=   0.6s\n",
            "[CV] END .........................C=0.1, gamma=1, kernel=rbf; total time=   0.7s\n",
            "[CV] END .........................C=0.1, gamma=1, kernel=rbf; total time=   0.6s\n",
            "[CV] END ........................C=0.1, gamma=1, kernel=poly; total time=   0.4s\n",
            "[CV] END ........................C=0.1, gamma=1, kernel=poly; total time=   0.5s\n",
            "[CV] END ........................C=0.1, gamma=1, kernel=poly; total time=   0.5s\n",
            "[CV] END ........................C=0.1, gamma=1, kernel=poly; total time=   0.7s\n",
            "[CV] END ........................C=0.1, gamma=1, kernel=poly; total time=   0.6s\n",
            "[CV] END .....................C=0.1, gamma=1, kernel=sigmoid; total time=   0.1s\n",
            "[CV] END .....................C=0.1, gamma=1, kernel=sigmoid; total time=   0.1s\n",
            "[CV] END .....................C=0.1, gamma=1, kernel=sigmoid; total time=   0.2s\n",
            "[CV] END .....................C=0.1, gamma=1, kernel=sigmoid; total time=   0.2s\n",
            "[CV] END .....................C=0.1, gamma=1, kernel=sigmoid; total time=   0.2s\n",
            "[CV] END .......................C=0.1, gamma=0.1, kernel=rbf; total time=   0.8s\n",
            "[CV] END .......................C=0.1, gamma=0.1, kernel=rbf; total time=   0.7s\n",
            "[CV] END .......................C=0.1, gamma=0.1, kernel=rbf; total time=   0.6s\n",
            "[CV] END .......................C=0.1, gamma=0.1, kernel=rbf; total time=   0.7s\n",
            "[CV] END .......................C=0.1, gamma=0.1, kernel=rbf; total time=   0.7s\n",
            "[CV] END ......................C=0.1, gamma=0.1, kernel=poly; total time=   0.5s\n",
            "[CV] END ......................C=0.1, gamma=0.1, kernel=poly; total time=   0.5s\n",
            "[CV] END ......................C=0.1, gamma=0.1, kernel=poly; total time=   0.5s\n",
            "[CV] END ......................C=0.1, gamma=0.1, kernel=poly; total time=   0.5s\n",
            "[CV] END ......................C=0.1, gamma=0.1, kernel=poly; total time=   0.6s\n",
            "[CV] END ...................C=0.1, gamma=0.1, kernel=sigmoid; total time=   0.1s\n",
            "[CV] END ...................C=0.1, gamma=0.1, kernel=sigmoid; total time=   0.1s\n",
            "[CV] END ...................C=0.1, gamma=0.1, kernel=sigmoid; total time=   0.1s\n",
            "[CV] END ...................C=0.1, gamma=0.1, kernel=sigmoid; total time=   0.1s\n",
            "[CV] END ...................C=0.1, gamma=0.1, kernel=sigmoid; total time=   0.1s\n",
            "[CV] END ......................C=0.1, gamma=0.01, kernel=rbf; total time=   0.6s\n",
            "[CV] END ......................C=0.1, gamma=0.01, kernel=rbf; total time=   0.6s\n",
            "[CV] END ......................C=0.1, gamma=0.01, kernel=rbf; total time=   0.6s\n",
            "[CV] END ......................C=0.1, gamma=0.01, kernel=rbf; total time=   0.6s\n",
            "[CV] END ......................C=0.1, gamma=0.01, kernel=rbf; total time=   0.6s\n",
            "[CV] END .....................C=0.1, gamma=0.01, kernel=poly; total time=   0.5s\n",
            "[CV] END .....................C=0.1, gamma=0.01, kernel=poly; total time=   0.4s\n",
            "[CV] END .....................C=0.1, gamma=0.01, kernel=poly; total time=   0.6s\n",
            "[CV] END .....................C=0.1, gamma=0.01, kernel=poly; total time=   0.6s\n",
            "[CV] END .....................C=0.1, gamma=0.01, kernel=poly; total time=   0.6s\n",
            "[CV] END ..................C=0.1, gamma=0.01, kernel=sigmoid; total time=   0.2s\n",
            "[CV] END ..................C=0.1, gamma=0.01, kernel=sigmoid; total time=   0.2s\n",
            "[CV] END ..................C=0.1, gamma=0.01, kernel=sigmoid; total time=   0.2s\n",
            "[CV] END ..................C=0.1, gamma=0.01, kernel=sigmoid; total time=   0.2s\n",
            "[CV] END ..................C=0.1, gamma=0.01, kernel=sigmoid; total time=   0.2s\n",
            "[CV] END .....................C=0.1, gamma=0.001, kernel=rbf; total time=   0.6s\n",
            "[CV] END .....................C=0.1, gamma=0.001, kernel=rbf; total time=   0.5s\n",
            "[CV] END .....................C=0.1, gamma=0.001, kernel=rbf; total time=   0.6s\n",
            "[CV] END .....................C=0.1, gamma=0.001, kernel=rbf; total time=   0.5s\n",
            "[CV] END .....................C=0.1, gamma=0.001, kernel=rbf; total time=   0.5s\n",
            "[CV] END ....................C=0.1, gamma=0.001, kernel=poly; total time=   0.4s\n",
            "[CV] END ....................C=0.1, gamma=0.001, kernel=poly; total time=   0.5s\n",
            "[CV] END ....................C=0.1, gamma=0.001, kernel=poly; total time=   0.5s\n",
            "[CV] END ....................C=0.1, gamma=0.001, kernel=poly; total time=   0.5s\n",
            "[CV] END ....................C=0.1, gamma=0.001, kernel=poly; total time=   0.5s\n",
            "[CV] END .................C=0.1, gamma=0.001, kernel=sigmoid; total time=   0.3s\n",
            "[CV] END .................C=0.1, gamma=0.001, kernel=sigmoid; total time=   0.4s\n",
            "[CV] END .................C=0.1, gamma=0.001, kernel=sigmoid; total time=   0.3s\n",
            "[CV] END .................C=0.1, gamma=0.001, kernel=sigmoid; total time=   0.3s\n",
            "[CV] END .................C=0.1, gamma=0.001, kernel=sigmoid; total time=   0.3s\n",
            "[CV] END ...........................C=1, gamma=1, kernel=rbf; total time=   0.6s\n",
            "[CV] END ...........................C=1, gamma=1, kernel=rbf; total time=   0.6s\n",
            "[CV] END ...........................C=1, gamma=1, kernel=rbf; total time=   0.6s\n",
            "[CV] END ...........................C=1, gamma=1, kernel=rbf; total time=   0.6s\n",
            "[CV] END ...........................C=1, gamma=1, kernel=rbf; total time=   0.7s\n",
            "[CV] END ..........................C=1, gamma=1, kernel=poly; total time=   0.5s\n",
            "[CV] END ..........................C=1, gamma=1, kernel=poly; total time=   0.6s\n",
            "[CV] END ..........................C=1, gamma=1, kernel=poly; total time=   0.7s\n",
            "[CV] END ..........................C=1, gamma=1, kernel=poly; total time=   0.8s\n",
            "[CV] END ..........................C=1, gamma=1, kernel=poly; total time=   0.7s\n",
            "[CV] END .......................C=1, gamma=1, kernel=sigmoid; total time=   0.1s\n",
            "[CV] END .......................C=1, gamma=1, kernel=sigmoid; total time=   0.1s\n",
            "[CV] END .......................C=1, gamma=1, kernel=sigmoid; total time=   0.1s\n",
            "[CV] END .......................C=1, gamma=1, kernel=sigmoid; total time=   0.1s\n",
            "[CV] END .......................C=1, gamma=1, kernel=sigmoid; total time=   0.1s\n",
            "[CV] END .........................C=1, gamma=0.1, kernel=rbf; total time=   0.7s\n",
            "[CV] END .........................C=1, gamma=0.1, kernel=rbf; total time=   0.7s\n",
            "[CV] END .........................C=1, gamma=0.1, kernel=rbf; total time=   0.6s\n",
            "[CV] END .........................C=1, gamma=0.1, kernel=rbf; total time=   0.7s\n",
            "[CV] END .........................C=1, gamma=0.1, kernel=rbf; total time=   0.6s\n",
            "[CV] END ........................C=1, gamma=0.1, kernel=poly; total time=   0.5s\n",
            "[CV] END ........................C=1, gamma=0.1, kernel=poly; total time=   0.4s\n",
            "[CV] END ........................C=1, gamma=0.1, kernel=poly; total time=   0.5s\n",
            "[CV] END ........................C=1, gamma=0.1, kernel=poly; total time=   0.5s\n",
            "[CV] END ........................C=1, gamma=0.1, kernel=poly; total time=   0.5s\n",
            "[CV] END .....................C=1, gamma=0.1, kernel=sigmoid; total time=   0.1s\n",
            "[CV] END .....................C=1, gamma=0.1, kernel=sigmoid; total time=   0.1s\n",
            "[CV] END .....................C=1, gamma=0.1, kernel=sigmoid; total time=   0.1s\n",
            "[CV] END .....................C=1, gamma=0.1, kernel=sigmoid; total time=   0.1s\n",
            "[CV] END .....................C=1, gamma=0.1, kernel=sigmoid; total time=   0.1s\n",
            "[CV] END ........................C=1, gamma=0.01, kernel=rbf; total time=   0.6s\n",
            "[CV] END ........................C=1, gamma=0.01, kernel=rbf; total time=   0.6s\n",
            "[CV] END ........................C=1, gamma=0.01, kernel=rbf; total time=   0.6s\n",
            "[CV] END ........................C=1, gamma=0.01, kernel=rbf; total time=   0.6s\n",
            "[CV] END ........................C=1, gamma=0.01, kernel=rbf; total time=   0.7s\n",
            "[CV] END .......................C=1, gamma=0.01, kernel=poly; total time=   0.7s\n",
            "[CV] END .......................C=1, gamma=0.01, kernel=poly; total time=   0.7s\n",
            "[CV] END .......................C=1, gamma=0.01, kernel=poly; total time=   0.7s\n",
            "[CV] END .......................C=1, gamma=0.01, kernel=poly; total time=   0.8s\n",
            "[CV] END .......................C=1, gamma=0.01, kernel=poly; total time=   0.5s\n",
            "[CV] END ....................C=1, gamma=0.01, kernel=sigmoid; total time=   0.1s\n",
            "[CV] END ....................C=1, gamma=0.01, kernel=sigmoid; total time=   0.1s\n",
            "[CV] END ....................C=1, gamma=0.01, kernel=sigmoid; total time=   0.1s\n",
            "[CV] END ....................C=1, gamma=0.01, kernel=sigmoid; total time=   0.1s\n",
            "[CV] END ....................C=1, gamma=0.01, kernel=sigmoid; total time=   0.1s\n",
            "[CV] END .......................C=1, gamma=0.001, kernel=rbf; total time=   0.5s\n",
            "[CV] END .......................C=1, gamma=0.001, kernel=rbf; total time=   0.6s\n",
            "[CV] END .......................C=1, gamma=0.001, kernel=rbf; total time=   0.6s\n",
            "[CV] END .......................C=1, gamma=0.001, kernel=rbf; total time=   0.5s\n",
            "[CV] END .......................C=1, gamma=0.001, kernel=rbf; total time=   0.6s\n",
            "[CV] END ......................C=1, gamma=0.001, kernel=poly; total time=   0.5s\n",
            "[CV] END ......................C=1, gamma=0.001, kernel=poly; total time=   0.5s\n",
            "[CV] END ......................C=1, gamma=0.001, kernel=poly; total time=   0.5s\n",
            "[CV] END ......................C=1, gamma=0.001, kernel=poly; total time=   0.5s\n",
            "[CV] END ......................C=1, gamma=0.001, kernel=poly; total time=   0.5s\n",
            "[CV] END ...................C=1, gamma=0.001, kernel=sigmoid; total time=   0.4s\n",
            "[CV] END ...................C=1, gamma=0.001, kernel=sigmoid; total time=   0.3s\n",
            "[CV] END ...................C=1, gamma=0.001, kernel=sigmoid; total time=   0.4s\n",
            "[CV] END ...................C=1, gamma=0.001, kernel=sigmoid; total time=   0.4s\n",
            "[CV] END ...................C=1, gamma=0.001, kernel=sigmoid; total time=   0.4s\n",
            "[CV] END ..........................C=10, gamma=1, kernel=rbf; total time=   0.7s\n",
            "[CV] END ..........................C=10, gamma=1, kernel=rbf; total time=   0.7s\n",
            "[CV] END ..........................C=10, gamma=1, kernel=rbf; total time=   0.6s\n",
            "[CV] END ..........................C=10, gamma=1, kernel=rbf; total time=   0.8s\n",
            "[CV] END ..........................C=10, gamma=1, kernel=rbf; total time=   0.9s\n",
            "[CV] END .........................C=10, gamma=1, kernel=poly; total time=   0.7s\n",
            "[CV] END .........................C=10, gamma=1, kernel=poly; total time=   0.6s\n",
            "[CV] END .........................C=10, gamma=1, kernel=poly; total time=   0.5s\n",
            "[CV] END .........................C=10, gamma=1, kernel=poly; total time=   0.5s\n",
            "[CV] END .........................C=10, gamma=1, kernel=poly; total time=   0.5s\n",
            "[CV] END ......................C=10, gamma=1, kernel=sigmoid; total time=   0.1s\n",
            "[CV] END ......................C=10, gamma=1, kernel=sigmoid; total time=   0.1s\n",
            "[CV] END ......................C=10, gamma=1, kernel=sigmoid; total time=   0.1s\n",
            "[CV] END ......................C=10, gamma=1, kernel=sigmoid; total time=   0.1s\n",
            "[CV] END ......................C=10, gamma=1, kernel=sigmoid; total time=   0.1s\n",
            "[CV] END ........................C=10, gamma=0.1, kernel=rbf; total time=   0.6s\n",
            "[CV] END ........................C=10, gamma=0.1, kernel=rbf; total time=   0.6s\n",
            "[CV] END ........................C=10, gamma=0.1, kernel=rbf; total time=   0.5s\n",
            "[CV] END ........................C=10, gamma=0.1, kernel=rbf; total time=   0.6s\n",
            "[CV] END ........................C=10, gamma=0.1, kernel=rbf; total time=   0.6s\n",
            "[CV] END .......................C=10, gamma=0.1, kernel=poly; total time=   0.5s\n",
            "[CV] END .......................C=10, gamma=0.1, kernel=poly; total time=   0.5s\n",
            "[CV] END .......................C=10, gamma=0.1, kernel=poly; total time=   0.5s\n",
            "[CV] END .......................C=10, gamma=0.1, kernel=poly; total time=   0.5s\n",
            "[CV] END .......................C=10, gamma=0.1, kernel=poly; total time=   0.6s\n",
            "[CV] END ....................C=10, gamma=0.1, kernel=sigmoid; total time=   0.1s\n",
            "[CV] END ....................C=10, gamma=0.1, kernel=sigmoid; total time=   0.1s\n",
            "[CV] END ....................C=10, gamma=0.1, kernel=sigmoid; total time=   0.1s\n",
            "[CV] END ....................C=10, gamma=0.1, kernel=sigmoid; total time=   0.1s\n",
            "[CV] END ....................C=10, gamma=0.1, kernel=sigmoid; total time=   0.1s\n",
            "[CV] END .......................C=10, gamma=0.01, kernel=rbf; total time=   0.7s\n",
            "[CV] END .......................C=10, gamma=0.01, kernel=rbf; total time=   0.6s\n",
            "[CV] END .......................C=10, gamma=0.01, kernel=rbf; total time=   0.6s\n",
            "[CV] END .......................C=10, gamma=0.01, kernel=rbf; total time=   0.7s\n",
            "[CV] END .......................C=10, gamma=0.01, kernel=rbf; total time=   0.8s\n",
            "[CV] END ......................C=10, gamma=0.01, kernel=poly; total time=   0.8s\n",
            "[CV] END ......................C=10, gamma=0.01, kernel=poly; total time=   0.5s\n",
            "[CV] END ......................C=10, gamma=0.01, kernel=poly; total time=   0.4s\n",
            "[CV] END ......................C=10, gamma=0.01, kernel=poly; total time=   0.6s\n",
            "[CV] END ......................C=10, gamma=0.01, kernel=poly; total time=   0.6s\n",
            "[CV] END ...................C=10, gamma=0.01, kernel=sigmoid; total time=   0.0s\n",
            "[CV] END ...................C=10, gamma=0.01, kernel=sigmoid; total time=   0.1s\n",
            "[CV] END ...................C=10, gamma=0.01, kernel=sigmoid; total time=   0.0s\n",
            "[CV] END ...................C=10, gamma=0.01, kernel=sigmoid; total time=   0.1s\n",
            "[CV] END ...................C=10, gamma=0.01, kernel=sigmoid; total time=   0.0s\n",
            "[CV] END ......................C=10, gamma=0.001, kernel=rbf; total time=   0.6s\n",
            "[CV] END ......................C=10, gamma=0.001, kernel=rbf; total time=   0.6s\n",
            "[CV] END ......................C=10, gamma=0.001, kernel=rbf; total time=   0.5s\n",
            "[CV] END ......................C=10, gamma=0.001, kernel=rbf; total time=   0.5s\n",
            "[CV] END ......................C=10, gamma=0.001, kernel=rbf; total time=   0.5s\n",
            "[CV] END .....................C=10, gamma=0.001, kernel=poly; total time=   0.6s\n",
            "[CV] END .....................C=10, gamma=0.001, kernel=poly; total time=   0.5s\n",
            "[CV] END .....................C=10, gamma=0.001, kernel=poly; total time=   0.6s\n",
            "[CV] END .....................C=10, gamma=0.001, kernel=poly; total time=   0.5s\n",
            "[CV] END .....................C=10, gamma=0.001, kernel=poly; total time=   0.5s\n",
            "[CV] END ..................C=10, gamma=0.001, kernel=sigmoid; total time=   0.4s\n",
            "[CV] END ..................C=10, gamma=0.001, kernel=sigmoid; total time=   0.3s\n",
            "[CV] END ..................C=10, gamma=0.001, kernel=sigmoid; total time=   0.3s\n",
            "[CV] END ..................C=10, gamma=0.001, kernel=sigmoid; total time=   0.4s\n",
            "[CV] END ..................C=10, gamma=0.001, kernel=sigmoid; total time=   0.4s\n",
            "[CV] END .........................C=100, gamma=1, kernel=rbf; total time=   0.6s\n",
            "[CV] END .........................C=100, gamma=1, kernel=rbf; total time=   0.9s\n",
            "[CV] END .........................C=100, gamma=1, kernel=rbf; total time=   0.7s\n",
            "[CV] END .........................C=100, gamma=1, kernel=rbf; total time=   0.8s\n",
            "[CV] END .........................C=100, gamma=1, kernel=rbf; total time=   0.8s\n",
            "[CV] END ........................C=100, gamma=1, kernel=poly; total time=   0.5s\n",
            "[CV] END ........................C=100, gamma=1, kernel=poly; total time=   0.5s\n",
            "[CV] END ........................C=100, gamma=1, kernel=poly; total time=   0.5s\n",
            "[CV] END ........................C=100, gamma=1, kernel=poly; total time=   0.5s\n",
            "[CV] END ........................C=100, gamma=1, kernel=poly; total time=   0.5s\n",
            "[CV] END .....................C=100, gamma=1, kernel=sigmoid; total time=   0.1s\n",
            "[CV] END .....................C=100, gamma=1, kernel=sigmoid; total time=   0.1s\n",
            "[CV] END .....................C=100, gamma=1, kernel=sigmoid; total time=   0.1s\n",
            "[CV] END .....................C=100, gamma=1, kernel=sigmoid; total time=   0.1s\n",
            "[CV] END .....................C=100, gamma=1, kernel=sigmoid; total time=   0.0s\n",
            "[CV] END .......................C=100, gamma=0.1, kernel=rbf; total time=   0.5s\n",
            "[CV] END .......................C=100, gamma=0.1, kernel=rbf; total time=   0.5s\n",
            "[CV] END .......................C=100, gamma=0.1, kernel=rbf; total time=   0.6s\n",
            "[CV] END .......................C=100, gamma=0.1, kernel=rbf; total time=   0.6s\n",
            "[CV] END .......................C=100, gamma=0.1, kernel=rbf; total time=   0.7s\n",
            "[CV] END ......................C=100, gamma=0.1, kernel=poly; total time=   0.4s\n",
            "[CV] END ......................C=100, gamma=0.1, kernel=poly; total time=   0.5s\n",
            "[CV] END ......................C=100, gamma=0.1, kernel=poly; total time=   0.5s\n",
            "[CV] END ......................C=100, gamma=0.1, kernel=poly; total time=   0.5s\n",
            "[CV] END ......................C=100, gamma=0.1, kernel=poly; total time=   0.4s\n",
            "[CV] END ...................C=100, gamma=0.1, kernel=sigmoid; total time=   0.1s\n",
            "[CV] END ...................C=100, gamma=0.1, kernel=sigmoid; total time=   0.1s\n",
            "[CV] END ...................C=100, gamma=0.1, kernel=sigmoid; total time=   0.1s\n",
            "[CV] END ...................C=100, gamma=0.1, kernel=sigmoid; total time=   0.1s\n",
            "[CV] END ...................C=100, gamma=0.1, kernel=sigmoid; total time=   0.0s\n",
            "[CV] END ......................C=100, gamma=0.01, kernel=rbf; total time=   0.5s\n",
            "[CV] END ......................C=100, gamma=0.01, kernel=rbf; total time=   0.5s\n",
            "[CV] END ......................C=100, gamma=0.01, kernel=rbf; total time=   0.7s\n",
            "[CV] END ......................C=100, gamma=0.01, kernel=rbf; total time=   0.7s\n",
            "[CV] END ......................C=100, gamma=0.01, kernel=rbf; total time=   0.9s\n",
            "[CV] END .....................C=100, gamma=0.01, kernel=poly; total time=   0.7s\n",
            "[CV] END .....................C=100, gamma=0.01, kernel=poly; total time=   0.5s\n",
            "[CV] END .....................C=100, gamma=0.01, kernel=poly; total time=   0.5s\n",
            "[CV] END .....................C=100, gamma=0.01, kernel=poly; total time=   0.5s\n",
            "[CV] END .....................C=100, gamma=0.01, kernel=poly; total time=   0.5s\n",
            "[CV] END ..................C=100, gamma=0.01, kernel=sigmoid; total time=   0.1s\n",
            "[CV] END ..................C=100, gamma=0.01, kernel=sigmoid; total time=   0.0s\n",
            "[CV] END ..................C=100, gamma=0.01, kernel=sigmoid; total time=   0.0s\n",
            "[CV] END ..................C=100, gamma=0.01, kernel=sigmoid; total time=   0.0s\n",
            "[CV] END ..................C=100, gamma=0.01, kernel=sigmoid; total time=   0.0s\n",
            "[CV] END .....................C=100, gamma=0.001, kernel=rbf; total time=   0.6s\n",
            "[CV] END .....................C=100, gamma=0.001, kernel=rbf; total time=   0.6s\n",
            "[CV] END .....................C=100, gamma=0.001, kernel=rbf; total time=   0.6s\n",
            "[CV] END .....................C=100, gamma=0.001, kernel=rbf; total time=   0.5s\n",
            "[CV] END .....................C=100, gamma=0.001, kernel=rbf; total time=   0.5s\n",
            "[CV] END ....................C=100, gamma=0.001, kernel=poly; total time=   0.4s\n",
            "[CV] END ....................C=100, gamma=0.001, kernel=poly; total time=   0.4s\n",
            "[CV] END ....................C=100, gamma=0.001, kernel=poly; total time=   0.4s\n",
            "[CV] END ....................C=100, gamma=0.001, kernel=poly; total time=   0.5s\n",
            "[CV] END ....................C=100, gamma=0.001, kernel=poly; total time=   0.5s\n",
            "[CV] END .................C=100, gamma=0.001, kernel=sigmoid; total time=   0.4s\n",
            "[CV] END .................C=100, gamma=0.001, kernel=sigmoid; total time=   0.3s\n",
            "[CV] END .................C=100, gamma=0.001, kernel=sigmoid; total time=   0.4s\n",
            "[CV] END .................C=100, gamma=0.001, kernel=sigmoid; total time=   0.4s\n",
            "[CV] END .................C=100, gamma=0.001, kernel=sigmoid; total time=   0.4s\n"
          ]
        },
        {
          "output_type": "execute_result",
          "data": {
            "text/plain": [
              "GridSearchCV(estimator=SVC(),\n",
              "             param_grid={'C': [0.1, 1, 10, 100], 'gamma': [1, 0.1, 0.01, 0.001],\n",
              "                         'kernel': ['rbf', 'poly', 'sigmoid']},\n",
              "             verbose=2)"
            ],
            "text/html": [
              "<style>#sk-container-id-1 {color: black;background-color: white;}#sk-container-id-1 pre{padding: 0;}#sk-container-id-1 div.sk-toggleable {background-color: white;}#sk-container-id-1 label.sk-toggleable__label {cursor: pointer;display: block;width: 100%;margin-bottom: 0;padding: 0.3em;box-sizing: border-box;text-align: center;}#sk-container-id-1 label.sk-toggleable__label-arrow:before {content: \"▸\";float: left;margin-right: 0.25em;color: #696969;}#sk-container-id-1 label.sk-toggleable__label-arrow:hover:before {color: black;}#sk-container-id-1 div.sk-estimator:hover label.sk-toggleable__label-arrow:before {color: black;}#sk-container-id-1 div.sk-toggleable__content {max-height: 0;max-width: 0;overflow: hidden;text-align: left;background-color: #f0f8ff;}#sk-container-id-1 div.sk-toggleable__content pre {margin: 0.2em;color: black;border-radius: 0.25em;background-color: #f0f8ff;}#sk-container-id-1 input.sk-toggleable__control:checked~div.sk-toggleable__content {max-height: 200px;max-width: 100%;overflow: auto;}#sk-container-id-1 input.sk-toggleable__control:checked~label.sk-toggleable__label-arrow:before {content: \"▾\";}#sk-container-id-1 div.sk-estimator input.sk-toggleable__control:checked~label.sk-toggleable__label {background-color: #d4ebff;}#sk-container-id-1 div.sk-label input.sk-toggleable__control:checked~label.sk-toggleable__label {background-color: #d4ebff;}#sk-container-id-1 input.sk-hidden--visually {border: 0;clip: rect(1px 1px 1px 1px);clip: rect(1px, 1px, 1px, 1px);height: 1px;margin: -1px;overflow: hidden;padding: 0;position: absolute;width: 1px;}#sk-container-id-1 div.sk-estimator {font-family: monospace;background-color: #f0f8ff;border: 1px dotted black;border-radius: 0.25em;box-sizing: border-box;margin-bottom: 0.5em;}#sk-container-id-1 div.sk-estimator:hover {background-color: #d4ebff;}#sk-container-id-1 div.sk-parallel-item::after {content: \"\";width: 100%;border-bottom: 1px solid gray;flex-grow: 1;}#sk-container-id-1 div.sk-label:hover label.sk-toggleable__label {background-color: #d4ebff;}#sk-container-id-1 div.sk-serial::before {content: \"\";position: absolute;border-left: 1px solid gray;box-sizing: border-box;top: 0;bottom: 0;left: 50%;z-index: 0;}#sk-container-id-1 div.sk-serial {display: flex;flex-direction: column;align-items: center;background-color: white;padding-right: 0.2em;padding-left: 0.2em;position: relative;}#sk-container-id-1 div.sk-item {position: relative;z-index: 1;}#sk-container-id-1 div.sk-parallel {display: flex;align-items: stretch;justify-content: center;background-color: white;position: relative;}#sk-container-id-1 div.sk-item::before, #sk-container-id-1 div.sk-parallel-item::before {content: \"\";position: absolute;border-left: 1px solid gray;box-sizing: border-box;top: 0;bottom: 0;left: 50%;z-index: -1;}#sk-container-id-1 div.sk-parallel-item {display: flex;flex-direction: column;z-index: 1;position: relative;background-color: white;}#sk-container-id-1 div.sk-parallel-item:first-child::after {align-self: flex-end;width: 50%;}#sk-container-id-1 div.sk-parallel-item:last-child::after {align-self: flex-start;width: 50%;}#sk-container-id-1 div.sk-parallel-item:only-child::after {width: 0;}#sk-container-id-1 div.sk-dashed-wrapped {border: 1px dashed gray;margin: 0 0.4em 0.5em 0.4em;box-sizing: border-box;padding-bottom: 0.4em;background-color: white;}#sk-container-id-1 div.sk-label label {font-family: monospace;font-weight: bold;display: inline-block;line-height: 1.2em;}#sk-container-id-1 div.sk-label-container {text-align: center;}#sk-container-id-1 div.sk-container {/* jupyter's `normalize.less` sets `[hidden] { display: none; }` but bootstrap.min.css set `[hidden] { display: none !important; }` so we also need the `!important` here to be able to override the default hidden behavior on the sphinx rendered scikit-learn.org. See: https://github.com/scikit-learn/scikit-learn/issues/21755 */display: inline-block !important;position: relative;}#sk-container-id-1 div.sk-text-repr-fallback {display: none;}</style><div id=\"sk-container-id-1\" class=\"sk-top-container\"><div class=\"sk-text-repr-fallback\"><pre>GridSearchCV(estimator=SVC(),\n",
              "             param_grid={&#x27;C&#x27;: [0.1, 1, 10, 100], &#x27;gamma&#x27;: [1, 0.1, 0.01, 0.001],\n",
              "                         &#x27;kernel&#x27;: [&#x27;rbf&#x27;, &#x27;poly&#x27;, &#x27;sigmoid&#x27;]},\n",
              "             verbose=2)</pre><b>In a Jupyter environment, please rerun this cell to show the HTML representation or trust the notebook. <br />On GitHub, the HTML representation is unable to render, please try loading this page with nbviewer.org.</b></div><div class=\"sk-container\" hidden><div class=\"sk-item sk-dashed-wrapped\"><div class=\"sk-label-container\"><div class=\"sk-label sk-toggleable\"><input class=\"sk-toggleable__control sk-hidden--visually\" id=\"sk-estimator-id-1\" type=\"checkbox\" ><label for=\"sk-estimator-id-1\" class=\"sk-toggleable__label sk-toggleable__label-arrow\">GridSearchCV</label><div class=\"sk-toggleable__content\"><pre>GridSearchCV(estimator=SVC(),\n",
              "             param_grid={&#x27;C&#x27;: [0.1, 1, 10, 100], &#x27;gamma&#x27;: [1, 0.1, 0.01, 0.001],\n",
              "                         &#x27;kernel&#x27;: [&#x27;rbf&#x27;, &#x27;poly&#x27;, &#x27;sigmoid&#x27;]},\n",
              "             verbose=2)</pre></div></div></div><div class=\"sk-parallel\"><div class=\"sk-parallel-item\"><div class=\"sk-item\"><div class=\"sk-label-container\"><div class=\"sk-label sk-toggleable\"><input class=\"sk-toggleable__control sk-hidden--visually\" id=\"sk-estimator-id-2\" type=\"checkbox\" ><label for=\"sk-estimator-id-2\" class=\"sk-toggleable__label sk-toggleable__label-arrow\">estimator: SVC</label><div class=\"sk-toggleable__content\"><pre>SVC()</pre></div></div></div><div class=\"sk-serial\"><div class=\"sk-item\"><div class=\"sk-estimator sk-toggleable\"><input class=\"sk-toggleable__control sk-hidden--visually\" id=\"sk-estimator-id-3\" type=\"checkbox\" ><label for=\"sk-estimator-id-3\" class=\"sk-toggleable__label sk-toggleable__label-arrow\">SVC</label><div class=\"sk-toggleable__content\"><pre>SVC()</pre></div></div></div></div></div></div></div></div></div></div>"
            ]
          },
          "metadata": {},
          "execution_count": 222
        }
      ]
    },
    {
      "cell_type": "code",
      "source": [
        "print(grid.best_estimator_)\n"
      ],
      "metadata": {
        "trusted": true,
        "id": "kVJ64FKzlb8B",
        "colab": {
          "base_uri": "https://localhost:8080/"
        },
        "outputId": "1fad1629-5405-4b77-fb67-140e92a4d263"
      },
      "execution_count": null,
      "outputs": [
        {
          "output_type": "stream",
          "name": "stdout",
          "text": [
            "SVC(C=1, gamma=0.01, kernel='sigmoid')\n"
          ]
        }
      ]
    },
    {
      "cell_type": "code",
      "source": [
        "from sklearn.metrics import classification_report"
      ],
      "metadata": {
        "trusted": true,
        "id": "wzG3wYUglb8C"
      },
      "execution_count": null,
      "outputs": []
    },
    {
      "cell_type": "code",
      "source": [
        "grid_predictions = grid.predict(x_test)\n",
        "#print(confusion_matrix(y_test,grid_predictions))\n",
        "print(classification_report(y_test,grid_predictions))"
      ],
      "metadata": {
        "trusted": true,
        "id": "D3gX7iVklb8C",
        "colab": {
          "base_uri": "https://localhost:8080/"
        },
        "outputId": "7e243b32-466c-4c10-bf53-f7e0612e5bc8"
      },
      "execution_count": null,
      "outputs": [
        {
          "output_type": "stream",
          "name": "stdout",
          "text": [
            "              precision    recall  f1-score   support\n",
            "\n",
            "         0.0       1.00      0.98      0.99       166\n",
            "         1.0       0.86      1.00      0.93        19\n",
            "\n",
            "    accuracy                           0.98       185\n",
            "   macro avg       0.93      0.99      0.96       185\n",
            "weighted avg       0.99      0.98      0.98       185\n",
            "\n"
          ]
        }
      ]
    },
    {
      "cell_type": "code",
      "source": [
        "from sklearn.metrics import RocCurveDisplay\n",
        "disp = RocCurveDisplay.from_estimator(grid, x_test, y_test)\n",
        "plt.show()"
      ],
      "metadata": {
        "id": "hJRmIXOrEW1H",
        "colab": {
          "base_uri": "https://localhost:8080/",
          "height": 449
        },
        "outputId": "cd7f1c3d-f869-4a13-a8ae-b786220f61ba"
      },
      "execution_count": null,
      "outputs": [
        {
          "output_type": "display_data",
          "data": {
            "text/plain": [
              "<Figure size 640x480 with 1 Axes>"
            ],
            "image/png": "[encoded data removed]"
          },
          "metadata": {}
        }
      ]
    }
  ]
}