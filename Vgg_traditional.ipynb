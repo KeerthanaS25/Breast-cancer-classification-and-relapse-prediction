{
  "cells": [
    {
      "cell_type": "code",
      "execution_count": null,
      "metadata": {
        "colab": {
          "base_uri": "https://localhost:8080/"
        },
        "id": "PsrsOpPdWvwJ",
        "outputId": "27e8a81a-2a60-4377-8cfe-9c00bb3c2593"
      },
      "outputs": [
        {
          "name": "stdout",
          "output_type": "stream",
          "text": [
            "2.12.0\n"
          ]
        }
      ],
      "source": [
        "import cv2\n",
        "import datetime\n",
        "import numpy as np\n",
        "import pandas as pd\n",
        "import tensorflow as tf\n",
        "import os\n",
        "\n",
        "import seaborn as sns\n",
        "import matplotlib.pyplot as plt\n",
        "import matplotlib.gridspec as gridspec\n",
        "%matplotlib inline\n",
        "\n",
        "import sys\n",
        "import warnings\n",
        "if not sys.warnoptions:\n",
        "    warnings.simplefilter(\"ignore\")\n",
        "\n",
        "from random import randint\n",
        "from sklearn.utils import shuffle\n",
        "from sklearn.model_selection import train_test_split\n",
        "from sklearn.metrics import classification_report, confusion_matrix\n",
        "\n",
        "from tensorflow.keras import layers\n",
        "from tensorflow.keras import Model, Sequential\n",
        "from tensorflow.keras.utils import plot_model\n",
        "from tensorflow.keras.callbacks import ReduceLROnPlateau\n",
        "from tensorflow.keras.preprocessing.image import ImageDataGenerator\n",
        "\n",
        "\n",
        "print(tf.__version__)\n"
      ]
    },
    {
      "cell_type": "code",
      "execution_count": null,
      "metadata": {
        "id": "e9vvy510Wz5U"
      },
      "outputs": [],
      "source": [
        "img_width, img_height = 224,224\n",
        "\n",
        "train_data_dir = '/drive/My Drive/trainf/'\n",
        "validation_data_dir = '/drive/My Drive/validf'\n",
        "test_data_dir = '/drive/My Drive/testf/'\n",
        "\n",
        "nb_train_samples = 1601\n",
        "nb_validation_samples = 804\n",
        "epochs = 12\n",
        "batch_size = 50"
      ]
    },
    {
      "cell_type": "code",
      "execution_count": null,
      "metadata": {
        "id": "rFpZkC9DCIqw"
      },
      "outputs": [],
      "source": [
        "CLASSES = {'ERPR': 0, 'HER': 1 , 'Luminal':2 , 'Triple':3}"
      ]
    },
    {
      "cell_type": "code",
      "execution_count": null,
      "metadata": {
        "id": "ohUDDwG9XM6a"
      },
      "outputs": [],
      "source": [
        "train_datagen = ImageDataGenerator(\n",
        "    rescale = 1./255,\n",
        "    shear_range = 0.3,\n",
        "    zoom_range = 0.2,\n",
        "    width_shift_range=0.2,\n",
        "    height_shift_range=0.2,\n",
        "    horizontal_flip = True)\n",
        "\n",
        "test_datagen = ImageDataGenerator(rescale = 1./255)"
      ]
    },
    {
      "cell_type": "code",
      "execution_count": null,
      "metadata": {
        "colab": {
          "base_uri": "https://localhost:8080/"
        },
        "id": "9nGc_f3tC8vW",
        "outputId": "941c6be5-0533-4ac6-e02c-f1d69c25f227"
      },
      "outputs": [
        {
          "name": "stdout",
          "output_type": "stream",
          "text": [
            "Mounted at /drive\n"
          ]
        }
      ],
      "source": [
        "from google.colab import drive\n",
        "drive.mount('/drive', force_remount=True)"
      ]
    },
    {
      "cell_type": "code",
      "execution_count": null,
      "metadata": {
        "colab": {
          "base_uri": "https://localhost:8080/"
        },
        "id": "ESA0wxkTXZ_u",
        "outputId": "be37f493-74c7-426c-8196-8e8a3e3f751f"
      },
      "outputs": [
        {
          "name": "stdout",
          "output_type": "stream",
          "text": [
            "Found 1601 images belonging to 4 classes.\n"
          ]
        }
      ],
      "source": [
        "train_batches = train_datagen.flow_from_directory(\n",
        "    train_data_dir,\n",
        "    target_size = (img_width, img_height),\n",
        "    batch_size = batch_size,\n",
        "    class_mode = 'categorical')"
      ]
    },
    {
      "cell_type": "code",
      "execution_count": null,
      "metadata": {
        "colab": {
          "base_uri": "https://localhost:8080/"
        },
        "id": "HT75cMSBXdQP",
        "outputId": "a0dcba07-4846-4459-9461-34bed36c40aa"
      },
      "outputs": [
        {
          "name": "stdout",
          "output_type": "stream",
          "text": [
            "Found 404 images belonging to 4 classes.\n"
          ]
        }
      ],
      "source": [
        "valid_batches = test_datagen.flow_from_directory(\n",
        "    validation_data_dir,\n",
        "    target_size = (img_width, img_height),\n",
        "    batch_size = batch_size,\n",
        "    class_mode = 'categorical')"
      ]
    },
    {
      "cell_type": "code",
      "execution_count": null,
      "metadata": {
        "colab": {
          "base_uri": "https://localhost:8080/"
        },
        "id": "PbZhkuMsDo1A",
        "outputId": "4f2b265b-5a8c-4345-ede6-a560e266e96b"
      },
      "outputs": [
        {
          "name": "stdout",
          "output_type": "stream",
          "text": [
            "Found 804 images belonging to 4 classes.\n"
          ]
        }
      ],
      "source": [
        "test_batches = test_datagen.flow_from_directory(\n",
        "    test_data_dir,\n",
        "    target_size = (img_width, img_height),\n",
        "    batch_size = batch_size,\n",
        "    class_mode = 'categorical')"
      ]
    },
    {
      "cell_type": "code",
      "execution_count": null,
      "metadata": {
        "id": "zfpUgXArTwfn"
      },
      "outputs": [],
      "source": [
        "import pandas as pd\n",
        "import numpy as np\n",
        "import itertools\n",
        "import keras\n",
        "from sklearn import metrics\n",
        "from sklearn.metrics import confusion_matrix\n",
        "from keras.preprocessing.image import ImageDataGenerator\n",
        "from keras.models import Sequential\n",
        "from keras import optimizers\n",
        "from keras.preprocessing import image\n",
        "from keras.layers import Dropout, Flatten, Dense\n",
        "from keras import applications\n",
        "from keras.utils.np_utils import to_categorical\n",
        "import matplotlib.pyplot as plt\n",
        "import matplotlib.image as mpimg\n",
        "%matplotlib inline\n",
        "import math\n",
        "import datetime"
      ]
    },
    {
      "cell_type": "code",
      "execution_count": null,
      "metadata": {
        "id": "z7xdhmYcTkih"
      },
      "outputs": [],
      "source": [
        "vgg16 = applications.VGG16(include_top=False, weights='imagenet')"
      ]
    },
    {
      "cell_type": "code",
      "execution_count": null,
      "metadata": {
        "colab": {
          "background_save": true,
          "base_uri": "https://localhost:8080/"
        },
        "id": "PoYH53WqUI4B",
        "outputId": "922640fe-40cb-4dda-96b7-4eb6f1ca3dbf"
      },
      "outputs": [
        {
          "name": "stderr",
          "output_type": "stream",
          "text": [
            "<ipython-input-11-fadb67f92965>:3: UserWarning: `Model.predict_generator` is deprecated and will be removed in a future version. Please use `Model.predict`, which supports generators.\n",
            "  bottleneck_features_train = vgg16.predict_generator(train_batches, predict_size_train)\n"
          ]
        }
      ],
      "source": [
        "predict_size_train = int(math.ceil(nb_train_samples / batch_size))\n",
        "\n",
        "bottleneck_features_train = vgg16.predict_generator(train_batches, predict_size_train)"
      ]
    },
    {
      "cell_type": "code",
      "execution_count": null,
      "metadata": {
        "colab": {
          "background_save": true
        },
        "id": "g_vM8pwRUIsK"
      },
      "outputs": [],
      "source": [
        "np.save('bottleneck_features_train.npy', bottleneck_features_train)"
      ]
    },
    {
      "cell_type": "code",
      "execution_count": null,
      "metadata": {
        "colab": {
          "background_save": true,
          "base_uri": "https://localhost:8080/"
        },
        "id": "ppJ1RXJEYu5y",
        "outputId": "2ebc9132-05d6-44fd-c2d0-3e24dad9b26c"
      },
      "outputs": [
        {
          "name": "stdout",
          "output_type": "stream",
          "text": [
            "Found 1601 images belonging to 4 classes.\n"
          ]
        }
      ],
      "source": [
        "generator_top = train_datagen.flow_from_directory(\n",
        "   train_data_dir,\n",
        "   target_size=(img_width, img_height),\n",
        "   batch_size=batch_size,\n",
        "   class_mode='categorical',\n",
        "   shuffle=False)\n",
        "\n",
        "nb_train_samples = len(generator_top.filenames)\n",
        "num_classes = len(generator_top.class_indices)\n",
        "\n",
        "# load the bottleneck features saved earlier\n",
        "train_data = np.load('bottleneck_features_train.npy')\n",
        "\n",
        "# get the class labels for the training data, in the original order\n",
        "train_labels = generator_top.classes\n",
        "\n",
        "# convert the training labels to categorical vectors\n",
        "train_labels = to_categorical(train_labels, num_classes=num_classes)"
      ]
    },
    {
      "cell_type": "code",
      "execution_count": null,
      "metadata": {
        "colab": {
          "background_save": true,
          "base_uri": "https://localhost:8080/"
        },
        "id": "8eufSXJLZ5LS",
        "outputId": "31e8b3ea-efe9-4e35-ce38-3bc19ced7bc2"
      },
      "outputs": [
        {
          "name": "stderr",
          "output_type": "stream",
          "text": [
            "<ipython-input-14-40cf9d13c40f>:3: UserWarning: `Model.predict_generator` is deprecated and will be removed in a future version. Please use `Model.predict`, which supports generators.\n",
            "  bottleneck_features_train = vgg16.predict_generator(valid_batches, predict_size_train)\n",
            "WARNING:tensorflow:Your input ran out of data; interrupting training. Make sure that your dataset or generator can generate at least `steps_per_epoch * epochs` batches (in this case, 17 batches). You may need to use the repeat() function when building your dataset.\n"
          ]
        }
      ],
      "source": [
        "predict_size_train = int(math.ceil(nb_validation_samples / batch_size))\n",
        "\n",
        "bottleneck_features_train = vgg16.predict_generator(valid_batches, predict_size_train)\n",
        "np.save('bottleneck_features_valid.npy', bottleneck_features_train)"
      ]
    },
    {
      "cell_type": "code",
      "execution_count": null,
      "metadata": {
        "colab": {
          "background_save": true
        },
        "id": "PdGGgyOgZr1X",
        "outputId": "c5bba762-5085-4578-b675-6f1dbaa92443"
      },
      "outputs": [
        {
          "name": "stdout",
          "output_type": "stream",
          "text": [
            "Found 404 images belonging to 4 classes.\n"
          ]
        }
      ],
      "source": [
        "generator_top1 = test_datagen.flow_from_directory(\n",
        "   validation_data_dir,\n",
        "   target_size=(img_width, img_height),\n",
        "   batch_size=batch_size,\n",
        "   class_mode='categorical',\n",
        "   shuffle=False)\n",
        "\n",
        "nb_validation_samples = len(generator_top1.filenames)\n",
        "num_classes = len(generator_top1.class_indices)\n",
        "\n",
        "# load the bottleneck features saved earlier\n",
        "validation_data = np.load('bottleneck_features_valid.npy')\n",
        "\n",
        "# get the class labels for the training data, in the original order\n",
        "valid_labels = generator_top1.classes\n",
        "\n",
        "# convert the training labels to categorical vectors\n",
        "valid_labels = to_categorical(valid_labels, num_classes=num_classes)"
      ]
    },
    {
      "cell_type": "code",
      "execution_count": null,
      "metadata": {
        "colab": {
          "background_save": true
        },
        "id": "EQLg4TbJYu2l",
        "outputId": "6c65f0a5-48b2-48b9-956f-aa5e7ea6b5b3"
      },
      "outputs": [
        {
          "name": "stderr",
          "output_type": "stream",
          "text": [
            "/usr/local/lib/python3.9/dist-packages/keras/optimizers/legacy/rmsprop.py:143: UserWarning: The `lr` argument is deprecated, use `learning_rate` instead.\n",
            "  super().__init__(name, **kwargs)\n"
          ]
        },
        {
          "name": "stdout",
          "output_type": "stream",
          "text": [
            "Epoch 1/50\n",
            "33/33 [==============================] - 3s 67ms/step - loss: 1.8491 - acc: 0.2367 - val_loss: 1.5031 - val_acc: 0.2500\n",
            "Epoch 2/50\n",
            "33/33 [==============================] - 2s 60ms/step - loss: 1.6660 - acc: 0.2511 - val_loss: 1.5363 - val_acc: 0.2475\n",
            "Epoch 3/50\n",
            "33/33 [==============================] - 1s 37ms/step - loss: 1.6577 - acc: 0.2761 - val_loss: 1.4216 - val_acc: 0.2673\n",
            "Epoch 4/50\n",
            "33/33 [==============================] - 1s 37ms/step - loss: 1.6050 - acc: 0.2911 - val_loss: 1.4088 - val_acc: 0.2500\n",
            "Epoch 5/50\n",
            "33/33 [==============================] - 1s 37ms/step - loss: 1.5780 - acc: 0.2792 - val_loss: 1.4983 - val_acc: 0.2426\n",
            "Epoch 6/50\n",
            "33/33 [==============================] - 1s 38ms/step - loss: 1.5765 - acc: 0.2911 - val_loss: 1.4105 - val_acc: 0.2624\n",
            "Epoch 7/50\n",
            "33/33 [==============================] - 1s 39ms/step - loss: 1.5627 - acc: 0.2929 - val_loss: 1.4123 - val_acc: 0.2450\n",
            "Epoch 8/50\n",
            "33/33 [==============================] - 1s 36ms/step - loss: 1.5760 - acc: 0.2842 - val_loss: 1.4698 - val_acc: 0.2574\n",
            "Epoch 9/50\n",
            "33/33 [==============================] - 1s 38ms/step - loss: 1.5612 - acc: 0.2867 - val_loss: 1.4217 - val_acc: 0.2500\n",
            "Epoch 10/50\n",
            "33/33 [==============================] - 1s 44ms/step - loss: 1.5587 - acc: 0.3067 - val_loss: 1.4277 - val_acc: 0.2599\n",
            "Epoch 11/50\n",
            "33/33 [==============================] - 2s 60ms/step - loss: 1.5204 - acc: 0.3136 - val_loss: 1.4461 - val_acc: 0.2426\n",
            "Epoch 12/50\n",
            "33/33 [==============================] - 2s 51ms/step - loss: 1.5324 - acc: 0.3073 - val_loss: 1.4271 - val_acc: 0.2624\n",
            "Epoch 13/50\n",
            "33/33 [==============================] - 1s 37ms/step - loss: 1.5010 - acc: 0.3273 - val_loss: 1.4516 - val_acc: 0.2426\n",
            "Epoch 14/50\n",
            "33/33 [==============================] - 1s 38ms/step - loss: 1.5204 - acc: 0.3292 - val_loss: 1.4162 - val_acc: 0.2550\n",
            "Epoch 15/50\n",
            "33/33 [==============================] - 1s 38ms/step - loss: 1.4599 - acc: 0.3448 - val_loss: 1.4284 - val_acc: 0.2252\n",
            "Epoch 16/50\n",
            "33/33 [==============================] - 1s 38ms/step - loss: 1.4813 - acc: 0.3410 - val_loss: 1.4165 - val_acc: 0.2475\n",
            "Epoch 17/50\n",
            "33/33 [==============================] - 1s 36ms/step - loss: 1.4427 - acc: 0.3423 - val_loss: 1.4280 - val_acc: 0.2327\n",
            "Epoch 18/50\n",
            "33/33 [==============================] - 1s 38ms/step - loss: 1.4541 - acc: 0.3535 - val_loss: 1.4542 - val_acc: 0.2376\n",
            "Epoch 19/50\n",
            "33/33 [==============================] - 1s 36ms/step - loss: 1.4682 - acc: 0.3398 - val_loss: 1.4918 - val_acc: 0.2500\n",
            "Epoch 20/50\n",
            "33/33 [==============================] - 1s 43ms/step - loss: 1.4405 - acc: 0.3548 - val_loss: 1.4579 - val_acc: 0.2401\n",
            "Epoch 21/50\n",
            "33/33 [==============================] - 2s 60ms/step - loss: 1.3827 - acc: 0.3779 - val_loss: 1.4336 - val_acc: 0.2500\n",
            "Epoch 22/50\n",
            "33/33 [==============================] - 2s 51ms/step - loss: 1.4089 - acc: 0.3635 - val_loss: 1.4920 - val_acc: 0.2277\n",
            "Epoch 23/50\n",
            "33/33 [==============================] - 1s 38ms/step - loss: 1.4077 - acc: 0.3604 - val_loss: 1.4480 - val_acc: 0.2475\n",
            "Epoch 24/50\n",
            "33/33 [==============================] - 1s 39ms/step - loss: 1.3844 - acc: 0.3798 - val_loss: 1.4241 - val_acc: 0.2624\n",
            "Epoch 25/50\n",
            "33/33 [==============================] - 1s 38ms/step - loss: 1.3782 - acc: 0.3810 - val_loss: 1.4437 - val_acc: 0.2574\n",
            "Epoch 26/50\n",
            "33/33 [==============================] - 1s 36ms/step - loss: 1.3701 - acc: 0.3966 - val_loss: 1.4271 - val_acc: 0.2475\n",
            "Epoch 27/50\n",
            "33/33 [==============================] - 1s 37ms/step - loss: 1.3653 - acc: 0.3929 - val_loss: 1.4565 - val_acc: 0.2599\n",
            "Epoch 28/50\n",
            "33/33 [==============================] - 1s 37ms/step - loss: 1.3133 - acc: 0.4197 - val_loss: 1.4518 - val_acc: 0.2599\n",
            "Epoch 29/50\n",
            "33/33 [==============================] - 1s 36ms/step - loss: 1.3047 - acc: 0.4179 - val_loss: 1.4508 - val_acc: 0.2599\n",
            "Epoch 30/50\n",
            "33/33 [==============================] - 1s 41ms/step - loss: 1.3257 - acc: 0.4254 - val_loss: 1.4712 - val_acc: 0.2599\n",
            "Epoch 31/50\n",
            "33/33 [==============================] - 2s 59ms/step - loss: 1.3028 - acc: 0.4072 - val_loss: 1.5212 - val_acc: 0.2599\n",
            "Epoch 32/50\n",
            "33/33 [==============================] - 2s 52ms/step - loss: 1.3202 - acc: 0.4260 - val_loss: 1.4479 - val_acc: 0.2401\n",
            "Epoch 33/50\n",
            "33/33 [==============================] - 1s 38ms/step - loss: 1.2709 - acc: 0.4403 - val_loss: 1.4918 - val_acc: 0.2500\n",
            "Epoch 34/50\n",
            "33/33 [==============================] - 1s 38ms/step - loss: 1.3074 - acc: 0.4147 - val_loss: 1.4563 - val_acc: 0.2550\n",
            "Epoch 35/50\n",
            "33/33 [==============================] - 1s 37ms/step - loss: 1.3082 - acc: 0.4129 - val_loss: 1.4792 - val_acc: 0.2351\n",
            "Epoch 36/50\n",
            "33/33 [==============================] - 1s 39ms/step - loss: 1.2468 - acc: 0.4503 - val_loss: 1.4895 - val_acc: 0.2698\n",
            "Epoch 37/50\n",
            "33/33 [==============================] - 1s 37ms/step - loss: 1.2311 - acc: 0.4597 - val_loss: 1.4661 - val_acc: 0.2450\n",
            "Epoch 38/50\n",
            "33/33 [==============================] - 1s 39ms/step - loss: 1.2293 - acc: 0.4710 - val_loss: 1.4992 - val_acc: 0.2649\n",
            "Epoch 39/50\n",
            "33/33 [==============================] - 1s 38ms/step - loss: 1.2437 - acc: 0.4716 - val_loss: 1.4671 - val_acc: 0.2599\n",
            "Epoch 40/50\n",
            "33/33 [==============================] - 2s 49ms/step - loss: 1.1946 - acc: 0.4691 - val_loss: 1.4474 - val_acc: 0.2426\n",
            "Epoch 41/50\n",
            "33/33 [==============================] - 2s 60ms/step - loss: 1.1868 - acc: 0.4803 - val_loss: 1.4923 - val_acc: 0.2475\n",
            "Epoch 42/50\n",
            "33/33 [==============================] - 2s 47ms/step - loss: 1.1960 - acc: 0.4735 - val_loss: 1.5085 - val_acc: 0.2599\n",
            "Epoch 43/50\n",
            "33/33 [==============================] - 1s 40ms/step - loss: 1.1810 - acc: 0.4903 - val_loss: 1.4692 - val_acc: 0.2599\n",
            "Epoch 44/50\n",
            "33/33 [==============================] - 1s 37ms/step - loss: 1.1716 - acc: 0.4897 - val_loss: 1.5064 - val_acc: 0.2426\n",
            "Epoch 45/50\n",
            "33/33 [==============================] - 1s 38ms/step - loss: 1.1940 - acc: 0.4772 - val_loss: 1.4910 - val_acc: 0.2500\n",
            "Epoch 46/50\n",
            "33/33 [==============================] - 1s 37ms/step - loss: 1.1431 - acc: 0.5147 - val_loss: 1.5481 - val_acc: 0.2649\n",
            "Epoch 47/50\n",
            "33/33 [==============================] - 1s 36ms/step - loss: 1.1847 - acc: 0.4797 - val_loss: 1.4894 - val_acc: 0.2574\n",
            "Epoch 48/50\n",
            "33/33 [==============================] - 1s 38ms/step - loss: 1.1675 - acc: 0.5078 - val_loss: 1.4939 - val_acc: 0.2698\n",
            "Epoch 49/50\n",
            "33/33 [==============================] - 1s 39ms/step - loss: 1.1082 - acc: 0.5134 - val_loss: 1.6596 - val_acc: 0.2376\n",
            "Epoch 50/50\n",
            "33/33 [==============================] - 2s 48ms/step - loss: 1.1165 - acc: 0.5347 - val_loss: 1.5353 - val_acc: 0.2252\n",
            "9/9 [==============================] - 0s 18ms/step - loss: 1.5353 - acc: 0.2252\n",
            "[INFO] accuracy: 22.52%\n",
            "[INFO] Loss: 1.5353326797485352\n",
            "Time:  0:01:23.577182\n"
          ]
        }
      ],
      "source": [
        "#This is the best model we found. For additional models, check out I_notebook.ipynb\n",
        "start = datetime.datetime.now()\n",
        "model = Sequential()\n",
        "model.add(Flatten(input_shape=train_data.shape[1:]))\n",
        "model.add(Dense(100, activation=keras.layers.LeakyReLU(alpha=0.3)))\n",
        "model.add(Dropout(0.8))\n",
        "model.add(Dense(50, activation=keras.layers.LeakyReLU(alpha=0.3)))\n",
        "model.add(Dropout(0.5))\n",
        "model.add(Dense(num_classes, activation='softmax'))\n",
        "model.compile(loss='categorical_crossentropy',\n",
        "   optimizer=optimizers.RMSprop(lr=1e-4),\n",
        "   metrics=['acc'])\n",
        "history = model.fit(train_data, train_labels,epochs=50,batch_size=batch_size,validation_data=(validation_data, valid_labels))\n",
        "#model.save_weights(top_model_weights_path)\n",
        "(eval_loss, eval_accuracy) = model.evaluate(validation_data, valid_labels, batch_size=batch_size,verbose=1)\n",
        "print(\"[INFO] accuracy: {:.2f}%\".format(eval_accuracy * 100))\n",
        "print(\"[INFO] Loss: {}\".format(eval_loss))\n",
        "end= datetime.datetime.now()\n",
        "elapsed= end-start\n",
        "print ('Time: ', elapsed)"
      ]
    },
    {
      "cell_type": "code",
      "execution_count": null,
      "metadata": {
        "colab": {
          "background_save": true
        },
        "id": "T02PDfK_kHkU"
      },
      "outputs": [],
      "source": [
        "#TRIAL"
      ]
    },
    {
      "cell_type": "code",
      "execution_count": null,
      "metadata": {
        "colab": {
          "background_save": true
        },
        "id": "P4FQIVxqkJa5"
      },
      "outputs": [],
      "source": []
    },
    {
      "cell_type": "code",
      "execution_count": null,
      "metadata": {
        "colab": {
          "background_save": true
        },
        "id": "uoN_2S10OTu1",
        "outputId": "020d67c7-b5bc-4cbf-fafe-56a1bd01291d"
      },
      "outputs": [
        {
          "name": "stdout",
          "output_type": "stream",
          "text": [
            "Epoch 1/50\n",
            "33/33 [==============================] - 3s 45ms/step - loss: 1.6479 - acc: 0.2423 - val_loss: 1.3900 - val_acc: 0.2500\n",
            "Epoch 2/50\n",
            "33/33 [==============================] - 1s 37ms/step - loss: 1.5600 - acc: 0.2536 - val_loss: 1.3900 - val_acc: 0.2550\n",
            "Epoch 3/50\n",
            "33/33 [==============================] - 1s 38ms/step - loss: 1.5232 - acc: 0.2711 - val_loss: 1.4069 - val_acc: 0.2500\n",
            "Epoch 4/50\n",
            "33/33 [==============================] - 1s 38ms/step - loss: 1.5452 - acc: 0.2555 - val_loss: 1.3894 - val_acc: 0.2376\n",
            "Epoch 5/50\n",
            "33/33 [==============================] - 1s 39ms/step - loss: 1.5135 - acc: 0.2555 - val_loss: 1.3931 - val_acc: 0.2624\n",
            "Epoch 6/50\n",
            "33/33 [==============================] - 1s 36ms/step - loss: 1.4977 - acc: 0.2611 - val_loss: 1.3937 - val_acc: 0.2426\n",
            "Epoch 7/50\n",
            "33/33 [==============================] - 1s 38ms/step - loss: 1.4944 - acc: 0.2630 - val_loss: 1.3897 - val_acc: 0.2500\n",
            "Epoch 8/50\n",
            "33/33 [==============================] - 1s 45ms/step - loss: 1.4964 - acc: 0.2804 - val_loss: 1.3909 - val_acc: 0.2500\n",
            "Epoch 9/50\n",
            "33/33 [==============================] - 2s 61ms/step - loss: 1.5010 - acc: 0.2592 - val_loss: 1.4046 - val_acc: 0.2574\n",
            "Epoch 10/50\n",
            "33/33 [==============================] - 2s 50ms/step - loss: 1.5003 - acc: 0.2717 - val_loss: 1.3872 - val_acc: 0.2525\n",
            "Epoch 11/50\n",
            "33/33 [==============================] - 1s 40ms/step - loss: 1.4743 - acc: 0.2829 - val_loss: 1.3894 - val_acc: 0.2450\n",
            "Epoch 12/50\n",
            "33/33 [==============================] - 2s 53ms/step - loss: 1.4870 - acc: 0.2873 - val_loss: 1.3942 - val_acc: 0.2500\n",
            "Epoch 13/50\n",
            "33/33 [==============================] - 1s 38ms/step - loss: 1.4925 - acc: 0.2692 - val_loss: 1.3869 - val_acc: 0.2599\n",
            "Epoch 14/50\n",
            "33/33 [==============================] - 1s 38ms/step - loss: 1.4701 - acc: 0.2605 - val_loss: 1.3946 - val_acc: 0.2500\n",
            "Epoch 15/50\n",
            "33/33 [==============================] - 1s 38ms/step - loss: 1.4571 - acc: 0.2742 - val_loss: 1.3859 - val_acc: 0.2525\n",
            "Epoch 16/50\n",
            "33/33 [==============================] - 1s 36ms/step - loss: 1.4652 - acc: 0.2817 - val_loss: 1.3958 - val_acc: 0.2475\n",
            "Epoch 17/50\n",
            "33/33 [==============================] - 1s 40ms/step - loss: 1.4818 - acc: 0.2817 - val_loss: 1.3930 - val_acc: 0.2550\n",
            "Epoch 18/50\n",
            "33/33 [==============================] - 2s 61ms/step - loss: 1.4604 - acc: 0.2892 - val_loss: 1.3909 - val_acc: 0.2500\n",
            "Epoch 19/50\n",
            "33/33 [==============================] - 2s 58ms/step - loss: 1.4497 - acc: 0.2848 - val_loss: 1.3916 - val_acc: 0.2500\n",
            "Epoch 20/50\n",
            "33/33 [==============================] - 1s 37ms/step - loss: 1.4546 - acc: 0.2742 - val_loss: 1.3956 - val_acc: 0.2500\n",
            "Epoch 21/50\n",
            "33/33 [==============================] - 1s 37ms/step - loss: 1.4391 - acc: 0.2755 - val_loss: 1.3902 - val_acc: 0.2500\n",
            "Epoch 22/50\n",
            "33/33 [==============================] - 1s 37ms/step - loss: 1.4676 - acc: 0.2736 - val_loss: 1.3890 - val_acc: 0.2426\n",
            "Epoch 23/50\n",
            "33/33 [==============================] - 1s 39ms/step - loss: 1.4224 - acc: 0.3011 - val_loss: 1.3889 - val_acc: 0.2550\n",
            "Epoch 24/50\n",
            "33/33 [==============================] - 1s 38ms/step - loss: 1.4451 - acc: 0.2948 - val_loss: 1.4003 - val_acc: 0.2550\n",
            "Epoch 25/50\n",
            "33/33 [==============================] - 1s 39ms/step - loss: 1.4447 - acc: 0.2804 - val_loss: 1.3955 - val_acc: 0.2500\n",
            "Epoch 26/50\n",
            "33/33 [==============================] - 1s 39ms/step - loss: 1.4240 - acc: 0.2986 - val_loss: 1.3890 - val_acc: 0.2525\n",
            "Epoch 27/50\n",
            "33/33 [==============================] - 1s 45ms/step - loss: 1.4347 - acc: 0.3004 - val_loss: 1.4036 - val_acc: 0.2376\n",
            "Epoch 28/50\n",
            "33/33 [==============================] - 2s 63ms/step - loss: 1.4153 - acc: 0.3029 - val_loss: 1.3899 - val_acc: 0.2500\n",
            "Epoch 29/50\n",
            "33/33 [==============================] - 2s 51ms/step - loss: 1.4232 - acc: 0.2879 - val_loss: 1.3943 - val_acc: 0.2500\n",
            "Epoch 30/50\n",
            "33/33 [==============================] - 1s 39ms/step - loss: 1.4112 - acc: 0.3054 - val_loss: 1.3925 - val_acc: 0.2599\n",
            "Epoch 31/50\n",
            "33/33 [==============================] - 1s 38ms/step - loss: 1.4132 - acc: 0.3054 - val_loss: 1.3895 - val_acc: 0.2500\n",
            "Epoch 32/50\n",
            "33/33 [==============================] - 1s 39ms/step - loss: 1.4000 - acc: 0.3260 - val_loss: 1.3988 - val_acc: 0.2376\n",
            "Epoch 33/50\n",
            "33/33 [==============================] - 1s 36ms/step - loss: 1.4095 - acc: 0.3129 - val_loss: 1.3947 - val_acc: 0.2228\n",
            "Epoch 34/50\n",
            "33/33 [==============================] - 1s 38ms/step - loss: 1.4201 - acc: 0.2942 - val_loss: 1.3915 - val_acc: 0.2525\n",
            "Epoch 35/50\n",
            "33/33 [==============================] - 1s 39ms/step - loss: 1.4063 - acc: 0.3235 - val_loss: 1.3963 - val_acc: 0.2500\n",
            "Epoch 36/50\n",
            "33/33 [==============================] - 1s 39ms/step - loss: 1.4114 - acc: 0.2967 - val_loss: 1.3920 - val_acc: 0.2525\n",
            "Epoch 37/50\n",
            "33/33 [==============================] - 2s 49ms/step - loss: 1.4005 - acc: 0.3061 - val_loss: 1.3965 - val_acc: 0.2525\n",
            "Epoch 38/50\n",
            "33/33 [==============================] - 2s 60ms/step - loss: 1.3829 - acc: 0.3223 - val_loss: 1.3974 - val_acc: 0.2574\n",
            "Epoch 39/50\n",
            "33/33 [==============================] - 2s 46ms/step - loss: 1.3895 - acc: 0.3186 - val_loss: 1.3962 - val_acc: 0.2500\n",
            "Epoch 40/50\n",
            "33/33 [==============================] - 1s 36ms/step - loss: 1.3816 - acc: 0.3098 - val_loss: 1.3989 - val_acc: 0.2500\n",
            "Epoch 41/50\n",
            "33/33 [==============================] - 1s 39ms/step - loss: 1.4028 - acc: 0.3023 - val_loss: 1.3937 - val_acc: 0.2475\n",
            "Epoch 42/50\n",
            "33/33 [==============================] - 1s 40ms/step - loss: 1.3765 - acc: 0.3323 - val_loss: 1.4147 - val_acc: 0.2450\n",
            "Epoch 43/50\n",
            "33/33 [==============================] - 1s 39ms/step - loss: 1.3983 - acc: 0.3029 - val_loss: 1.4049 - val_acc: 0.2525\n",
            "Epoch 44/50\n",
            "33/33 [==============================] - 1s 37ms/step - loss: 1.3901 - acc: 0.3279 - val_loss: 1.3955 - val_acc: 0.2574\n",
            "Epoch 45/50\n",
            "33/33 [==============================] - 1s 39ms/step - loss: 1.3871 - acc: 0.3142 - val_loss: 1.3914 - val_acc: 0.2673\n",
            "Epoch 46/50\n",
            "33/33 [==============================] - 1s 40ms/step - loss: 1.3779 - acc: 0.3335 - val_loss: 1.3941 - val_acc: 0.2649\n",
            "Epoch 47/50\n",
            "33/33 [==============================] - 2s 55ms/step - loss: 1.3629 - acc: 0.3404 - val_loss: 1.3971 - val_acc: 0.2599\n",
            "Epoch 48/50\n",
            "33/33 [==============================] - 2s 61ms/step - loss: 1.3652 - acc: 0.3329 - val_loss: 1.4186 - val_acc: 0.2550\n",
            "Epoch 49/50\n",
            "33/33 [==============================] - 1s 41ms/step - loss: 1.3540 - acc: 0.3473 - val_loss: 1.4021 - val_acc: 0.2500\n",
            "Epoch 50/50\n",
            "33/33 [==============================] - 1s 36ms/step - loss: 1.3636 - acc: 0.3429 - val_loss: 1.3985 - val_acc: 0.2723\n",
            "9/9 [==============================] - 0s 15ms/step - loss: 1.3985 - acc: 0.2723\n",
            "[INFO] accuracy: 27.23%\n",
            "[INFO] Loss: 1.3984720706939697\n",
            "Time:  0:01:23.943697\n"
          ]
        }
      ],
      "source": [
        "start = datetime.datetime.now()\n",
        "model = Sequential()\n",
        "model.add(Flatten(input_shape=train_data.shape[1:]))\n",
        "model.add(Dense(100, activation=keras.layers.LeakyReLU(alpha=0.3)))\n",
        "model.add(Dropout(0.8))\n",
        "model.add(Dense(50, activation=keras.layers.LeakyReLU(alpha=0.3)))\n",
        "model.add(Dropout(0.5))\n",
        "model.add(Dense(25, activation=keras.layers.LeakyReLU(alpha=0.3))) # Add a new Dense layer with 25 units\n",
        "model.add(Dropout(0.3)) # Add Dropout layer after the new Dense layer\n",
        "model.add(Dense(10, activation=keras.layers.LeakyReLU(alpha=0.3))) # Add another Dense layer with 10 units\n",
        "model.add(Dense(num_classes, activation='softmax'))\n",
        "model.compile(loss='categorical_crossentropy',\n",
        "   optimizer=optimizers.RMSprop(lr=1e-4),\n",
        "   metrics=['acc'])\n",
        "history = model.fit(train_data, train_labels,epochs=50,batch_size=batch_size,validation_data=(validation_data, valid_labels))\n",
        "#model.save_weights(top_model_weights_path)\n",
        "(eval_loss, eval_accuracy) = model.evaluate(validation_data, valid_labels, batch_size=batch_size,verbose=1)\n",
        "print(\"[INFO] accuracy: {:.2f}%\".format(eval_accuracy * 100))\n",
        "print(\"[INFO] Loss: {}\".format(eval_loss))\n",
        "end= datetime.datetime.now()\n",
        "elapsed= end-start\n",
        "print ('Time: ', elapsed)\n"
      ]
    },
    {
      "cell_type": "code",
      "execution_count": null,
      "metadata": {
        "colab": {
          "background_save": true
        },
        "id": "hKmRonQtYu0I",
        "outputId": "ae1903c4-4711-4d1c-bf0a-1f0eca5a20c3"
      },
      "outputs": [
        {
          "data": {
            "image/png": "[encoded data removed]",
            "text/plain": [
              "<Figure size 640x480 with 1 Axes>"
            ]
          },
          "metadata": {},
          "output_type": "display_data"
        },
        {
          "data": {
            "image/png": "[encoded data removed]",
            "text/plain": [
              "<Figure size 640x480 with 1 Axes>"
            ]
          },
          "metadata": {},
          "output_type": "display_data"
        }
      ],
      "source": [
        "acc = history.history['acc']\n",
        "val_acc = history.history['val_acc']\n",
        "loss = history.history['loss']\n",
        "val_loss = history.history['val_loss']\n",
        "epochs = range(len(acc))\n",
        "plt.plot(epochs, acc, 'r', label='Training acc')\n",
        "plt.plot(epochs, val_acc, 'b', label='Validation acc')\n",
        "plt.title('Training and validation accuracy')\n",
        "plt.ylabel('accuracy')\n",
        "plt.xlabel('epoch')\n",
        "plt.legend()\n",
        "plt.figure()\n",
        "plt.plot(epochs, loss, 'r', label='Training loss')\n",
        "plt.plot(epochs, val_loss, 'b', label='Validation loss')\n",
        "plt.title('Training and validation loss')\n",
        "plt.ylabel('loss')\n",
        "plt.xlabel('epoch')\n",
        "plt.legend()\n",
        "plt.show()"
      ]
    }
  ],
  "metadata": {
    "colab": {
      "provenance": []
    },
    "kernelspec": {
      "display_name": "Python 3",
      "name": "python3"
    },
    "language_info": {
      "name": "python"
    }
  },
  "nbformat": 4,
  "nbformat_minor": 0
}