{
  "cells": [
    {
      "cell_type": "code",
      "execution_count": null,
      "metadata": {
        "id": "0xMif8ogJxFz"
      },
      "outputs": [],
      "source": [
        "import os\n",
        "import time\n",
        "import random\n",
        "import numpy as np\n",
        "from numpy import argmax\n",
        "import pandas as pd\n",
        "import json\n",
        "from collections import OrderedDict, namedtuple\n",
        "from itertools import product\n",
        "from PIL import Image\n",
        "import seaborn as sns\n",
        "import matplotlib.pyplot as plt\n",
        "%matplotlib inline\n",
        "\n",
        "import torch\n",
        "import torch.nn as nn\n",
        "import torch.nn.functional as F\n",
        "from torch.optim import Adam\n",
        "import torchvision\n",
        "from torchvision import datasets, transforms, models\n",
        "from torch.utils.data import DataLoader\n",
        "from torch.utils.tensorboard import SummaryWriter\n",
        "\n",
        "import warnings\n",
        "warnings.filterwarnings('ignore', category=FutureWarning)"
      ]
    },
    {
      "cell_type": "code",
      "execution_count": null,
      "metadata": {
        "colab": {
          "base_uri": "https://localhost:8080/"
        },
        "id": "7qrpviNqOEYM",
        "outputId": "427e86d2-fdf9-4794-a077-a94b5e5792ad"
      },
      "outputs": [
        {
          "output_type": "stream",
          "name": "stdout",
          "text": [
            "Device type: cuda\n"
          ]
        }
      ],
      "source": [
        "# Enable GPU processing\n",
        "device = torch.device(\"cuda\" if torch.cuda.is_available() else \"cpu\")\n",
        "print(f'Device type: {device}')"
      ]
    },
    {
      "cell_type": "code",
      "execution_count": null,
      "metadata": {
        "colab": {
          "base_uri": "https://localhost:8080/"
        },
        "id": "hgXg-BmlOQRZ",
        "outputId": "462bc3e0-ce97-4ce5-c6bb-bc0d567f7ab5"
      },
      "outputs": [
        {
          "output_type": "stream",
          "name": "stdout",
          "text": [
            "Mounted at /drive\n"
          ]
        }
      ],
      "source": [
        "from google.colab import drive\n",
        "drive.mount('/drive', force_remount=True)"
      ]
    },
    {
      "cell_type": "code",
      "execution_count": null,
      "metadata": {
        "colab": {
          "base_uri": "https://localhost:8080/"
        },
        "id": "9Xxc0uhwOVZx",
        "outputId": "70eb4b49-5289-4f84-9d4b-d7de4ae26ded"
      },
      "outputs": [
        {
          "output_type": "execute_result",
          "data": {
            "text/plain": [
              "<torch._C.Generator at 0x7fb0615dfe10>"
            ]
          },
          "metadata": {},
          "execution_count": 93
        }
      ],
      "source": [
        "# Set random seed\n",
        "seed = 777\n",
        "torch.manual_seed(seed)"
      ]
    },
    {
      "cell_type": "code",
      "execution_count": null,
      "metadata": {
        "id": "ETZgtt0yOgJU"
      },
      "outputs": [],
      "source": [
        "# Define data directory parameters\n",
        "datadir = '/drive/My Drive/'\n",
        "traindir = datadir + 'trainf/'\n",
        "validdir = datadir + 'validf/'\n",
        "testdir = datadir + 'testf/'"
      ]
    },
    {
      "cell_type": "code",
      "execution_count": null,
      "metadata": {
        "id": "AOxrCwcUOmLf",
        "colab": {
          "base_uri": "https://localhost:8080/"
        },
        "outputId": "50205a1f-c803-4ea3-9f50-cfb63255a2bc"
      },
      "outputs": [
        {
          "output_type": "stream",
          "name": "stdout",
          "text": [
            "Classes: ['HER2', 'Luminal', 'Triple', 'ER_PR_HER2']\n",
            "Training images per class: [400, 401, 400, 400]\n",
            "Validation images per class: [101, 101, 101, 101]\n",
            "Test images per class: [201, 201, 201, 201]\n"
          ]
        }
      ],
      "source": [
        "# Confirm image class distribution\n",
        "\n",
        "# Empty lists\n",
        "classes = []\n",
        "n_train = []\n",
        "n_valid = []\n",
        "n_test = []\n",
        "\n",
        "# Iterate through each category\n",
        "for d in os.listdir(traindir):\n",
        "    classes.append(d)\n",
        "\n",
        "    # Number of each image\n",
        "    train_imgs = os.listdir(traindir + d)\n",
        "    valid_imgs = os.listdir(validdir + d)\n",
        "    test_imgs = os.listdir(testdir + d)\n",
        "    n_train.append(len(train_imgs))\n",
        "    n_valid.append(len(valid_imgs))\n",
        "    n_test.append(len(test_imgs))\n",
        "\n",
        "print(f'Classes: {classes}')\n",
        "print(f'Training images per class: {n_train}')\n",
        "print(f'Validation images per class: {n_valid}')\n",
        "print(f'Test images per class: {n_test}')"
      ]
    },
    {
      "cell_type": "code",
      "execution_count": null,
      "metadata": {
        "id": "s98kGpUQOpqH"
      },
      "outputs": [],
      "source": [
        "# Define an image transformations dictionary\n",
        "image_transforms = {\n",
        "    # Training set uses data augmentation\n",
        "    'train':\n",
        "    transforms.Compose([\n",
        "        transforms.Resize(size=256),\n",
        "        transforms.RandomAffine(degrees=(0,30)),\n",
        "        transforms.RandomHorizontalFlip(),\n",
        "        transforms.CenterCrop(size=224),\n",
        "        transforms.ToTensor(),\n",
        "        transforms.Normalize([0.485, 0.456, 0.406], [0.229, 0.224, 0.225]) # Imagenet standards\n",
        "    ]),\n",
        "    # No image augmentation for the validation and test sets\n",
        "    'val':\n",
        "    transforms.Compose([\n",
        "        transforms.Resize(size=256),\n",
        "        transforms.CenterCrop(size=224),\n",
        "        transforms.ToTensor(),\n",
        "        transforms.Normalize([0.485, 0.456, 0.406], [0.229, 0.224, 0.225])\n",
        "    ]),\n",
        "    'test':\n",
        "    transforms.Compose([\n",
        "        transforms.Resize(size=256),\n",
        "        transforms.CenterCrop(size=224),\n",
        "        transforms.ToTensor(),\n",
        "        transforms.Normalize([0.485, 0.456, 0.406], [0.229, 0.224, 0.225])\n",
        "    ])\n",
        "}"
      ]
    },
    {
      "cell_type": "code",
      "execution_count": null,
      "metadata": {
        "id": "TrttMIY6PTLO"
      },
      "outputs": [],
      "source": [
        "data = {\n",
        "    'train':\n",
        "    datasets.ImageFolder(root=traindir, transform=image_transforms['train']),\n",
        "    'val':\n",
        "    datasets.ImageFolder(root=validdir, transform=image_transforms['val']),\n",
        "    'test':\n",
        "    datasets.ImageFolder(root=testdir, transform=image_transforms['test'])\n",
        "}"
      ]
    },
    {
      "cell_type": "code",
      "execution_count": null,
      "metadata": {
        "id": "jn1ffZeiPXxi",
        "colab": {
          "base_uri": "https://localhost:8080/"
        },
        "outputId": "f2f07d90-d179-4b8c-cb6a-f4a4ebd4abba"
      },
      "outputs": [
        {
          "output_type": "stream",
          "name": "stderr",
          "text": [
            "/usr/local/lib/python3.9/dist-packages/torchvision/models/_utils.py:208: UserWarning: The parameter 'pretrained' is deprecated since 0.13 and may be removed in the future, please use 'weights' instead.\n",
            "  warnings.warn(\n",
            "/usr/local/lib/python3.9/dist-packages/torchvision/models/_utils.py:223: UserWarning: Arguments other than a weight enum or `None` for 'weights' are deprecated since 0.13 and may be removed in the future. The current behavior is equivalent to passing `weights=VGG16_Weights.IMAGENET1K_V1`. You can also use `weights=VGG16_Weights.DEFAULT` to get the most up-to-date weights.\n",
            "  warnings.warn(msg)\n"
          ]
        },
        {
          "output_type": "stream",
          "name": "stdout",
          "text": [
            "VGG(\n",
            "  (features): Sequential(\n",
            "    (0): Conv2d(3, 64, kernel_size=(3, 3), stride=(1, 1), padding=(1, 1))\n",
            "    (1): ReLU(inplace=True)\n",
            "    (2): Conv2d(64, 64, kernel_size=(3, 3), stride=(1, 1), padding=(1, 1))\n",
            "    (3): ReLU(inplace=True)\n",
            "    (4): MaxPool2d(kernel_size=2, stride=2, padding=0, dilation=1, ceil_mode=False)\n",
            "    (5): Conv2d(64, 128, kernel_size=(3, 3), stride=(1, 1), padding=(1, 1))\n",
            "    (6): ReLU(inplace=True)\n",
            "    (7): Conv2d(128, 128, kernel_size=(3, 3), stride=(1, 1), padding=(1, 1))\n",
            "    (8): ReLU(inplace=True)\n",
            "    (9): MaxPool2d(kernel_size=2, stride=2, padding=0, dilation=1, ceil_mode=False)\n",
            "    (10): Conv2d(128, 256, kernel_size=(3, 3), stride=(1, 1), padding=(1, 1))\n",
            "    (11): ReLU(inplace=True)\n",
            "    (12): Conv2d(256, 256, kernel_size=(3, 3), stride=(1, 1), padding=(1, 1))\n",
            "    (13): ReLU(inplace=True)\n",
            "    (14): Conv2d(256, 256, kernel_size=(3, 3), stride=(1, 1), padding=(1, 1))\n",
            "    (15): ReLU(inplace=True)\n",
            "    (16): MaxPool2d(kernel_size=2, stride=2, padding=0, dilation=1, ceil_mode=False)\n",
            "    (17): Conv2d(256, 512, kernel_size=(3, 3), stride=(1, 1), padding=(1, 1))\n",
            "    (18): ReLU(inplace=True)\n",
            "    (19): Conv2d(512, 512, kernel_size=(3, 3), stride=(1, 1), padding=(1, 1))\n",
            "    (20): ReLU(inplace=True)\n",
            "    (21): Conv2d(512, 512, kernel_size=(3, 3), stride=(1, 1), padding=(1, 1))\n",
            "    (22): ReLU(inplace=True)\n",
            "    (23): MaxPool2d(kernel_size=2, stride=2, padding=0, dilation=1, ceil_mode=False)\n",
            "    (24): Conv2d(512, 512, kernel_size=(3, 3), stride=(1, 1), padding=(1, 1))\n",
            "    (25): ReLU(inplace=True)\n",
            "    (26): Conv2d(512, 512, kernel_size=(3, 3), stride=(1, 1), padding=(1, 1))\n",
            "    (27): ReLU(inplace=True)\n",
            "    (28): Conv2d(512, 512, kernel_size=(3, 3), stride=(1, 1), padding=(1, 1))\n",
            "    (29): ReLU(inplace=True)\n",
            "    (30): MaxPool2d(kernel_size=2, stride=2, padding=0, dilation=1, ceil_mode=False)\n",
            "  )\n",
            "  (avgpool): AdaptiveAvgPool2d(output_size=(7, 7))\n",
            "  (classifier): Sequential(\n",
            "    (0): Linear(in_features=25088, out_features=4096, bias=True)\n",
            "    (1): ReLU(inplace=True)\n",
            "    (2): Dropout(p=0.5, inplace=False)\n",
            "    (3): Linear(in_features=4096, out_features=4096, bias=True)\n",
            "    (4): ReLU(inplace=True)\n",
            "    (5): Dropout(p=0.5, inplace=False)\n",
            "    (6): Linear(in_features=4096, out_features=1000, bias=True)\n",
            "  )\n",
            ")\n"
          ]
        }
      ],
      "source": [
        "# Review the transfer learning model: using VGG-16\n",
        "review_model = models.vgg16(pretrained=True)\n",
        "print(review_model)"
      ]
    },
    {
      "cell_type": "code",
      "execution_count": null,
      "metadata": {
        "id": "HdC9opvjPaJI"
      },
      "outputs": [],
      "source": [
        "# Create our CNN model by modifying the output layer of the transfer learning model\n",
        "def CNN_model(hidden_units, dropout, num_classes):\n",
        "  transfer_model = models.vgg16(pretrained=True)\n",
        "\n",
        "  # freeze the weights from training in the transfer learning model\n",
        "  for param in transfer_model.parameters():\n",
        "    param.requires_grad = False\n",
        "\n",
        "  # define the overall CNN model\n",
        "  model = transfer_model\n",
        "  model.classifier = nn.Sequential(\n",
        "    nn.Linear(in_features=25088, out_features=4096),\n",
        "    nn.ReLU(inplace=True),\n",
        "    nn.Dropout(dropout, inplace=False),\n",
        "    nn.Linear(in_features=4096, out_features=hidden_units),\n",
        "    nn.ReLU(inplace=True),\n",
        "    nn.Dropout(dropout, inplace=False),\n",
        "    nn.Linear(hidden_units, num_classes),\n",
        "    nn.LogSoftmax(dim=1)\n",
        "  )\n",
        "\n",
        "  return model"
      ]
    },
    {
      "cell_type": "code",
      "execution_count": null,
      "metadata": {
        "id": "bLZSthlFPfG_",
        "colab": {
          "base_uri": "https://localhost:8080/"
        },
        "outputId": "1896cbba-4e8f-456e-9ff2-bd71d5d55815"
      },
      "outputs": [
        {
          "output_type": "stream",
          "name": "stdout",
          "text": [
            "VGG(\n",
            "  (features): Sequential(\n",
            "    (0): Conv2d(3, 64, kernel_size=(3, 3), stride=(1, 1), padding=(1, 1))\n",
            "    (1): ReLU(inplace=True)\n",
            "    (2): Conv2d(64, 64, kernel_size=(3, 3), stride=(1, 1), padding=(1, 1))\n",
            "    (3): ReLU(inplace=True)\n",
            "    (4): MaxPool2d(kernel_size=2, stride=2, padding=0, dilation=1, ceil_mode=False)\n",
            "    (5): Conv2d(64, 128, kernel_size=(3, 3), stride=(1, 1), padding=(1, 1))\n",
            "    (6): ReLU(inplace=True)\n",
            "    (7): Conv2d(128, 128, kernel_size=(3, 3), stride=(1, 1), padding=(1, 1))\n",
            "    (8): ReLU(inplace=True)\n",
            "    (9): MaxPool2d(kernel_size=2, stride=2, padding=0, dilation=1, ceil_mode=False)\n",
            "    (10): Conv2d(128, 256, kernel_size=(3, 3), stride=(1, 1), padding=(1, 1))\n",
            "    (11): ReLU(inplace=True)\n",
            "    (12): Conv2d(256, 256, kernel_size=(3, 3), stride=(1, 1), padding=(1, 1))\n",
            "    (13): ReLU(inplace=True)\n",
            "    (14): Conv2d(256, 256, kernel_size=(3, 3), stride=(1, 1), padding=(1, 1))\n",
            "    (15): ReLU(inplace=True)\n",
            "    (16): MaxPool2d(kernel_size=2, stride=2, padding=0, dilation=1, ceil_mode=False)\n",
            "    (17): Conv2d(256, 512, kernel_size=(3, 3), stride=(1, 1), padding=(1, 1))\n",
            "    (18): ReLU(inplace=True)\n",
            "    (19): Conv2d(512, 512, kernel_size=(3, 3), stride=(1, 1), padding=(1, 1))\n",
            "    (20): ReLU(inplace=True)\n",
            "    (21): Conv2d(512, 512, kernel_size=(3, 3), stride=(1, 1), padding=(1, 1))\n",
            "    (22): ReLU(inplace=True)\n",
            "    (23): MaxPool2d(kernel_size=2, stride=2, padding=0, dilation=1, ceil_mode=False)\n",
            "    (24): Conv2d(512, 512, kernel_size=(3, 3), stride=(1, 1), padding=(1, 1))\n",
            "    (25): ReLU(inplace=True)\n",
            "    (26): Conv2d(512, 512, kernel_size=(3, 3), stride=(1, 1), padding=(1, 1))\n",
            "    (27): ReLU(inplace=True)\n",
            "    (28): Conv2d(512, 512, kernel_size=(3, 3), stride=(1, 1), padding=(1, 1))\n",
            "    (29): ReLU(inplace=True)\n",
            "    (30): MaxPool2d(kernel_size=2, stride=2, padding=0, dilation=1, ceil_mode=False)\n",
            "  )\n",
            "  (avgpool): AdaptiveAvgPool2d(output_size=(7, 7))\n",
            "  (classifier): Sequential(\n",
            "    (0): Linear(in_features=25088, out_features=4096, bias=True)\n",
            "    (1): ReLU(inplace=True)\n",
            "    (2): Dropout(p=0.4, inplace=False)\n",
            "    (3): Linear(in_features=4096, out_features=256, bias=True)\n",
            "    (4): ReLU(inplace=True)\n",
            "    (5): Dropout(p=0.4, inplace=False)\n",
            "    (6): Linear(in_features=256, out_features=4, bias=True)\n",
            "    (7): LogSoftmax(dim=1)\n",
            "  )\n",
            ")\n"
          ]
        }
      ],
      "source": [
        "\n",
        "# Test model creation\n",
        "test_model = CNN_model(256, 0.4, 4)\n",
        "print(test_model)"
      ]
    },
    {
      "cell_type": "code",
      "execution_count": null,
      "metadata": {
        "id": "2z2MvJuMPhJo"
      },
      "outputs": [],
      "source": [
        "# Define a class to build run execution sets based on a dictionary of hyperparameters\n",
        "class RunBuilder():\n",
        "  @staticmethod\n",
        "  def get_runs(params):\n",
        "    Run = namedtuple('Run', params.keys())\n",
        "    runs = []\n",
        "    for v in product(*params.values()):\n",
        "      runs.append(Run(*v))\n",
        "    return runs"
      ]
    },
    {
      "cell_type": "code",
      "execution_count": null,
      "metadata": {
        "id": "LLgF2qEPPlq0"
      },
      "outputs": [],
      "source": [
        "# Create a class to manage the training / hyperparameter runs\n",
        "class RunManager():\n",
        "  def __init__(self):\n",
        "    self.epoch_count = 0\n",
        "    self.train_loss = 0\n",
        "    self.train_num_correct = 0\n",
        "    self.val_loss = 0\n",
        "    self.val_num_correct = 0\n",
        "\n",
        "    self.run_params = None\n",
        "    self.run_count = 0\n",
        "    self.run_data = []\n",
        "\n",
        "    self.model = None\n",
        "    self.train_loader = None\n",
        "    self.val_loader = None\n",
        "    self.tb = None\n",
        "\n",
        "  def begin_run(self, run, model, train_loader, val_loader):\n",
        "    self.run_params = run\n",
        "    self.run_count += 1\n",
        "    self.model = model.to(device)\n",
        "    self.train_loader = train_loader\n",
        "    self.val_loader = val_loader\n",
        "    self.tb = SummaryWriter(log_dir=traindir + '/runs', max_queue=20, comment=f'-{run}')\n",
        "    images, labels = next(iter(self.train_loader))\n",
        "    images, labels = images.to(device), labels.to(device)\n",
        "    self.tb.add_graph(self.model, images)\n",
        "\n",
        "  def end_run(self):\n",
        "    self.tb.close()\n",
        "    self.epoch_count = 0\n",
        "\n",
        "  def begin_epoch(self):\n",
        "    self.epoch_count += 1\n",
        "    self.train_loss = 0\n",
        "    self.train_num_correct = 0\n",
        "    self.val_loss = 0\n",
        "    self.val_num_correct = 0\n",
        "\n",
        "  def end_epoch(self):\n",
        "    train_loss = self.train_loss / len(self.train_loader.dataset)\n",
        "    train_accuracy = self.train_num_correct / len(self.train_loader.dataset)\n",
        "    val_loss = self.val_loss / len(self.val_loader.dataset)\n",
        "    val_accuracy = self.val_num_correct / len(self.val_loader.dataset)\n",
        "\n",
        "    self.tb.add_scalar('Train Loss', train_loss, self.epoch_count)\n",
        "    self.tb.add_scalar('Train Accuracy', train_accuracy, self.epoch_count)\n",
        "    self.tb.add_scalar('Val Loss', val_loss, self.epoch_count)\n",
        "    self.tb.add_scalar('Val Accuracy', val_accuracy, self.epoch_count)\n",
        "\n",
        "    for name, param in self.model.named_parameters():\n",
        "      self.tb.add_histogram(name, param, self.epoch_count)\n",
        "      #self.tb.add_histogram(f'{name}.grad', param.grad, self.epoch_count)\n",
        "\n",
        "    print(f'Epoch: {self.epoch_count}, Train Loss: {train_loss:.3f}, Train Acc: {train_accuracy:.3f}')\n",
        "    print(f'Epoch: {self.epoch_count}, Valid Loss: {val_loss:.3f}, Valid Acc: {val_accuracy:.3f}')\n",
        "\n",
        "    results = OrderedDict()\n",
        "    results['run'] = self.run_count\n",
        "    results['epoch'] = self.epoch_count\n",
        "    results['train loss'] = train_loss\n",
        "    results['train acc'] = train_accuracy\n",
        "    results['valid loss'] = val_loss\n",
        "    results['valid acc'] = val_accuracy\n",
        "\n",
        "    for k, v in self.run_params._asdict().items():\n",
        "      results[k] = v\n",
        "\n",
        "    self.run_data.append(results)\n",
        "\n",
        "  def track_loss(self, loss, mode):\n",
        "    if mode == 'train':\n",
        "      self.train_loss += loss.item() * self.train_loader.batch_size\n",
        "    elif mode == 'val':\n",
        "      self.val_loss += loss.item() * self.val_loader.batch_size\n",
        "\n",
        "  def track_num_correct(self, preds, labels, mode):\n",
        "    if mode == 'train':\n",
        "      self.train_num_correct += preds.argmax(dim=1).eq(labels).sum().item()\n",
        "    elif mode == 'val':\n",
        "      self.val_num_correct += preds.argmax(dim=1).eq(labels).sum().item()\n",
        "\n",
        "  def save_output(self, filename):\n",
        "    if filename:\n",
        "      filename = traindir + filename\n",
        "      pd.DataFrame.from_dict(self.run_data, orient='columns').to_csv(f'{filename}.csv')\n",
        "\n",
        "      # with open(f'{filename}.json', 'w', encoding='utf-8') as f:\n",
        "      #   json.dump(self.run_data, f, ensure_ascii=False, indent=4)\n",
        "\n",
        "      print('Results saved to disk')\n",
        "\n",
        "    return pd.DataFrame.from_dict(self.run_data, orient='columns')\n"
      ]
    },
    {
      "cell_type": "code",
      "execution_count": null,
      "metadata": {
        "id": "XPJmwPOrPqoA"
      },
      "outputs": [],
      "source": [
        "# Define training loop execution\n",
        "def execution_loop(filename):\n",
        "  m = RunManager()\n",
        "  for run in RunBuilder.get_runs(params):\n",
        "\n",
        "    # instantiate the neural network model\n",
        "    model = CNN_model(run.hidden_units, run.dropout, run.num_classes)\n",
        "    optimizer = Adam(model.parameters(), lr=run.lr)\n",
        "\n",
        "    # Define the data loaders\n",
        "    dataloaders = {\n",
        "        'train': DataLoader(data['train'], batch_size=run.batch_size, shuffle=True, num_workers=1),\n",
        "        'val': DataLoader(data['val'], batch_size=run.batch_size, shuffle=False, num_workers=1)\n",
        "    }\n",
        "\n",
        "    train_loader = dataloaders['train']\n",
        "    val_loader = dataloaders['val']\n",
        "\n",
        "    m.begin_run(run, model, train_loader, val_loader)\n",
        "    for epoch in range(run.n_epochs):\n",
        "      m.begin_epoch()\n",
        "      for batch in train_loader:\n",
        "        with torch.set_grad_enabled(True):\n",
        "          # get inputs/targets and move tensors to GPU\n",
        "          images, labels = batch[0].to(device), batch[1].to(device)\n",
        "          # clear previous gradients\n",
        "          optimizer.zero_grad()\n",
        "          # make prediction\n",
        "          yhat = model(images)\n",
        "          # calculate the loss\n",
        "          loss = F.nll_loss(yhat, labels)\n",
        "          # perform back prop\n",
        "          loss.backward()\n",
        "          # update model weights\n",
        "          optimizer.step()\n",
        "\n",
        "          m.track_loss(loss, 'train')\n",
        "          m.track_num_correct(yhat, labels, 'train')\n",
        "\n",
        "      else:\n",
        "        with torch.no_grad():\n",
        "          for batch in val_loader:\n",
        "            images, labels = batch[0].to(device), batch[1].to(device)\n",
        "            output = model(images)\n",
        "            loss = F.nll_loss(output, labels)\n",
        "\n",
        "            m.track_loss(loss, 'val')\n",
        "            m.track_num_correct(output, labels, 'val')\n",
        "\n",
        "      m.end_epoch()\n",
        "    m.end_run()\n",
        "  return model, m.save_output(filename)"
      ]
    },
    {
      "cell_type": "code",
      "execution_count": null,
      "metadata": {
        "id": "1HZRCmocPvPh"
      },
      "outputs": [],
      "source": [
        "# Define training run hyperparameters\n",
        "params = OrderedDict(\n",
        "    hidden_units = [256, 512],\n",
        "    dropout = [0.4, 0.5],\n",
        "    num_classes = [4],\n",
        "    lr = [0.001],\n",
        "    batch_size = [25],\n",
        "    n_epochs = [15]\n",
        ")"
      ]
    },
    {
      "cell_type": "code",
      "execution_count": null,
      "metadata": {
        "id": "Fmwla16rPxqU",
        "colab": {
          "base_uri": "https://localhost:8080/"
        },
        "outputId": "f4639fc6-8faf-4269-d52f-6edbeb27374c"
      },
      "outputs": [
        {
          "output_type": "stream",
          "name": "stdout",
          "text": [
            "Epoch: 1, Train Loss: 1.785, Train Acc: 0.302\n",
            "Epoch: 1, Valid Loss: 1.376, Valid Acc: 0.376\n",
            "Epoch: 2, Train Loss: 1.256, Train Acc: 0.403\n",
            "Epoch: 2, Valid Loss: 1.342, Valid Acc: 0.384\n",
            "Epoch: 3, Train Loss: 1.153, Train Acc: 0.448\n",
            "Epoch: 3, Valid Loss: 1.101, Valid Acc: 0.515\n",
            "Epoch: 4, Train Loss: 1.057, Train Acc: 0.509\n",
            "Epoch: 4, Valid Loss: 1.167, Valid Acc: 0.478\n",
            "Epoch: 5, Train Loss: 0.919, Train Acc: 0.583\n",
            "Epoch: 5, Valid Loss: 0.924, Valid Acc: 0.629\n",
            "Epoch: 6, Train Loss: 0.860, Train Acc: 0.639\n",
            "Epoch: 6, Valid Loss: 0.917, Valid Acc: 0.604\n",
            "Epoch: 7, Train Loss: 0.721, Train Acc: 0.690\n",
            "Epoch: 7, Valid Loss: 0.872, Valid Acc: 0.631\n",
            "Epoch: 8, Train Loss: 0.655, Train Acc: 0.735\n",
            "Epoch: 8, Valid Loss: 0.698, Valid Acc: 0.757\n",
            "Epoch: 9, Train Loss: 0.580, Train Acc: 0.769\n",
            "Epoch: 9, Valid Loss: 0.814, Valid Acc: 0.668\n",
            "Epoch: 10, Train Loss: 0.484, Train Acc: 0.826\n",
            "Epoch: 10, Valid Loss: 0.859, Valid Acc: 0.745\n",
            "Epoch: 11, Train Loss: 0.455, Train Acc: 0.833\n",
            "Epoch: 11, Valid Loss: 0.454, Valid Acc: 0.854\n",
            "Epoch: 12, Train Loss: 0.383, Train Acc: 0.866\n",
            "Epoch: 12, Valid Loss: 0.452, Valid Acc: 0.849\n",
            "Epoch: 13, Train Loss: 0.351, Train Acc: 0.869\n",
            "Epoch: 13, Valid Loss: 0.557, Valid Acc: 0.827\n",
            "Epoch: 14, Train Loss: 0.370, Train Acc: 0.864\n",
            "Epoch: 14, Valid Loss: 0.425, Valid Acc: 0.864\n",
            "Epoch: 15, Train Loss: 0.242, Train Acc: 0.914\n",
            "Epoch: 15, Valid Loss: 0.373, Valid Acc: 0.879\n",
            "Epoch: 1, Train Loss: 1.891, Train Acc: 0.307\n",
            "Epoch: 1, Valid Loss: 1.438, Valid Acc: 0.317\n",
            "Epoch: 2, Train Loss: 1.316, Train Acc: 0.382\n",
            "Epoch: 2, Valid Loss: 1.250, Valid Acc: 0.455\n",
            "Epoch: 3, Train Loss: 1.239, Train Acc: 0.395\n",
            "Epoch: 3, Valid Loss: 1.248, Valid Acc: 0.443\n",
            "Epoch: 4, Train Loss: 1.163, Train Acc: 0.470\n",
            "Epoch: 4, Valid Loss: 1.188, Valid Acc: 0.421\n",
            "Epoch: 5, Train Loss: 1.066, Train Acc: 0.486\n",
            "Epoch: 5, Valid Loss: 1.209, Valid Acc: 0.495\n",
            "Epoch: 6, Train Loss: 1.084, Train Acc: 0.505\n",
            "Epoch: 6, Valid Loss: 1.186, Valid Acc: 0.512\n",
            "Epoch: 7, Train Loss: 1.024, Train Acc: 0.553\n",
            "Epoch: 7, Valid Loss: 1.060, Valid Acc: 0.542\n",
            "Epoch: 8, Train Loss: 0.945, Train Acc: 0.581\n",
            "Epoch: 8, Valid Loss: 0.899, Valid Acc: 0.582\n",
            "Epoch: 9, Train Loss: 0.882, Train Acc: 0.608\n",
            "Epoch: 9, Valid Loss: 1.034, Valid Acc: 0.599\n",
            "Epoch: 10, Train Loss: 0.838, Train Acc: 0.652\n",
            "Epoch: 10, Valid Loss: 0.998, Valid Acc: 0.606\n",
            "Epoch: 11, Train Loss: 0.819, Train Acc: 0.679\n",
            "Epoch: 11, Valid Loss: 0.789, Valid Acc: 0.641\n",
            "Epoch: 12, Train Loss: 0.748, Train Acc: 0.706\n",
            "Epoch: 12, Valid Loss: 0.806, Valid Acc: 0.691\n",
            "Epoch: 13, Train Loss: 0.733, Train Acc: 0.704\n",
            "Epoch: 13, Valid Loss: 0.767, Valid Acc: 0.691\n",
            "Epoch: 14, Train Loss: 0.646, Train Acc: 0.748\n",
            "Epoch: 14, Valid Loss: 0.603, Valid Acc: 0.780\n",
            "Epoch: 15, Train Loss: 0.567, Train Acc: 0.789\n",
            "Epoch: 15, Valid Loss: 0.614, Valid Acc: 0.785\n",
            "Epoch: 1, Train Loss: 1.911, Train Acc: 0.368\n",
            "Epoch: 1, Valid Loss: 1.232, Valid Acc: 0.460\n",
            "Epoch: 2, Train Loss: 1.121, Train Acc: 0.507\n",
            "Epoch: 2, Valid Loss: 1.148, Valid Acc: 0.559\n",
            "Epoch: 3, Train Loss: 0.885, Train Acc: 0.651\n",
            "Epoch: 3, Valid Loss: 0.949, Valid Acc: 0.639\n",
            "Epoch: 4, Train Loss: 0.693, Train Acc: 0.717\n",
            "Epoch: 4, Valid Loss: 1.009, Valid Acc: 0.646\n",
            "Epoch: 5, Train Loss: 0.636, Train Acc: 0.793\n",
            "Epoch: 5, Valid Loss: 0.828, Valid Acc: 0.725\n",
            "Epoch: 6, Train Loss: 0.598, Train Acc: 0.785\n",
            "Epoch: 6, Valid Loss: 0.665, Valid Acc: 0.797\n",
            "Epoch: 7, Train Loss: 0.483, Train Acc: 0.821\n",
            "Epoch: 7, Valid Loss: 0.449, Valid Acc: 0.896\n",
            "Epoch: 8, Train Loss: 0.302, Train Acc: 0.888\n",
            "Epoch: 8, Valid Loss: 0.237, Valid Acc: 0.936\n",
            "Epoch: 9, Train Loss: 0.299, Train Acc: 0.900\n",
            "Epoch: 9, Valid Loss: 0.309, Valid Acc: 0.884\n",
            "Epoch: 10, Train Loss: 0.231, Train Acc: 0.913\n",
            "Epoch: 10, Valid Loss: 0.404, Valid Acc: 0.899\n",
            "Epoch: 11, Train Loss: 0.223, Train Acc: 0.913\n",
            "Epoch: 11, Valid Loss: 0.515, Valid Acc: 0.874\n",
            "Epoch: 12, Train Loss: 0.150, Train Acc: 0.953\n",
            "Epoch: 12, Valid Loss: 0.354, Valid Acc: 0.906\n",
            "Epoch: 13, Train Loss: 0.198, Train Acc: 0.934\n",
            "Epoch: 13, Valid Loss: 0.229, Valid Acc: 0.933\n",
            "Epoch: 14, Train Loss: 0.178, Train Acc: 0.946\n",
            "Epoch: 14, Valid Loss: 0.338, Valid Acc: 0.903\n",
            "Epoch: 15, Train Loss: 0.193, Train Acc: 0.941\n",
            "Epoch: 15, Valid Loss: 0.462, Valid Acc: 0.906\n",
            "Epoch: 1, Train Loss: 2.074, Train Acc: 0.367\n",
            "Epoch: 1, Valid Loss: 1.419, Valid Acc: 0.512\n",
            "Epoch: 2, Train Loss: 1.165, Train Acc: 0.507\n",
            "Epoch: 2, Valid Loss: 1.097, Valid Acc: 0.554\n",
            "Epoch: 3, Train Loss: 0.964, Train Acc: 0.606\n",
            "Epoch: 3, Valid Loss: 0.956, Valid Acc: 0.681\n",
            "Epoch: 4, Train Loss: 0.814, Train Acc: 0.676\n",
            "Epoch: 4, Valid Loss: 0.999, Valid Acc: 0.666\n",
            "Epoch: 5, Train Loss: 0.664, Train Acc: 0.734\n",
            "Epoch: 5, Valid Loss: 0.983, Valid Acc: 0.683\n",
            "Epoch: 6, Train Loss: 0.615, Train Acc: 0.774\n",
            "Epoch: 6, Valid Loss: 0.881, Valid Acc: 0.750\n",
            "Epoch: 7, Train Loss: 0.503, Train Acc: 0.827\n",
            "Epoch: 7, Valid Loss: 0.592, Valid Acc: 0.765\n",
            "Epoch: 8, Train Loss: 0.479, Train Acc: 0.831\n",
            "Epoch: 8, Valid Loss: 0.632, Valid Acc: 0.797\n",
            "Epoch: 9, Train Loss: 0.489, Train Acc: 0.838\n",
            "Epoch: 9, Valid Loss: 0.671, Valid Acc: 0.804\n",
            "Epoch: 10, Train Loss: 0.453, Train Acc: 0.843\n",
            "Epoch: 10, Valid Loss: 0.621, Valid Acc: 0.827\n",
            "Epoch: 11, Train Loss: 0.348, Train Acc: 0.875\n",
            "Epoch: 11, Valid Loss: 0.434, Valid Acc: 0.861\n",
            "Epoch: 12, Train Loss: 0.263, Train Acc: 0.913\n",
            "Epoch: 12, Valid Loss: 0.475, Valid Acc: 0.851\n",
            "Epoch: 13, Train Loss: 0.309, Train Acc: 0.906\n",
            "Epoch: 13, Valid Loss: 0.366, Valid Acc: 0.891\n",
            "Epoch: 14, Train Loss: 0.280, Train Acc: 0.919\n",
            "Epoch: 14, Valid Loss: 0.465, Valid Acc: 0.859\n",
            "Epoch: 15, Train Loss: 0.298, Train Acc: 0.906\n",
            "Epoch: 15, Valid Loss: 0.203, Valid Acc: 0.921\n",
            "Results saved to disk\n"
          ]
        }
      ],
      "source": [
        "model, history = execution_loop('Run_Results')"
      ]
    },
    {
      "cell_type": "code",
      "execution_count": null,
      "metadata": {
        "id": "ez7wdANySm0V",
        "colab": {
          "base_uri": "https://localhost:8080/",
          "height": 243
        },
        "outputId": "8be4d71a-eb30-4852-fdb5-1fa3360d1797"
      },
      "outputs": [
        {
          "output_type": "display_data",
          "data": {
            "text/plain": [
              "<Figure size 576x216 with 1 Axes>"
            ],
            "image/png": "[encoded data removed]"
          },
          "metadata": {
            "needs_background": "light"
          }
        }
      ],
      "source": [
        "# View single run loss curves\n",
        "plt.figure(figsize=(8, 3))\n",
        "plt.plot(history['train loss'], label='Training', linewidth=3)\n",
        "plt.plot(history['valid loss'], label='Validation', linewidth=3)\n",
        "plt.title('Training and Validation Losses', fontsize=16)\n",
        "plt.ylabel('Average Negative Log Likelihood')\n",
        "plt.xlabel('Epoch')\n",
        "plt.legend(loc='upper right')\n",
        "plt.show();"
      ]
    },
    {
      "cell_type": "code",
      "execution_count": null,
      "metadata": {
        "id": "o_AJcyXoTAN0",
        "colab": {
          "base_uri": "https://localhost:8080/",
          "height": 243
        },
        "outputId": "625cc893-52e0-465f-9b7a-84faa6ce254e"
      },
      "outputs": [
        {
          "output_type": "display_data",
          "data": {
            "text/plain": [
              "<Figure size 576x216 with 1 Axes>"
            ],
            "image/png": "[encoded data removed]"
          },
          "metadata": {
            "needs_background": "light"
          }
        }
      ],
      "source": [
        "# View single run accuracy curves\n",
        "plt.figure(figsize=(8, 3))\n",
        "plt.plot(history['train acc'], label='Training', linewidth=3)\n",
        "plt.plot(history['valid acc'], label='Validation', linewidth=3)\n",
        "plt.title('Training and Validation Accuracy', fontsize=16)\n",
        "plt.ylabel('Average Accuracy')\n",
        "plt.xlabel('Epoch')\n",
        "plt.legend(loc='lower right')\n",
        "plt.show();\n",
        ""
      ]
    },
    {
      "cell_type": "code",
      "execution_count": null,
      "metadata": {
        "id": "hiX7ly_VPz0H"
      },
      "outputs": [],
      "source": [
        "# Function to evaluate the model on the test set\n",
        "from sklearn.metrics import accuracy_score\n",
        "from sklearn.metrics import f1_score\n",
        "from sklearn import metrics\n",
        "def evaluate_model(test_dl, model):\n",
        "    device='cpu'\n",
        "    model=model.to(device)\n",
        "    predictions, actuals = list(), list()\n",
        "    for i, (inputs, targets) in enumerate(test_dl):\n",
        "        # evaluate the model on the test set\n",
        "        inputs = inputs.to(device)\n",
        "        targets = targets.to(device)\n",
        "        yhat = model(inputs)\n",
        "\n",
        "        # retrieve numpy array\n",
        "        yhat = yhat.detach().numpy()\n",
        "        yhat=np.argmax(yhat, axis=1)\n",
        "       # yhat = torch.argmax(yhat,axis=1)\n",
        "        #actual = targets.cpu().data.numpy().argmax()\n",
        "        actual = targets.numpy()\n",
        "        actual = actual.reshape((len(actual), 1))\n",
        "        # round to class values\n",
        "        yhat = yhat.round()\n",
        "        #print(yhat)\n",
        "        #print(actual)\n",
        "        #yhat.numpy()\n",
        "        # store\n",
        "        yhat=yhat.tolist()\n",
        "        predictions.append(yhat)\n",
        "        actuals.append(actual)\n",
        "    #print(predictions)\n",
        "    #print(actuals)\n",
        "    #print(predictions,actuals)\n",
        "    #predictions = predictions.\n",
        "    actuals =np.vstack(actuals)\n",
        "    #print(actuals)\n",
        "    #print(predictions.shape,actuals.shape)\n",
        "    #act = actuals.flatten()\n",
        "    act = list(np.concatenate(actuals))\n",
        "    pred = list(np.concatenate(predictions))\n",
        "    #print(pred)\n",
        "    #print(act)\n",
        "    #print(len(pred),len(act))\n",
        "    # calculate accuracy\n",
        "    acc = accuracy_score(act, pred)\n",
        "    f1 = f1_score(act, pred,average='weighted')\n",
        "    class_labels=['HER2', 'Luminal', 'Triple', 'ER_PR_HER2']\n",
        "    report = metrics.classification_report(act, pred, target_names=class_labels)\n",
        "    print(report)\n",
        "    return acc,f1"
      ]
    },
    {
      "cell_type": "code",
      "execution_count": null,
      "metadata": {
        "id": "77NxTsvGNsZp",
        "colab": {
          "base_uri": "https://localhost:8080/"
        },
        "outputId": "bccb5cb6-5c83-456b-ab6f-a570d6d1cd52"
      },
      "outputs": [
        {
          "output_type": "stream",
          "name": "stdout",
          "text": [
            "              precision    recall  f1-score   support\n",
            "\n",
            "        HER2       0.97      0.94      0.95       201\n",
            "     Luminal       0.96      0.98      0.97       201\n",
            "      Triple       0.90      0.85      0.87       201\n",
            "  ER_PR_HER2       0.84      0.91      0.87       201\n",
            "\n",
            "    accuracy                           0.92       804\n",
            "   macro avg       0.92      0.92      0.92       804\n",
            "weighted avg       0.92      0.92      0.92       804\n",
            "\n",
            "--Evaluation Metrics--\n",
            "Test Accuracy:  0.9166666666666666\n",
            "F1 Score:  0.9168057689293903\n"
          ]
        }
      ],
      "source": [
        "test_dl = DataLoader(data['test'], batch_size=25, shuffle=False, num_workers=1)\n",
        "#evaluate_model(test_dl, model)\n",
        "\n",
        "test_acc, test_f1 = evaluate_model(test_dl, model)\n",
        "print(\"--Evaluation Metrics--\")\n",
        "print(\"Test Accuracy: \",test_acc)\n",
        "print(\"F1 Score: \",test_f1)\n"
      ]
    },
    {
      "cell_type": "code",
      "execution_count": null,
      "metadata": {
        "id": "ZY_Dit81xCaS"
      },
      "outputs": [],
      "source": []
    }
  ],
  "metadata": {
    "colab": {
      "provenance": []
    },
    "kernelspec": {
      "display_name": "Python 3",
      "name": "python3"
    },
    "language_info": {
      "name": "python"
    },
    "accelerator": "GPU",
    "gpuClass": "standard"
  },
  "nbformat": 4,
  "nbformat_minor": 0
}